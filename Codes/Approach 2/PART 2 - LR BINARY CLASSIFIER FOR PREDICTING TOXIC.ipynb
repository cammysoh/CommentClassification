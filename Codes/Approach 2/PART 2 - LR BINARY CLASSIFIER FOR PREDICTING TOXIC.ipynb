{
 "cells": [
  {
   "cell_type": "code",
   "execution_count": 1,
   "metadata": {
    "ExecuteTime": {
     "end_time": "2019-11-24T05:03:05.242316Z",
     "start_time": "2019-11-24T05:02:57.774146Z"
    }
   },
   "outputs": [
    {
     "name": "stderr",
     "output_type": "stream",
     "text": [
      "/home/lac-user/Madhura/ANACONDA_FOLDER/anaconda3/lib/python3.7/site-packages/sklearn/externals/joblib/__init__.py:15: DeprecationWarning: sklearn.externals.joblib is deprecated in 0.21 and will be removed in 0.23. Please import this functionality directly from joblib, which can be installed with: pip install joblib. If this warning is raised when loading pickled models, you may need to re-serialize those models with scikit-learn 0.21+.\n",
      "  warnings.warn(msg, category=DeprecationWarning)\n"
     ]
    }
   ],
   "source": [
    "# importing libraries\n",
    "\n",
    "import pandas as pd\n",
    "import numpy as np\n",
    "from sklearn.model_selection import train_test_split\n",
    "from sklearn.base import BaseEstimator, TransformerMixin\n",
    "from sklearn.pipeline import Pipeline\n",
    "from sklearn.feature_extraction.text import TfidfVectorizer, CountVectorizer\n",
    "from sklearn.preprocessing import StandardScaler\n",
    "from sklearn.pipeline import FeatureUnion\n",
    "from sklearn.linear_model import LogisticRegression\n",
    "from sklearn.metrics import confusion_matrix, accuracy_score, classification_report, precision_recall_fscore_support\n",
    "from sklearn.externals import joblib\n",
    "import matplotlib.pyplot as plt\n",
    "import warnings\n",
    "\n",
    "%config InlineBackend.figure_format='retina'\n",
    "warnings.filterwarnings(\"ignore\")"
   ]
  },
  {
   "cell_type": "code",
   "execution_count": 2,
   "metadata": {
    "ExecuteTime": {
     "end_time": "2019-11-24T05:03:05.282886Z",
     "start_time": "2019-11-24T05:03:05.247234Z"
    }
   },
   "outputs": [],
   "source": [
    "# defining functions\n",
    "\n",
    "def Get_Feature_Importances(pipeline):\n",
    "    feature_names = pipeline.named_steps['features'].transformer_list[0][1].named_steps['vectorizer'].get_feature_names()\n",
    "    feature_names.extend(['word_count', 'char_count', 'word_density', 'total_length', 'capitals', 'caps_vs_length', 'num_exclamation_marks' ,'num_unique_words', 'words_vs_unique'])\n",
    "    #print(len(feature_names))\n",
    "    \n",
    "    coefficients = pipeline[1].coef_\n",
    "\n",
    "    importances = []\n",
    "    for coef in coefficients:\n",
    "        importances.append(list(coefficients[0]))\n",
    "    importances = importances[0]\n",
    "    #print(len(importances))\n",
    "    #print(importances)\n",
    "    \n",
    "    feature_importances = dict()\n",
    "    for i in range(len(feature_names)):\n",
    "        feature_importances[feature_names[i]] = importances[i]\n",
    "        #print(importances[i])\n",
    "\n",
    "    #print(len(feature_importances))\n",
    "    #print(feature_importances)\n",
    "    \n",
    "    return feature_importances\n",
    "\n",
    "def Plot_Feature_Importances(feature_importances, top_features=10):\n",
    "    top_positive_coefficients = dict(sorted(feature_importances.items(), key=lambda x: x[1], reverse=True)[:top_features])\n",
    "    top_negative_coefficients = dict(sorted(feature_importances.items(), key=lambda x: x[1], reverse=False)[:top_features])\n",
    "    top_coefficients = {**top_positive_coefficients , **top_negative_coefficients}\n",
    "    top_coefficients = dict(sorted(top_coefficients.items(), key=lambda x: x[1], reverse=False))\n",
    "    #type(top_coefficients)\n",
    "    #top_coefficients\n",
    "\n",
    "    plt.figure(figsize=(15, 5))\n",
    "    colors = ['red' if c < 0 else 'blue' for c in top_coefficients.values()]\n",
    "    plt.bar(np.arange(2 * top_features)+1, top_coefficients.values(), color=colors)\n",
    "    feature_names = list(top_coefficients.keys())\n",
    "    plt.xticks(np.arange(1, 1 + 2 * top_features), feature_names, rotation=60, ha='right')\n",
    "    plt.title('Feature Importances')\n",
    "    plt.show()"
   ]
  },
  {
   "cell_type": "code",
   "execution_count": 3,
   "metadata": {
    "ExecuteTime": {
     "end_time": "2019-11-24T05:03:06.449915Z",
     "start_time": "2019-11-24T05:03:05.288509Z"
    }
   },
   "outputs": [
    {
     "data": {
      "text/plain": [
       "(54870, 19)"
      ]
     },
     "execution_count": 3,
     "metadata": {},
     "output_type": "execute_result"
    }
   ],
   "source": [
    "# read the data\n",
    "\n",
    "df = pd.read_csv('sampdf_feat.csv')\n",
    "df.shape"
   ]
  },
  {
   "cell_type": "code",
   "execution_count": 4,
   "metadata": {
    "ExecuteTime": {
     "end_time": "2019-11-24T05:03:06.470382Z",
     "start_time": "2019-11-24T05:03:06.454903Z"
    }
   },
   "outputs": [],
   "source": [
    "# Create X and y dataframe\n",
    "\n",
    "X = df.loc[:, ['cleaned_comment_text', 'word_count', 'char_count', 'word_density', 'total_length',\n",
    "               'capitals', 'caps_vs_length', 'num_exclamation_marks', 'num_unique_words', 'words_vs_unique'\n",
    "               ]]\n",
    "y = df['toxic']"
   ]
  },
  {
   "cell_type": "code",
   "execution_count": 5,
   "metadata": {
    "ExecuteTime": {
     "end_time": "2019-11-24T05:03:06.510259Z",
     "start_time": "2019-11-24T05:03:06.473824Z"
    }
   },
   "outputs": [
    {
     "name": "stdout",
     "output_type": "stream",
     "text": [
      "X_train: (43896, 10)\n",
      "y_train: (43896,)\n",
      "X_test: (10974, 10)\n",
      "y_test: (10974,)\n"
     ]
    }
   ],
   "source": [
    "#Split train and test data\n",
    "X_train, X_test, y_train, y_test = train_test_split(X, y, test_size=0.20, random_state=2019)\n",
    "\n",
    "print(\"X_train:\", X_train.shape)\n",
    "print(\"y_train:\", y_train.shape)\n",
    "print(\"X_test:\", X_test.shape)\n",
    "print(\"y_test:\", y_test.shape)"
   ]
  },
  {
   "cell_type": "code",
   "execution_count": 6,
   "metadata": {
    "ExecuteTime": {
     "end_time": "2019-11-24T05:03:06.522586Z",
     "start_time": "2019-11-24T05:03:06.512616Z"
    }
   },
   "outputs": [],
   "source": [
    "# define classes for selecting features\n",
    "\n",
    "class TextSelector(BaseEstimator, TransformerMixin):\n",
    "    \"\"\"\n",
    "    Transformer to select a single column from the data frame to perform additional transformations on\n",
    "    Use on text columns in the data\n",
    "    \"\"\"\n",
    "    def __init__(self, key):\n",
    "        self.key = key\n",
    "\n",
    "    def fit(self, X, y=None):\n",
    "        return self\n",
    "\n",
    "    def transform(self, X):\n",
    "        return X[self.key]\n",
    "    \n",
    "class NumberSelector(BaseEstimator, TransformerMixin):\n",
    "    \"\"\"\n",
    "    Transformer to select a single column from the data frame to perform additional transformations on\n",
    "    Use on numeric columns in the data\n",
    "    \"\"\"\n",
    "    def __init__(self, key):\n",
    "        self.key = key\n",
    "\n",
    "    def fit(self, X, y=None):\n",
    "        return self\n",
    "\n",
    "    def transform(self, X):\n",
    "        return X[[self.key]]"
   ]
  },
  {
   "cell_type": "code",
   "execution_count": 7,
   "metadata": {
    "ExecuteTime": {
     "end_time": "2019-11-24T05:03:06.602071Z",
     "start_time": "2019-11-24T05:03:06.526823Z"
    }
   },
   "outputs": [
    {
     "data": {
      "text/plain": [
       "array([[ 0.78208655],\n",
       "       [ 0.78208655],\n",
       "       [ 0.78208655],\n",
       "       ...,\n",
       "       [ 0.78208655],\n",
       "       [-0.89978405],\n",
       "       [-0.25291074]])"
      ]
     },
     "execution_count": 7,
     "metadata": {},
     "output_type": "execute_result"
    }
   ],
   "source": [
    "# creating separate Pipelines for each feature\n",
    "\n",
    "word_count =  Pipeline([\n",
    "                ('selector', NumberSelector(key='word_count')),\n",
    "                ('standard', StandardScaler())\n",
    "            ])\n",
    "\n",
    "word_count.fit_transform(X_train)\n",
    "\n",
    "char_count =  Pipeline([\n",
    "                ('selector', NumberSelector(key='char_count')),\n",
    "                ('standard', StandardScaler())\n",
    "            ])\n",
    "\n",
    "char_count.fit_transform(X_train)\n",
    "\n",
    "word_density =  Pipeline([\n",
    "                ('selector', NumberSelector(key='word_density')),\n",
    "                ('standard', StandardScaler())\n",
    "            ])\n",
    "\n",
    "word_density.fit_transform(X_train)\n",
    "\n",
    "total_length =  Pipeline([\n",
    "                ('selector', NumberSelector(key='total_length')),\n",
    "                ('standard', StandardScaler())\n",
    "            ])\n",
    "\n",
    "total_length.fit_transform(X_train)\n",
    "\n",
    "capitals =  Pipeline([\n",
    "                ('selector', NumberSelector(key='capitals')),\n",
    "                ('standard', StandardScaler())\n",
    "            ])\n",
    "\n",
    "capitals.fit_transform(X_train)\n",
    "\n",
    "caps_vs_length =  Pipeline([\n",
    "                ('selector', NumberSelector(key='caps_vs_length')),\n",
    "                ('standard', StandardScaler())\n",
    "            ])\n",
    "\n",
    "caps_vs_length.fit_transform(X_train)\n",
    "\n",
    "num_exclamation_marks =  Pipeline([\n",
    "                ('selector', NumberSelector(key='num_exclamation_marks')),\n",
    "                ('standard', StandardScaler())\n",
    "            ])\n",
    "\n",
    "num_exclamation_marks.fit_transform(X_train)\n",
    "\n",
    "num_unique_words =  Pipeline([\n",
    "                ('selector', NumberSelector(key='num_unique_words')),\n",
    "                ('standard', StandardScaler())\n",
    "            ])\n",
    "\n",
    "num_unique_words.fit_transform(X_train)\n",
    "\n",
    "words_vs_unique =  Pipeline([\n",
    "                ('selector', NumberSelector(key='words_vs_unique')),\n",
    "                ('standard', StandardScaler())\n",
    "            ])\n",
    "\n",
    "words_vs_unique.fit_transform(X_train)"
   ]
  },
  {
   "cell_type": "markdown",
   "metadata": {},
   "source": [
    "##### USING TF-IDF VECTORIZER"
   ]
  },
  {
   "cell_type": "code",
   "execution_count": 8,
   "metadata": {
    "ExecuteTime": {
     "end_time": "2019-11-24T05:03:10.490975Z",
     "start_time": "2019-11-24T05:03:06.606199Z"
    }
   },
   "outputs": [
    {
     "data": {
      "text/plain": [
       "<43896x71424 sparse matrix of type '<class 'numpy.float64'>'\n",
       "\twith 872005 stored elements in Compressed Sparse Row format>"
      ]
     },
     "execution_count": 8,
     "metadata": {},
     "output_type": "execute_result"
    }
   ],
   "source": [
    "# TF-IDF vectorizer pipeline\n",
    "\n",
    "text = Pipeline([\n",
    "            ('selector', TextSelector(key='cleaned_comment_text')),\n",
    "            ('vectorizer', TfidfVectorizer(stop_words='english'))\n",
    "        ])\n",
    "\n",
    "text.fit_transform(X_train)"
   ]
  },
  {
   "cell_type": "code",
   "execution_count": 9,
   "metadata": {
    "ExecuteTime": {
     "end_time": "2019-11-24T05:03:14.427924Z",
     "start_time": "2019-11-24T05:03:10.493133Z"
    }
   },
   "outputs": [
    {
     "data": {
      "text/plain": [
       "<43896x71433 sparse matrix of type '<class 'numpy.float64'>'\n",
       "\twith 1267069 stored elements in Compressed Sparse Row format>"
      ]
     },
     "execution_count": 9,
     "metadata": {},
     "output_type": "execute_result"
    }
   ],
   "source": [
    "# creating feature union\n",
    "\n",
    "feats = FeatureUnion([('text', text), \n",
    "                      ('word_count', word_count),\n",
    "                      ('char_count', char_count),\n",
    "                      ('word_density', word_density),\n",
    "                      ('total_length', total_length),\n",
    "                      ('capitals', capitals), \n",
    "                      ('caps_vs_length', caps_vs_length), \n",
    "                      ('num_exclamation_marks', num_exclamation_marks), \n",
    "                      ('num_unique_words', num_unique_words), \n",
    "                      ('words_vs_unique', words_vs_unique)])\n",
    "\n",
    "feature_processing = Pipeline([('feats', feats)])\n",
    "feature_processing.fit_transform(X_train)"
   ]
  },
  {
   "cell_type": "code",
   "execution_count": 10,
   "metadata": {
    "ExecuteTime": {
     "end_time": "2019-11-24T05:03:14.440505Z",
     "start_time": "2019-11-24T05:03:14.431052Z"
    }
   },
   "outputs": [],
   "source": [
    "# defining the models\n",
    "\n",
    "range_C = [0.1, 0.2, 0.5, 1.0, 2.0]\n",
    "pipelines = []\n",
    "\n",
    "for C in range_C:\n",
    "    LR = LogisticRegression(C=C)\n",
    "\n",
    "    pipeline = Pipeline([\n",
    "        ('features',feats),\n",
    "        ('classifier', LR),\n",
    "    ])\n",
    "    \n",
    "    pipelines.append(pipeline)"
   ]
  },
  {
   "cell_type": "code",
   "execution_count": 11,
   "metadata": {
    "ExecuteTime": {
     "end_time": "2019-11-24T05:06:03.212314Z",
     "start_time": "2019-11-24T05:03:14.444233Z"
    }
   },
   "outputs": [],
   "source": [
    "# train the models\n",
    "\n",
    "for pipeline in pipelines:\n",
    "    pipeline.fit(X_train, y_train)"
   ]
  },
  {
   "cell_type": "code",
   "execution_count": 12,
   "metadata": {
    "ExecuteTime": {
     "end_time": "2019-11-24T05:06:03.235891Z",
     "start_time": "2019-11-24T05:06:03.217101Z"
    }
   },
   "outputs": [],
   "source": [
    "summary = pd.DataFrame(columns=['C', 'Avg Accuracy - Train', 'Micro Precision - Train', \n",
    "                                'Micro Recall - Train', 'Micro F1-score - Train',\n",
    "                                'Avg Accuracy - Test', 'Micro Precision - Test', \n",
    "                                'Micro Recall - Test', 'Micro F1-score - Test'])"
   ]
  },
  {
   "cell_type": "code",
   "execution_count": 13,
   "metadata": {
    "ExecuteTime": {
     "end_time": "2019-11-24T05:07:00.871442Z",
     "start_time": "2019-11-24T05:06:03.240204Z"
    },
    "scrolled": true
   },
   "outputs": [
    {
     "name": "stdout",
     "output_type": "stream",
     "text": [
      "Calculating Training Metrics for C =  0.1\n",
      "Calculating Testing Metrics for C =  0.1\n",
      "Calculating Training Metrics for C =  0.2\n",
      "Calculating Testing Metrics for C =  0.2\n",
      "Calculating Training Metrics for C =  0.5\n",
      "Calculating Testing Metrics for C =  0.5\n",
      "Calculating Training Metrics for C =  1.0\n",
      "Calculating Testing Metrics for C =  1.0\n",
      "Calculating Training Metrics for C =  2.0\n",
      "Calculating Testing Metrics for C =  2.0\n"
     ]
    },
    {
     "data": {
      "text/html": [
       "<div>\n",
       "<style scoped>\n",
       "    .dataframe tbody tr th:only-of-type {\n",
       "        vertical-align: middle;\n",
       "    }\n",
       "\n",
       "    .dataframe tbody tr th {\n",
       "        vertical-align: top;\n",
       "    }\n",
       "\n",
       "    .dataframe thead th {\n",
       "        text-align: right;\n",
       "    }\n",
       "</style>\n",
       "<table border=\"1\" class=\"dataframe\">\n",
       "  <thead>\n",
       "    <tr style=\"text-align: right;\">\n",
       "      <th></th>\n",
       "      <th>C</th>\n",
       "      <th>Avg Accuracy - Train</th>\n",
       "      <th>Micro Precision - Train</th>\n",
       "      <th>Micro Recall - Train</th>\n",
       "      <th>Micro F1-score - Train</th>\n",
       "      <th>Avg Accuracy - Test</th>\n",
       "      <th>Micro Precision - Test</th>\n",
       "      <th>Micro Recall - Test</th>\n",
       "      <th>Micro F1-score - Test</th>\n",
       "    </tr>\n",
       "  </thead>\n",
       "  <tbody>\n",
       "    <tr>\n",
       "      <th>0</th>\n",
       "      <td>0.1</td>\n",
       "      <td>85.08</td>\n",
       "      <td>85.81</td>\n",
       "      <td>85.08</td>\n",
       "      <td>84.6</td>\n",
       "      <td>84.28</td>\n",
       "      <td>84.78</td>\n",
       "      <td>84.28</td>\n",
       "      <td>83.81</td>\n",
       "    </tr>\n",
       "    <tr>\n",
       "      <th>1</th>\n",
       "      <td>0.2</td>\n",
       "      <td>87.36</td>\n",
       "      <td>87.77</td>\n",
       "      <td>87.36</td>\n",
       "      <td>87.08</td>\n",
       "      <td>85.93</td>\n",
       "      <td>86.18</td>\n",
       "      <td>85.93</td>\n",
       "      <td>85.63</td>\n",
       "    </tr>\n",
       "    <tr>\n",
       "      <th>2</th>\n",
       "      <td>0.5</td>\n",
       "      <td>89.78</td>\n",
       "      <td>89.94</td>\n",
       "      <td>89.78</td>\n",
       "      <td>89.64</td>\n",
       "      <td>87.46</td>\n",
       "      <td>87.52</td>\n",
       "      <td>87.46</td>\n",
       "      <td>87.29</td>\n",
       "    </tr>\n",
       "    <tr>\n",
       "      <th>3</th>\n",
       "      <td>1</td>\n",
       "      <td>91.53</td>\n",
       "      <td>91.6</td>\n",
       "      <td>91.53</td>\n",
       "      <td>91.45</td>\n",
       "      <td>88.14</td>\n",
       "      <td>88.12</td>\n",
       "      <td>88.14</td>\n",
       "      <td>88.03</td>\n",
       "    </tr>\n",
       "    <tr>\n",
       "      <th>4</th>\n",
       "      <td>2</td>\n",
       "      <td>93.35</td>\n",
       "      <td>93.36</td>\n",
       "      <td>93.35</td>\n",
       "      <td>93.31</td>\n",
       "      <td>88.36</td>\n",
       "      <td>88.33</td>\n",
       "      <td>88.36</td>\n",
       "      <td>88.28</td>\n",
       "    </tr>\n",
       "  </tbody>\n",
       "</table>\n",
       "</div>"
      ],
      "text/plain": [
       "     C Avg Accuracy - Train Micro Precision - Train Micro Recall - Train  \\\n",
       "0  0.1                85.08                   85.81                85.08   \n",
       "1  0.2                87.36                   87.77                87.36   \n",
       "2  0.5                89.78                   89.94                89.78   \n",
       "3    1                91.53                    91.6                91.53   \n",
       "4    2                93.35                   93.36                93.35   \n",
       "\n",
       "  Micro F1-score - Train Avg Accuracy - Test Micro Precision - Test  \\\n",
       "0                   84.6               84.28                  84.78   \n",
       "1                  87.08               85.93                  86.18   \n",
       "2                  89.64               87.46                  87.52   \n",
       "3                  91.45               88.14                  88.12   \n",
       "4                  93.31               88.36                  88.33   \n",
       "\n",
       "  Micro Recall - Test Micro F1-score - Test  \n",
       "0               84.28                 83.81  \n",
       "1               85.93                 85.63  \n",
       "2               87.46                 87.29  \n",
       "3               88.14                 88.03  \n",
       "4               88.36                 88.28  "
      ]
     },
     "metadata": {},
     "output_type": "display_data"
    }
   ],
   "source": [
    "# predict and evaluate on training data\n",
    "\n",
    "for i in range(len(pipelines)):\n",
    "    \n",
    "    print('Calculating Training Metrics for C = ', range_C[i])\n",
    "    train_pred = pipelines[i].predict(X_train)\n",
    "\n",
    "    accuracy = accuracy_score(y_train, train_pred)\n",
    "    precision, recall, f1_score, support = precision_recall_fscore_support(y_train, train_pred, beta=1, average='weighted')\n",
    "    \n",
    "    summary.at[i, 'Avg Accuracy - Train'] = np.round(100*accuracy, 2)\n",
    "    summary.at[i, 'Micro Precision - Train'] = np.round(100*precision, 2)\n",
    "    summary.at[i, 'Micro Recall - Train'] = np.round(100*recall, 2)\n",
    "    summary.at[i, 'Micro F1-score - Train'] = np.round(100*f1_score, 2)\n",
    "    \n",
    "    print('Calculating Testing Metrics for C = ', range_C[i])\n",
    "    test_pred = pipelines[i].predict(X_test)\n",
    "\n",
    "    accuracy = accuracy_score(y_test, test_pred)\n",
    "    precision, recall, f1_score, support = precision_recall_fscore_support(y_test, test_pred, beta=1, average='weighted')\n",
    "    \n",
    "    summary.at[i, 'C'] = range_C[i]\n",
    "    summary.at[i, 'Avg Accuracy - Test'] = np.round(100*accuracy, 2)\n",
    "    summary.at[i, 'Micro Precision - Test'] = np.round(100*precision, 2)\n",
    "    summary.at[i, 'Micro Recall - Test'] = np.round(100*recall, 2)\n",
    "    summary.at[i, 'Micro F1-score - Test'] = np.round(100*f1_score, 2)\n",
    "    \n",
    "display(summary)"
   ]
  },
  {
   "cell_type": "code",
   "execution_count": 14,
   "metadata": {
    "ExecuteTime": {
     "end_time": "2019-11-24T05:07:01.480433Z",
     "start_time": "2019-11-24T05:07:00.875582Z"
    }
   },
   "outputs": [
    {
     "data": {
      "image/png": "[encoded data removed]",
      "text/plain": [
       "<Figure size 432x288 with 1 Axes>"
      ]
     },
     "metadata": {
      "image/png": {
       "height": 270,
       "width": 382
      },
      "needs_background": "light"
     },
     "output_type": "display_data"
    }
   ],
   "source": [
    "# plot train F1-score and test F1-score\n",
    "\n",
    "fig = plt.figure(1)\n",
    "ax  = fig.add_subplot(111)\n",
    "a = np.arange(len(summary))\n",
    "\n",
    "plt.plot(summary['Micro F1-score - Train'], label='train')\n",
    "plt.plot(summary['Micro F1-score - Test'], label='test')\n",
    "ax.xaxis.set_ticks(a)\n",
    "ax.xaxis.set_ticklabels(range_C, rotation=45)\n",
    "plt.xlabel('C')\n",
    "plt.ylabel('Micro F1-score', rotation=90)\n",
    "plt.legend()\n",
    "plt.grid(True)"
   ]
  },
  {
   "cell_type": "markdown",
   "metadata": {},
   "source": [
    "Since the model starts to overfit and test score remains constant after C = 1.0, we will select 1.0 for C."
   ]
  },
  {
   "cell_type": "code",
   "execution_count": 16,
   "metadata": {
    "ExecuteTime": {
     "end_time": "2019-11-24T05:07:03.700505Z",
     "start_time": "2019-11-24T05:07:01.484739Z"
    }
   },
   "outputs": [
    {
     "name": "stdout",
     "output_type": "stream",
     "text": [
      "Calculating Testing Metrics for C = 1.0\n",
      "\n",
      "Confusion Matrix:\n",
      "[[6260  469]\n",
      " [ 833 3412]]\n",
      "\n",
      "Avg Accuracy: 88.14%\n",
      "\n",
      "Classification Report:\n",
      "              precision    recall  f1-score   support\n",
      "\n",
      "           0       0.88      0.93      0.91      6729\n",
      "           1       0.88      0.80      0.84      4245\n",
      "\n",
      "    accuracy                           0.88     10974\n",
      "   macro avg       0.88      0.87      0.87     10974\n",
      "weighted avg       0.88      0.88      0.88     10974\n",
      "\n",
      "Precision: 88.12%\n",
      "Recall: 88.14%\n",
      "F1 score: 88.03%\n"
     ]
    },
    {
     "data": {
      "image/png": "[encoded data removed]",
      "text/plain": [
       "<Figure size 1080x360 with 1 Axes>"
      ]
     },
     "metadata": {
      "image/png": {
       "height": 351,
       "width": 873
      },
      "needs_background": "light"
     },
     "output_type": "display_data"
    }
   ],
   "source": [
    "# detailed Test results for C = 1.0\n",
    "\n",
    "print('Calculating Testing Metrics for C = 1.0')\n",
    "test_pred = pipelines[3].predict(X_test)    \n",
    "    \n",
    "report = \"\"\"\n",
    "Confusion Matrix:\n",
    "{}\n",
    "\\nAvg Accuracy: {}%\n",
    "\"\"\".format(confusion_matrix(y_test, test_pred),\n",
    "           round(100*accuracy_score(y_test, test_pred), 2))\n",
    "print(report)\n",
    "\n",
    "print('Classification Report:')\n",
    "print(classification_report(y_test, test_pred))\n",
    "\n",
    "precision, recall, f1_score, support = precision_recall_fscore_support(y_test, test_pred, beta=1, average='weighted')\n",
    "\n",
    "print(\"Precision: {}%\".format(np.round(100*precision, 2)))\n",
    "print(\"Recall: {}%\".format(np.round(100*recall, 2)))\n",
    "print(\"F1 score: {}%\".format(np.round(100*f1_score, 2)))\n",
    "\n",
    "feature_importances = Get_Feature_Importances(pipelines[3])\n",
    "Plot_Feature_Importances(feature_importances) "
   ]
  },
  {
   "cell_type": "code",
   "execution_count": 17,
   "metadata": {
    "ExecuteTime": {
     "end_time": "2019-11-24T05:07:07.969499Z",
     "start_time": "2019-11-24T05:07:03.704442Z"
    }
   },
   "outputs": [
    {
     "data": {
      "text/plain": [
       "['TFIDF_LR_Level_1.joblib']"
      ]
     },
     "execution_count": 17,
     "metadata": {},
     "output_type": "execute_result"
    }
   ],
   "source": [
    "# saving the model\n",
    "\n",
    "filename = 'TFIDF_LR_Level_1.joblib'\n",
    "joblib.dump(pipelines[3], filename)"
   ]
  },
  {
   "cell_type": "markdown",
   "metadata": {},
   "source": [
    "##### USING BINARY VECTORIZER"
   ]
  },
  {
   "cell_type": "code",
   "execution_count": 18,
   "metadata": {
    "ExecuteTime": {
     "end_time": "2019-11-24T05:07:11.536600Z",
     "start_time": "2019-11-24T05:07:07.974091Z"
    }
   },
   "outputs": [
    {
     "data": {
      "text/plain": [
       "<43896x71424 sparse matrix of type '<class 'numpy.float64'>'\n",
       "\twith 872005 stored elements in Compressed Sparse Row format>"
      ]
     },
     "execution_count": 18,
     "metadata": {},
     "output_type": "execute_result"
    }
   ],
   "source": [
    "# Binary vectorizer pipeline\n",
    "\n",
    "text = Pipeline([\n",
    "            ('selector', TextSelector(key='cleaned_comment_text')),\n",
    "            ('vectorizer', TfidfVectorizer(stop_words='english', binary=True, use_idf=False, norm=False))\n",
    "        ])\n",
    "\n",
    "text.fit_transform(X_train)"
   ]
  },
  {
   "cell_type": "code",
   "execution_count": 19,
   "metadata": {
    "ExecuteTime": {
     "end_time": "2019-11-24T05:07:15.311055Z",
     "start_time": "2019-11-24T05:07:11.540199Z"
    }
   },
   "outputs": [
    {
     "data": {
      "text/plain": [
       "<43896x71433 sparse matrix of type '<class 'numpy.float64'>'\n",
       "\twith 1267069 stored elements in Compressed Sparse Row format>"
      ]
     },
     "execution_count": 19,
     "metadata": {},
     "output_type": "execute_result"
    }
   ],
   "source": [
    "# creating feature union\n",
    "\n",
    "feats = FeatureUnion([('text', text), \n",
    "                      ('word_count', word_count),\n",
    "                      ('char_count', char_count),\n",
    "                      ('word_density', word_density),\n",
    "                      ('total_length', total_length),\n",
    "                      ('capitals', capitals), \n",
    "                      ('caps_vs_length', caps_vs_length), \n",
    "                      ('num_exclamation_marks', num_exclamation_marks), \n",
    "                      ('num_unique_words', num_unique_words), \n",
    "                      ('words_vs_unique', words_vs_unique)])\n",
    "\n",
    "feature_processing = Pipeline([('feats', feats)])\n",
    "feature_processing.fit_transform(X_train)"
   ]
  },
  {
   "cell_type": "code",
   "execution_count": 20,
   "metadata": {
    "ExecuteTime": {
     "end_time": "2019-11-24T05:07:15.345150Z",
     "start_time": "2019-11-24T05:07:15.314595Z"
    }
   },
   "outputs": [],
   "source": [
    "# defining the model \n",
    "\n",
    "range_C = [0.1, 0.2, 0.5, 1.0, 2.0]\n",
    "pipelines = []\n",
    "\n",
    "for C in range_C:\n",
    "    LR = LogisticRegression(C=C)\n",
    "\n",
    "    pipeline = Pipeline([\n",
    "        ('features',feats),\n",
    "        ('classifier', LR),\n",
    "    ])\n",
    "    \n",
    "    pipelines.append(pipeline)"
   ]
  },
  {
   "cell_type": "code",
   "execution_count": 21,
   "metadata": {
    "ExecuteTime": {
     "end_time": "2019-11-24T05:09:59.867316Z",
     "start_time": "2019-11-24T05:07:15.348206Z"
    }
   },
   "outputs": [],
   "source": [
    "# train the model\n",
    "\n",
    "for pipeline in pipelines:\n",
    "    pipeline.fit(X_train, y_train)"
   ]
  },
  {
   "cell_type": "code",
   "execution_count": 22,
   "metadata": {
    "ExecuteTime": {
     "end_time": "2019-11-24T05:09:59.887813Z",
     "start_time": "2019-11-24T05:09:59.867316Z"
    }
   },
   "outputs": [],
   "source": [
    "summary = pd.DataFrame(columns=['C', 'Avg Accuracy - Train', 'Micro Precision - Train', \n",
    "                                'Micro Recall - Train', 'Micro F1-score - Train',\n",
    "                                'Avg Accuracy - Test', 'Micro Precision - Test', \n",
    "                                'Micro Recall - Test', 'Micro F1-score - Test'])"
   ]
  },
  {
   "cell_type": "code",
   "execution_count": 23,
   "metadata": {
    "ExecuteTime": {
     "end_time": "2019-11-24T05:10:54.797901Z",
     "start_time": "2019-11-24T05:09:59.893152Z"
    },
    "scrolled": true
   },
   "outputs": [
    {
     "name": "stdout",
     "output_type": "stream",
     "text": [
      "Calculating Training Metrics for C =  0.1\n",
      "Calculating Testing Metrics for C =  0.1\n",
      "Calculating Training Metrics for C =  0.2\n",
      "Calculating Testing Metrics for C =  0.2\n",
      "Calculating Training Metrics for C =  0.5\n",
      "Calculating Testing Metrics for C =  0.5\n",
      "Calculating Training Metrics for C =  1.0\n",
      "Calculating Testing Metrics for C =  1.0\n",
      "Calculating Training Metrics for C =  2.0\n",
      "Calculating Testing Metrics for C =  2.0\n"
     ]
    },
    {
     "data": {
      "text/html": [
       "<div>\n",
       "<style scoped>\n",
       "    .dataframe tbody tr th:only-of-type {\n",
       "        vertical-align: middle;\n",
       "    }\n",
       "\n",
       "    .dataframe tbody tr th {\n",
       "        vertical-align: top;\n",
       "    }\n",
       "\n",
       "    .dataframe thead th {\n",
       "        text-align: right;\n",
       "    }\n",
       "</style>\n",
       "<table border=\"1\" class=\"dataframe\">\n",
       "  <thead>\n",
       "    <tr style=\"text-align: right;\">\n",
       "      <th></th>\n",
       "      <th>C</th>\n",
       "      <th>Avg Accuracy - Train</th>\n",
       "      <th>Micro Precision - Train</th>\n",
       "      <th>Micro Recall - Train</th>\n",
       "      <th>Micro F1-score - Train</th>\n",
       "      <th>Avg Accuracy - Test</th>\n",
       "      <th>Micro Precision - Test</th>\n",
       "      <th>Micro Recall - Test</th>\n",
       "      <th>Micro F1-score - Test</th>\n",
       "    </tr>\n",
       "  </thead>\n",
       "  <tbody>\n",
       "    <tr>\n",
       "      <th>0</th>\n",
       "      <td>0.1</td>\n",
       "      <td>90.76</td>\n",
       "      <td>90.8</td>\n",
       "      <td>90.76</td>\n",
       "      <td>90.68</td>\n",
       "      <td>87.78</td>\n",
       "      <td>87.78</td>\n",
       "      <td>87.78</td>\n",
       "      <td>87.66</td>\n",
       "    </tr>\n",
       "    <tr>\n",
       "      <th>1</th>\n",
       "      <td>0.2</td>\n",
       "      <td>92.22</td>\n",
       "      <td>92.23</td>\n",
       "      <td>92.22</td>\n",
       "      <td>92.17</td>\n",
       "      <td>88.28</td>\n",
       "      <td>88.25</td>\n",
       "      <td>88.28</td>\n",
       "      <td>88.2</td>\n",
       "    </tr>\n",
       "    <tr>\n",
       "      <th>2</th>\n",
       "      <td>0.5</td>\n",
       "      <td>94.36</td>\n",
       "      <td>94.36</td>\n",
       "      <td>94.36</td>\n",
       "      <td>94.34</td>\n",
       "      <td>88.37</td>\n",
       "      <td>88.33</td>\n",
       "      <td>88.37</td>\n",
       "      <td>88.31</td>\n",
       "    </tr>\n",
       "    <tr>\n",
       "      <th>3</th>\n",
       "      <td>1</td>\n",
       "      <td>95.96</td>\n",
       "      <td>95.96</td>\n",
       "      <td>95.96</td>\n",
       "      <td>95.96</td>\n",
       "      <td>88.35</td>\n",
       "      <td>88.31</td>\n",
       "      <td>88.35</td>\n",
       "      <td>88.3</td>\n",
       "    </tr>\n",
       "    <tr>\n",
       "      <th>4</th>\n",
       "      <td>2</td>\n",
       "      <td>97.34</td>\n",
       "      <td>97.34</td>\n",
       "      <td>97.34</td>\n",
       "      <td>97.34</td>\n",
       "      <td>88.27</td>\n",
       "      <td>88.22</td>\n",
       "      <td>88.27</td>\n",
       "      <td>88.23</td>\n",
       "    </tr>\n",
       "  </tbody>\n",
       "</table>\n",
       "</div>"
      ],
      "text/plain": [
       "     C Avg Accuracy - Train Micro Precision - Train Micro Recall - Train  \\\n",
       "0  0.1                90.76                    90.8                90.76   \n",
       "1  0.2                92.22                   92.23                92.22   \n",
       "2  0.5                94.36                   94.36                94.36   \n",
       "3    1                95.96                   95.96                95.96   \n",
       "4    2                97.34                   97.34                97.34   \n",
       "\n",
       "  Micro F1-score - Train Avg Accuracy - Test Micro Precision - Test  \\\n",
       "0                  90.68               87.78                  87.78   \n",
       "1                  92.17               88.28                  88.25   \n",
       "2                  94.34               88.37                  88.33   \n",
       "3                  95.96               88.35                  88.31   \n",
       "4                  97.34               88.27                  88.22   \n",
       "\n",
       "  Micro Recall - Test Micro F1-score - Test  \n",
       "0               87.78                 87.66  \n",
       "1               88.28                  88.2  \n",
       "2               88.37                 88.31  \n",
       "3               88.35                  88.3  \n",
       "4               88.27                 88.23  "
      ]
     },
     "metadata": {},
     "output_type": "display_data"
    }
   ],
   "source": [
    "# predict and evaluate on training data\n",
    "\n",
    "for i in range(len(pipelines)):\n",
    "    \n",
    "    print('Calculating Training Metrics for C = ', range_C[i])\n",
    "    train_pred = pipelines[i].predict(X_train)\n",
    "\n",
    "    accuracy = accuracy_score(y_train, train_pred)\n",
    "    precision, recall, f1_score, support = precision_recall_fscore_support(y_train, train_pred, beta=1, average='weighted')\n",
    "    \n",
    "    summary.at[i, 'Avg Accuracy - Train'] = np.round(100*accuracy, 2)\n",
    "    summary.at[i, 'Micro Precision - Train'] = np.round(100*precision, 2)\n",
    "    summary.at[i, 'Micro Recall - Train'] = np.round(100*recall, 2)\n",
    "    summary.at[i, 'Micro F1-score - Train'] = np.round(100*f1_score, 2)\n",
    "    \n",
    "    print('Calculating Testing Metrics for C = ', range_C[i])\n",
    "    test_pred = pipelines[i].predict(X_test)\n",
    "\n",
    "    accuracy = accuracy_score(y_test, test_pred)\n",
    "    precision, recall, f1_score, support = precision_recall_fscore_support(y_test, test_pred, beta=1, average='weighted')\n",
    "    \n",
    "    summary.at[i, 'C'] = range_C[i]\n",
    "    summary.at[i, 'Avg Accuracy - Test'] = np.round(100*accuracy, 2)\n",
    "    summary.at[i, 'Micro Precision - Test'] = np.round(100*precision, 2)\n",
    "    summary.at[i, 'Micro Recall - Test'] = np.round(100*recall, 2)\n",
    "    summary.at[i, 'Micro F1-score - Test'] = np.round(100*f1_score, 2)\n",
    "    \n",
    "display(summary)"
   ]
  },
  {
   "cell_type": "code",
   "execution_count": 24,
   "metadata": {
    "ExecuteTime": {
     "end_time": "2019-11-24T05:10:55.316547Z",
     "start_time": "2019-11-24T05:10:54.798898Z"
    }
   },
   "outputs": [
    {
     "data": {
      "image/png": "[encoded data removed]",
      "text/plain": [
       "<Figure size 432x288 with 1 Axes>"
      ]
     },
     "metadata": {
      "image/png": {
       "height": 270,
       "width": 382
      },
      "needs_background": "light"
     },
     "output_type": "display_data"
    }
   ],
   "source": [
    "# plot train F1-score and test F1-score\n",
    "\n",
    "fig = plt.figure(1)\n",
    "ax  = fig.add_subplot(111)\n",
    "a = np.arange(len(summary))\n",
    "\n",
    "plt.plot(summary['Micro F1-score - Train'], label='train')\n",
    "plt.plot(summary['Micro F1-score - Test'], label='test')\n",
    "ax.xaxis.set_ticks(a)\n",
    "ax.xaxis.set_ticklabels(range_C, rotation=45)\n",
    "plt.xlabel('C')\n",
    "plt.ylabel('Micro F1-score', rotation=90)\n",
    "plt.legend()\n",
    "plt.grid(True)"
   ]
  },
  {
   "cell_type": "markdown",
   "metadata": {},
   "source": [
    "Since the model starts to overfit and test score remains constant after C = 0.2, we will select 0.2 for C."
   ]
  },
  {
   "cell_type": "code",
   "execution_count": 25,
   "metadata": {
    "ExecuteTime": {
     "end_time": "2019-11-24T05:10:57.308604Z",
     "start_time": "2019-11-24T05:10:55.318541Z"
    },
    "scrolled": true
   },
   "outputs": [
    {
     "name": "stdout",
     "output_type": "stream",
     "text": [
      "Calculating Testing Metrics for C = 0.2\n",
      "\n",
      "Confusion Matrix:\n",
      "[[6235  494]\n",
      " [ 792 3453]]\n",
      "\n",
      "Avg Accuracy: 88.28%\n",
      "\n",
      "Classification Report:\n",
      "              precision    recall  f1-score   support\n",
      "\n",
      "           0       0.89      0.93      0.91      6729\n",
      "           1       0.87      0.81      0.84      4245\n",
      "\n",
      "    accuracy                           0.88     10974\n",
      "   macro avg       0.88      0.87      0.87     10974\n",
      "weighted avg       0.88      0.88      0.88     10974\n",
      "\n",
      "Precision: 88.25%\n",
      "Recall: 88.28%\n",
      "F1 score: 88.2%\n"
     ]
    },
    {
     "data": {
      "image/png": "[encoded data removed]",
      "text/plain": [
       "<Figure size 1080x360 with 1 Axes>"
      ]
     },
     "metadata": {
      "image/png": {
       "height": 360,
       "width": 873
      },
      "needs_background": "light"
     },
     "output_type": "display_data"
    }
   ],
   "source": [
    "# detailed Test results for C = 0.2\n",
    "\n",
    "print('Calculating Testing Metrics for C = 0.2')\n",
    "test_pred = pipelines[1].predict(X_test)    \n",
    "    \n",
    "report = \"\"\"\n",
    "Confusion Matrix:\n",
    "{}\n",
    "\\nAvg Accuracy: {}%\n",
    "\"\"\".format(confusion_matrix(y_test, test_pred),\n",
    "           round(100*accuracy_score(y_test, test_pred), 2))\n",
    "print(report)\n",
    "\n",
    "print('Classification Report:')\n",
    "print(classification_report(y_test, test_pred))\n",
    "\n",
    "precision, recall, f1_score, support = precision_recall_fscore_support(y_test, test_pred, beta=1, average='weighted')\n",
    "\n",
    "print(\"Precision: {}%\".format(np.round(100*precision, 2)))\n",
    "print(\"Recall: {}%\".format(np.round(100*recall, 2)))\n",
    "print(\"F1 score: {}%\".format(np.round(100*f1_score, 2)))\n",
    "\n",
    "feature_importances = Get_Feature_Importances(pipelines[1])\n",
    "Plot_Feature_Importances(feature_importances) "
   ]
  },
  {
   "cell_type": "code",
   "execution_count": 26,
   "metadata": {
    "ExecuteTime": {
     "end_time": "2019-11-24T05:11:01.394373Z",
     "start_time": "2019-11-24T05:10:57.385314Z"
    }
   },
   "outputs": [
    {
     "data": {
      "text/plain": [
       "['Binary_LR_Level_1.joblib']"
      ]
     },
     "execution_count": 26,
     "metadata": {},
     "output_type": "execute_result"
    }
   ],
   "source": [
    "# saving the model\n",
    "\n",
    "filename = 'Binary_LR_Level_1.joblib'\n",
    "joblib.dump(pipelines[1], filename)"
   ]
  },
  {
   "cell_type": "markdown",
   "metadata": {},
   "source": [
    "##### USING COUNT VECTORIZER"
   ]
  },
  {
   "cell_type": "code",
   "execution_count": 27,
   "metadata": {
    "ExecuteTime": {
     "end_time": "2019-11-24T05:11:04.781309Z",
     "start_time": "2019-11-24T05:11:01.405653Z"
    }
   },
   "outputs": [
    {
     "data": {
      "text/plain": [
       "<43896x71424 sparse matrix of type '<class 'numpy.int64'>'\n",
       "\twith 872005 stored elements in Compressed Sparse Row format>"
      ]
     },
     "execution_count": 27,
     "metadata": {},
     "output_type": "execute_result"
    }
   ],
   "source": [
    "# Count vectorizer pipeline\n",
    "\n",
    "text = Pipeline([\n",
    "            ('selector', TextSelector(key='cleaned_comment_text')),\n",
    "            ('vectorizer', CountVectorizer(stop_words='english'))\n",
    "        ])\n",
    "\n",
    "text.fit_transform(X_train)"
   ]
  },
  {
   "cell_type": "code",
   "execution_count": 28,
   "metadata": {
    "ExecuteTime": {
     "end_time": "2019-11-24T05:11:08.308382Z",
     "start_time": "2019-11-24T05:11:04.784910Z"
    }
   },
   "outputs": [
    {
     "data": {
      "text/plain": [
       "<43896x71433 sparse matrix of type '<class 'numpy.float64'>'\n",
       "\twith 1267069 stored elements in Compressed Sparse Row format>"
      ]
     },
     "execution_count": 28,
     "metadata": {},
     "output_type": "execute_result"
    }
   ],
   "source": [
    "# creating feature union\n",
    "\n",
    "feats = FeatureUnion([('text', text), \n",
    "                      ('word_count', word_count),\n",
    "                      ('char_count', char_count),\n",
    "                      ('word_density', word_density),\n",
    "                      ('total_length', total_length),\n",
    "                      ('capitals', capitals), \n",
    "                      ('caps_vs_length', caps_vs_length), \n",
    "                      ('num_exclamation_marks', num_exclamation_marks), \n",
    "                      ('num_unique_words', num_unique_words), \n",
    "                      ('words_vs_unique', words_vs_unique)])\n",
    "\n",
    "feature_processing = Pipeline([('feats', feats)])\n",
    "feature_processing.fit_transform(X_train)"
   ]
  },
  {
   "cell_type": "code",
   "execution_count": 29,
   "metadata": {
    "ExecuteTime": {
     "end_time": "2019-11-24T05:11:08.345113Z",
     "start_time": "2019-11-24T05:11:08.312807Z"
    }
   },
   "outputs": [],
   "source": [
    "# defining the model \n",
    "\n",
    "range_C = [0.1, 0.2, 0.5, 1.0, 2.0]\n",
    "pipelines = []\n",
    "\n",
    "for C in range_C:\n",
    "    LR = LogisticRegression(C=C)\n",
    "\n",
    "    pipeline = Pipeline([\n",
    "        ('features',feats),\n",
    "        ('classifier', LR),\n",
    "    ])\n",
    "    \n",
    "    pipelines.append(pipeline)"
   ]
  },
  {
   "cell_type": "code",
   "execution_count": 30,
   "metadata": {
    "ExecuteTime": {
     "end_time": "2019-11-24T05:14:11.482876Z",
     "start_time": "2019-11-24T05:11:08.347108Z"
    }
   },
   "outputs": [],
   "source": [
    "# train the model\n",
    "\n",
    "for pipeline in pipelines:\n",
    "    pipeline.fit(X_train, y_train)    "
   ]
  },
  {
   "cell_type": "code",
   "execution_count": 31,
   "metadata": {
    "ExecuteTime": {
     "end_time": "2019-11-24T05:14:11.498775Z",
     "start_time": "2019-11-24T05:14:11.485869Z"
    }
   },
   "outputs": [],
   "source": [
    "summary = pd.DataFrame(columns=['C', 'Avg Accuracy - Train', 'Micro Precision - Train', \n",
    "                                'Micro Recall - Train', 'Micro F1-score - Train',\n",
    "                                'Avg Accuracy - Test', 'Micro Precision - Test', \n",
    "                                'Micro Recall - Test', 'Micro F1-score - Test'])"
   ]
  },
  {
   "cell_type": "code",
   "execution_count": 32,
   "metadata": {
    "ExecuteTime": {
     "end_time": "2019-11-24T05:15:05.347000Z",
     "start_time": "2019-11-24T05:14:11.501972Z"
    },
    "scrolled": true
   },
   "outputs": [
    {
     "name": "stdout",
     "output_type": "stream",
     "text": [
      "Calculating Training Metrics for C =  0.1\n",
      "Calculating Testing Metrics for C =  0.1\n",
      "Calculating Training Metrics for C =  0.2\n",
      "Calculating Testing Metrics for C =  0.2\n",
      "Calculating Training Metrics for C =  0.5\n",
      "Calculating Testing Metrics for C =  0.5\n",
      "Calculating Training Metrics for C =  1.0\n",
      "Calculating Testing Metrics for C =  1.0\n",
      "Calculating Training Metrics for C =  2.0\n",
      "Calculating Testing Metrics for C =  2.0\n"
     ]
    },
    {
     "data": {
      "text/html": [
       "<div>\n",
       "<style scoped>\n",
       "    .dataframe tbody tr th:only-of-type {\n",
       "        vertical-align: middle;\n",
       "    }\n",
       "\n",
       "    .dataframe tbody tr th {\n",
       "        vertical-align: top;\n",
       "    }\n",
       "\n",
       "    .dataframe thead th {\n",
       "        text-align: right;\n",
       "    }\n",
       "</style>\n",
       "<table border=\"1\" class=\"dataframe\">\n",
       "  <thead>\n",
       "    <tr style=\"text-align: right;\">\n",
       "      <th></th>\n",
       "      <th>C</th>\n",
       "      <th>Avg Accuracy - Train</th>\n",
       "      <th>Micro Precision - Train</th>\n",
       "      <th>Micro Recall - Train</th>\n",
       "      <th>Micro F1-score - Train</th>\n",
       "      <th>Avg Accuracy - Test</th>\n",
       "      <th>Micro Precision - Test</th>\n",
       "      <th>Micro Recall - Test</th>\n",
       "      <th>Micro F1-score - Test</th>\n",
       "    </tr>\n",
       "  </thead>\n",
       "  <tbody>\n",
       "    <tr>\n",
       "      <th>0</th>\n",
       "      <td>0.1</td>\n",
       "      <td>91.09</td>\n",
       "      <td>91.14</td>\n",
       "      <td>91.09</td>\n",
       "      <td>91.02</td>\n",
       "      <td>87.73</td>\n",
       "      <td>87.72</td>\n",
       "      <td>87.73</td>\n",
       "      <td>87.6</td>\n",
       "    </tr>\n",
       "    <tr>\n",
       "      <th>1</th>\n",
       "      <td>0.2</td>\n",
       "      <td>91.66</td>\n",
       "      <td>91.69</td>\n",
       "      <td>91.66</td>\n",
       "      <td>91.6</td>\n",
       "      <td>87.94</td>\n",
       "      <td>87.92</td>\n",
       "      <td>87.94</td>\n",
       "      <td>87.83</td>\n",
       "    </tr>\n",
       "    <tr>\n",
       "      <th>2</th>\n",
       "      <td>0.5</td>\n",
       "      <td>91.98</td>\n",
       "      <td>91.99</td>\n",
       "      <td>91.98</td>\n",
       "      <td>91.93</td>\n",
       "      <td>87.84</td>\n",
       "      <td>87.81</td>\n",
       "      <td>87.84</td>\n",
       "      <td>87.75</td>\n",
       "    </tr>\n",
       "    <tr>\n",
       "      <th>3</th>\n",
       "      <td>1</td>\n",
       "      <td>92</td>\n",
       "      <td>92</td>\n",
       "      <td>92</td>\n",
       "      <td>91.95</td>\n",
       "      <td>88.06</td>\n",
       "      <td>88.03</td>\n",
       "      <td>88.06</td>\n",
       "      <td>87.97</td>\n",
       "    </tr>\n",
       "    <tr>\n",
       "      <th>4</th>\n",
       "      <td>2</td>\n",
       "      <td>92.15</td>\n",
       "      <td>92.15</td>\n",
       "      <td>92.15</td>\n",
       "      <td>92.1</td>\n",
       "      <td>88.09</td>\n",
       "      <td>88.05</td>\n",
       "      <td>88.09</td>\n",
       "      <td>88</td>\n",
       "    </tr>\n",
       "  </tbody>\n",
       "</table>\n",
       "</div>"
      ],
      "text/plain": [
       "     C Avg Accuracy - Train Micro Precision - Train Micro Recall - Train  \\\n",
       "0  0.1                91.09                   91.14                91.09   \n",
       "1  0.2                91.66                   91.69                91.66   \n",
       "2  0.5                91.98                   91.99                91.98   \n",
       "3    1                   92                      92                   92   \n",
       "4    2                92.15                   92.15                92.15   \n",
       "\n",
       "  Micro F1-score - Train Avg Accuracy - Test Micro Precision - Test  \\\n",
       "0                  91.02               87.73                  87.72   \n",
       "1                   91.6               87.94                  87.92   \n",
       "2                  91.93               87.84                  87.81   \n",
       "3                  91.95               88.06                  88.03   \n",
       "4                   92.1               88.09                  88.05   \n",
       "\n",
       "  Micro Recall - Test Micro F1-score - Test  \n",
       "0               87.73                  87.6  \n",
       "1               87.94                 87.83  \n",
       "2               87.84                 87.75  \n",
       "3               88.06                 87.97  \n",
       "4               88.09                    88  "
      ]
     },
     "metadata": {},
     "output_type": "display_data"
    }
   ],
   "source": [
    "# predict and evaluate on training data\n",
    "\n",
    "for i in range(len(pipelines)):\n",
    "    \n",
    "    print('Calculating Training Metrics for C = ', range_C[i])\n",
    "    train_pred = pipelines[i].predict(X_train)\n",
    "\n",
    "    accuracy = accuracy_score(y_train, train_pred)\n",
    "    precision, recall, f1_score, support = precision_recall_fscore_support(y_train, train_pred, beta=1, average='weighted')\n",
    "    \n",
    "    summary.at[i, 'Avg Accuracy - Train'] = np.round(100*accuracy, 2)\n",
    "    summary.at[i, 'Micro Precision - Train'] = np.round(100*precision, 2)\n",
    "    summary.at[i, 'Micro Recall - Train'] = np.round(100*recall, 2)\n",
    "    summary.at[i, 'Micro F1-score - Train'] = np.round(100*f1_score, 2)\n",
    "    \n",
    "    print('Calculating Testing Metrics for C = ', range_C[i])\n",
    "    test_pred = pipelines[i].predict(X_test)\n",
    "\n",
    "    accuracy = accuracy_score(y_test, test_pred)\n",
    "    precision, recall, f1_score, support = precision_recall_fscore_support(y_test, test_pred, beta=1, average='weighted')\n",
    "    \n",
    "    summary.at[i, 'C'] = range_C[i]\n",
    "    summary.at[i, 'Avg Accuracy - Test'] = np.round(100*accuracy, 2)\n",
    "    summary.at[i, 'Micro Precision - Test'] = np.round(100*precision, 2)\n",
    "    summary.at[i, 'Micro Recall - Test'] = np.round(100*recall, 2)\n",
    "    summary.at[i, 'Micro F1-score - Test'] = np.round(100*f1_score, 2)\n",
    "    \n",
    "display(summary)"
   ]
  },
  {
   "cell_type": "code",
   "execution_count": 33,
   "metadata": {
    "ExecuteTime": {
     "end_time": "2019-11-24T05:15:05.859166Z",
     "start_time": "2019-11-24T05:15:05.349918Z"
    }
   },
   "outputs": [
    {
     "data": {
      "image/png": "[encoded data removed]",
      "text/plain": [
       "<Figure size 432x288 with 1 Axes>"
      ]
     },
     "metadata": {
      "image/png": {
       "height": 270,
       "width": 382
      },
      "needs_background": "light"
     },
     "output_type": "display_data"
    }
   ],
   "source": [
    "# plot train F1-score and test F1-score\n",
    "\n",
    "fig = plt.figure(1)\n",
    "ax  = fig.add_subplot(111)\n",
    "a = np.arange(len(summary))\n",
    "\n",
    "plt.plot(summary['Micro F1-score - Train'], label='train')\n",
    "plt.plot(summary['Micro F1-score - Test'], label='test')\n",
    "ax.xaxis.set_ticks(a)\n",
    "ax.xaxis.set_ticklabels(range_C, rotation=45)\n",
    "plt.xlabel('C')\n",
    "plt.ylabel('Micro F1-score', rotation=90)\n",
    "plt.legend()\n",
    "plt.grid(True)"
   ]
  },
  {
   "cell_type": "markdown",
   "metadata": {},
   "source": [
    "Since the model starts to overfit and test score remains constant after C = 2.0, we will select 2.0 for C."
   ]
  },
  {
   "cell_type": "code",
   "execution_count": 34,
   "metadata": {
    "ExecuteTime": {
     "end_time": "2019-11-24T05:15:07.946238Z",
     "start_time": "2019-11-24T05:15:05.861372Z"
    },
    "scrolled": true
   },
   "outputs": [
    {
     "name": "stdout",
     "output_type": "stream",
     "text": [
      "Calculating Testing Metrics for C = 2.0\n",
      "\n",
      "Confusion Matrix:\n",
      "[[6224  505]\n",
      " [ 802 3443]]\n",
      "\n",
      "Avg Accuracy: 88.09%\n",
      "\n",
      "Classification Report:\n",
      "              precision    recall  f1-score   support\n",
      "\n",
      "           0       0.89      0.92      0.90      6729\n",
      "           1       0.87      0.81      0.84      4245\n",
      "\n",
      "    accuracy                           0.88     10974\n",
      "   macro avg       0.88      0.87      0.87     10974\n",
      "weighted avg       0.88      0.88      0.88     10974\n",
      "\n",
      "Precision: 88.05%\n",
      "Recall: 88.09%\n",
      "F1 score: 88.0%\n"
     ]
    },
    {
     "data": {
      "image/png": "[encoded data removed]",
      "text/plain": [
       "<Figure size 1080x360 with 1 Axes>"
      ]
     },
     "metadata": {
      "image/png": {
       "height": 364,
       "width": 873
      },
      "needs_background": "light"
     },
     "output_type": "display_data"
    }
   ],
   "source": [
    "# detailed Test results for C = 2.0\n",
    "\n",
    "print('Calculating Testing Metrics for C = 2.0')\n",
    "test_pred = pipelines[4].predict(X_test)    \n",
    "    \n",
    "report = \"\"\"\n",
    "Confusion Matrix:\n",
    "{}\n",
    "\\nAvg Accuracy: {}%\n",
    "\"\"\".format(confusion_matrix(y_test, test_pred),\n",
    "           round(100*accuracy_score(y_test, test_pred), 2))\n",
    "print(report)\n",
    "\n",
    "print('Classification Report:')\n",
    "print(classification_report(y_test, test_pred))\n",
    "\n",
    "precision, recall, f1_score, support = precision_recall_fscore_support(y_test, test_pred, beta=1, average='weighted')\n",
    "\n",
    "print(\"Precision: {}%\".format(np.round(100*precision, 2)))\n",
    "print(\"Recall: {}%\".format(np.round(100*recall, 2)))\n",
    "print(\"F1 score: {}%\".format(np.round(100*f1_score, 2)))\n",
    "\n",
    "feature_importances = Get_Feature_Importances(pipelines[4])\n",
    "Plot_Feature_Importances(feature_importances) "
   ]
  },
  {
   "cell_type": "code",
   "execution_count": 35,
   "metadata": {
    "ExecuteTime": {
     "end_time": "2019-11-24T05:15:11.782183Z",
     "start_time": "2019-11-24T05:15:07.949154Z"
    }
   },
   "outputs": [
    {
     "data": {
      "text/plain": [
       "['Count_LR_Level_1.joblib']"
      ]
     },
     "execution_count": 35,
     "metadata": {},
     "output_type": "execute_result"
    }
   ],
   "source": [
    "# saving the model\n",
    "\n",
    "filename = 'Count_LR_Level_1.joblib'\n",
    "joblib.dump(pipelines[4], filename)"
   ]
  }
 ],
 "metadata": {
  "hide_input": false,
  "kernelspec": {
   "display_name": "Python 3",
   "language": "python",
   "name": "python3"
  },
  "language_info": {
   "codemirror_mode": {
    "name": "ipython",
    "version": 3
   },
   "file_extension": ".py",
   "mimetype": "text/x-python",
   "name": "python",
   "nbconvert_exporter": "python",
   "pygments_lexer": "ipython3",
   "version": "3.7.3"
  },
  "toc": {
   "base_numbering": 1,
   "nav_menu": {},
   "number_sections": true,
   "sideBar": true,
   "skip_h1_title": false,
   "title_cell": "Table of Contents",
   "title_sidebar": "Contents",
   "toc_cell": false,
   "toc_position": {},
   "toc_section_display": true,
   "toc_window_display": false
  },
  "varInspector": {
   "cols": {
    "lenName": 16,
    "lenType": 16,
    "lenVar": 40
   },
   "kernels_config": {
    "python": {
     "delete_cmd_postfix": "",
     "delete_cmd_prefix": "del ",
     "library": "var_list.py",
     "varRefreshCmd": "print(var_dic_list())"
    },
    "r": {
     "delete_cmd_postfix": ") ",
     "delete_cmd_prefix": "rm(",
     "library": "var_list.r",
     "varRefreshCmd": "cat(var_dic_list()) "
    }
   },
   "types_to_exclude": [
    "module",
    "function",
    "builtin_function_or_method",
    "instance",
    "_Feature"
   ],
   "window_display": false
  }
 },
 "nbformat": 4,
 "nbformat_minor": 2
}
