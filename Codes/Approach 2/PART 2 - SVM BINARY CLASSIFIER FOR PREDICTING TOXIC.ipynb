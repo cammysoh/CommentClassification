{
 "cells": [
  {
   "cell_type": "code",
   "execution_count": 1,
   "metadata": {
    "ExecuteTime": {
     "end_time": "2019-11-24T10:55:52.154799Z",
     "start_time": "2019-11-24T10:55:46.382037Z"
    }
   },
   "outputs": [
    {
     "name": "stderr",
     "output_type": "stream",
     "text": [
      "/home/lac-user/Madhura/ANACONDA_FOLDER/anaconda3/lib/python3.7/site-packages/sklearn/externals/joblib/__init__.py:15: DeprecationWarning: sklearn.externals.joblib is deprecated in 0.21 and will be removed in 0.23. Please import this functionality directly from joblib, which can be installed with: pip install joblib. If this warning is raised when loading pickled models, you may need to re-serialize those models with scikit-learn 0.21+.\n",
      "  warnings.warn(msg, category=DeprecationWarning)\n"
     ]
    }
   ],
   "source": [
    "# importing libraries\n",
    "\n",
    "import pandas as pd\n",
    "import numpy as np\n",
    "from sklearn.model_selection import train_test_split\n",
    "from sklearn.base import BaseEstimator, TransformerMixin\n",
    "from sklearn.pipeline import Pipeline\n",
    "from sklearn.feature_extraction.text import TfidfVectorizer, CountVectorizer\n",
    "from sklearn.preprocessing import StandardScaler\n",
    "from sklearn.pipeline import FeatureUnion\n",
    "from sklearn import svm\n",
    "from sklearn.metrics import confusion_matrix, accuracy_score, classification_report, precision_recall_fscore_support\n",
    "from sklearn.externals import joblib\n",
    "import matplotlib.pyplot as plt\n",
    "import warnings\n",
    "\n",
    "%config InlineBackend.figure_format='retina'\n",
    "warnings.filterwarnings(\"ignore\")"
   ]
  },
  {
   "cell_type": "code",
   "execution_count": 2,
   "metadata": {
    "ExecuteTime": {
     "end_time": "2019-11-24T10:55:52.246391Z",
     "start_time": "2019-11-24T10:55:52.231276Z"
    }
   },
   "outputs": [],
   "source": [
    "# defining functions\n",
    "\n",
    "def Get_Feature_Importances(pipeline):\n",
    "    feature_names = pipeline.named_steps['features'].transformer_list[0][1].named_steps['vectorizer'].get_feature_names()\n",
    "    feature_names.extend(['word_count', 'char_count', 'word_density', 'total_length', 'capitals', 'caps_vs_length', 'num_exclamation_marks' ,'num_unique_words', 'words_vs_unique'])\n",
    "    #print(len(feature_names))\n",
    "    \n",
    "    coefficients = pipeline[1].coef_\n",
    "\n",
    "    importances = []\n",
    "    for coef in coefficients:\n",
    "        importances.append(list(coefficients.A[0]))\n",
    "    importances = importances[0]\n",
    "    #print(len(importances))\n",
    "    #print(importances)\n",
    "    \n",
    "    feature_importances = dict()\n",
    "    for i in range(len(feature_names)):\n",
    "        feature_importances[feature_names[i]] = importances[i]\n",
    "        #print(importances[i])\n",
    "\n",
    "    #print(len(feature_importances))\n",
    "    #print(feature_importances)\n",
    "    \n",
    "    return feature_importances\n",
    "\n",
    "def Plot_Feature_Importances(feature_importances, top_features=10):\n",
    "    top_positive_coefficients = dict(sorted(feature_importances.items(), key=lambda x: x[1], reverse=True)[:top_features])\n",
    "    top_negative_coefficients = dict(sorted(feature_importances.items(), key=lambda x: x[1], reverse=False)[:top_features])\n",
    "    top_coefficients = {**top_positive_coefficients , **top_negative_coefficients}\n",
    "    top_coefficients = dict(sorted(top_coefficients.items(), key=lambda x: x[1], reverse=False))\n",
    "    #type(top_coefficients)\n",
    "    #top_coefficients\n",
    "\n",
    "    plt.figure(figsize=(15, 5))\n",
    "    colors = ['red' if c < 0 else 'blue' for c in top_coefficients.values()]\n",
    "    plt.bar(np.arange(2 * top_features)+1, top_coefficients.values(), color=colors)\n",
    "    feature_names = list(top_coefficients.keys())\n",
    "    plt.xticks(np.arange(1, 1 + 2 * top_features), feature_names, rotation=60, ha='right')\n",
    "    plt.title('Feature Importances')\n",
    "    plt.show()"
   ]
  },
  {
   "cell_type": "code",
   "execution_count": 3,
   "metadata": {
    "ExecuteTime": {
     "end_time": "2019-11-24T10:55:53.329181Z",
     "start_time": "2019-11-24T10:55:52.300670Z"
    }
   },
   "outputs": [
    {
     "data": {
      "text/plain": [
       "(54870, 19)"
      ]
     },
     "execution_count": 3,
     "metadata": {},
     "output_type": "execute_result"
    }
   ],
   "source": [
    "# read the data\n",
    "\n",
    "df = pd.read_csv('sampdf_feat.csv')\n",
    "df.shape"
   ]
  },
  {
   "cell_type": "code",
   "execution_count": 4,
   "metadata": {
    "ExecuteTime": {
     "end_time": "2019-11-24T10:55:53.479743Z",
     "start_time": "2019-11-24T10:55:53.468874Z"
    }
   },
   "outputs": [],
   "source": [
    "# Create X and y dataframe\n",
    "\n",
    "X = df.loc[:, ['cleaned_comment_text', 'word_count', 'char_count', 'word_density', 'total_length',\n",
    "               'capitals', 'caps_vs_length', 'num_exclamation_marks', 'num_unique_words', 'words_vs_unique'\n",
    "               ]]\n",
    "y = df['toxic']"
   ]
  },
  {
   "cell_type": "code",
   "execution_count": 5,
   "metadata": {
    "ExecuteTime": {
     "end_time": "2019-11-24T10:55:53.844120Z",
     "start_time": "2019-11-24T10:55:53.805153Z"
    }
   },
   "outputs": [
    {
     "name": "stdout",
     "output_type": "stream",
     "text": [
      "X_train: (43896, 10)\n",
      "y_train: (43896,)\n",
      "X_test: (10974, 10)\n",
      "y_test: (10974,)\n"
     ]
    }
   ],
   "source": [
    "#Split train and test data\n",
    "X_train, X_test, y_train, y_test = train_test_split(X, y, test_size=0.20, random_state=2019)\n",
    "\n",
    "print(\"X_train:\", X_train.shape)\n",
    "print(\"y_train:\", y_train.shape)\n",
    "print(\"X_test:\", X_test.shape)\n",
    "print(\"y_test:\", y_test.shape)"
   ]
  },
  {
   "cell_type": "code",
   "execution_count": 6,
   "metadata": {
    "ExecuteTime": {
     "end_time": "2019-11-24T10:55:54.394471Z",
     "start_time": "2019-11-24T10:55:54.383166Z"
    }
   },
   "outputs": [],
   "source": [
    "# define classes for selecting features\n",
    "\n",
    "class TextSelector(BaseEstimator, TransformerMixin):\n",
    "    \"\"\"\n",
    "    Transformer to select a single column from the data frame to perform additional transformations on\n",
    "    Use on text columns in the data\n",
    "    \"\"\"\n",
    "    def __init__(self, key):\n",
    "        self.key = key\n",
    "\n",
    "    def fit(self, X, y=None):\n",
    "        return self\n",
    "\n",
    "    def transform(self, X):\n",
    "        return X[self.key]\n",
    "    \n",
    "class NumberSelector(BaseEstimator, TransformerMixin):\n",
    "    \"\"\"\n",
    "    Transformer to select a single column from the data frame to perform additional transformations on\n",
    "    Use on numeric columns in the data\n",
    "    \"\"\"\n",
    "    def __init__(self, key):\n",
    "        self.key = key\n",
    "\n",
    "    def fit(self, X, y=None):\n",
    "        return self\n",
    "\n",
    "    def transform(self, X):\n",
    "        return X[[self.key]]"
   ]
  },
  {
   "cell_type": "code",
   "execution_count": 7,
   "metadata": {
    "ExecuteTime": {
     "end_time": "2019-11-24T10:55:54.943326Z",
     "start_time": "2019-11-24T10:55:54.882036Z"
    }
   },
   "outputs": [
    {
     "data": {
      "text/plain": [
       "array([[ 0.78208655],\n",
       "       [ 0.78208655],\n",
       "       [ 0.78208655],\n",
       "       ...,\n",
       "       [ 0.78208655],\n",
       "       [-0.89978405],\n",
       "       [-0.25291074]])"
      ]
     },
     "execution_count": 7,
     "metadata": {},
     "output_type": "execute_result"
    }
   ],
   "source": [
    "# creating separate Pipelines for each feature\n",
    "\n",
    "word_count =  Pipeline([\n",
    "                ('selector', NumberSelector(key='word_count')),\n",
    "                ('standard', StandardScaler())\n",
    "            ])\n",
    "\n",
    "word_count.fit_transform(X_train)\n",
    "\n",
    "char_count =  Pipeline([\n",
    "                ('selector', NumberSelector(key='char_count')),\n",
    "                ('standard', StandardScaler())\n",
    "            ])\n",
    "\n",
    "char_count.fit_transform(X_train)\n",
    "\n",
    "word_density =  Pipeline([\n",
    "                ('selector', NumberSelector(key='word_density')),\n",
    "                ('standard', StandardScaler())\n",
    "            ])\n",
    "\n",
    "word_density.fit_transform(X_train)\n",
    "\n",
    "total_length =  Pipeline([\n",
    "                ('selector', NumberSelector(key='total_length')),\n",
    "                ('standard', StandardScaler())\n",
    "            ])\n",
    "\n",
    "total_length.fit_transform(X_train)\n",
    "\n",
    "capitals =  Pipeline([\n",
    "                ('selector', NumberSelector(key='capitals')),\n",
    "                ('standard', StandardScaler())\n",
    "            ])\n",
    "\n",
    "capitals.fit_transform(X_train)\n",
    "\n",
    "caps_vs_length =  Pipeline([\n",
    "                ('selector', NumberSelector(key='caps_vs_length')),\n",
    "                ('standard', StandardScaler())\n",
    "            ])\n",
    "\n",
    "caps_vs_length.fit_transform(X_train)\n",
    "\n",
    "num_exclamation_marks =  Pipeline([\n",
    "                ('selector', NumberSelector(key='num_exclamation_marks')),\n",
    "                ('standard', StandardScaler())\n",
    "            ])\n",
    "\n",
    "num_exclamation_marks.fit_transform(X_train)\n",
    "\n",
    "num_unique_words =  Pipeline([\n",
    "                ('selector', NumberSelector(key='num_unique_words')),\n",
    "                ('standard', StandardScaler())\n",
    "            ])\n",
    "\n",
    "num_unique_words.fit_transform(X_train)\n",
    "\n",
    "words_vs_unique =  Pipeline([\n",
    "                ('selector', NumberSelector(key='words_vs_unique')),\n",
    "                ('standard', StandardScaler())\n",
    "            ])\n",
    "\n",
    "words_vs_unique.fit_transform(X_train)"
   ]
  },
  {
   "cell_type": "markdown",
   "metadata": {},
   "source": [
    "##### USING TF-IDF VECTORIZER"
   ]
  },
  {
   "cell_type": "code",
   "execution_count": 8,
   "metadata": {
    "ExecuteTime": {
     "end_time": "2019-11-24T10:55:58.896856Z",
     "start_time": "2019-11-24T10:55:55.490981Z"
    }
   },
   "outputs": [
    {
     "data": {
      "text/plain": [
       "<43896x71424 sparse matrix of type '<class 'numpy.float64'>'\n",
       "\twith 872005 stored elements in Compressed Sparse Row format>"
      ]
     },
     "execution_count": 8,
     "metadata": {},
     "output_type": "execute_result"
    }
   ],
   "source": [
    "# TF-IDF vectorizer pipeline\n",
    "\n",
    "text = Pipeline([\n",
    "            ('selector', TextSelector(key='cleaned_comment_text')),\n",
    "            ('vectorizer', TfidfVectorizer(stop_words='english'))\n",
    "        ])\n",
    "\n",
    "text.fit_transform(X_train)"
   ]
  },
  {
   "cell_type": "code",
   "execution_count": 9,
   "metadata": {
    "ExecuteTime": {
     "end_time": "2019-11-24T10:56:03.257098Z",
     "start_time": "2019-11-24T10:55:59.536362Z"
    }
   },
   "outputs": [
    {
     "data": {
      "text/plain": [
       "<43896x71433 sparse matrix of type '<class 'numpy.float64'>'\n",
       "\twith 1267069 stored elements in Compressed Sparse Row format>"
      ]
     },
     "execution_count": 9,
     "metadata": {},
     "output_type": "execute_result"
    }
   ],
   "source": [
    "# creating feature union\n",
    "\n",
    "feats = FeatureUnion([('text', text), \n",
    "                      ('word_count', word_count),\n",
    "                      ('char_count', char_count),\n",
    "                      ('word_density', word_density),\n",
    "                      ('total_length', total_length),\n",
    "                      ('capitals', capitals), \n",
    "                      ('caps_vs_length', caps_vs_length), \n",
    "                      ('num_exclamation_marks', num_exclamation_marks), \n",
    "                      ('num_unique_words', num_unique_words), \n",
    "                      ('words_vs_unique', words_vs_unique)])\n",
    "\n",
    "feature_processing = Pipeline([('feats', feats)])\n",
    "feature_processing.fit_transform(X_train)"
   ]
  },
  {
   "cell_type": "code",
   "execution_count": 10,
   "metadata": {
    "ExecuteTime": {
     "end_time": "2019-11-24T10:56:05.006708Z",
     "start_time": "2019-11-24T10:56:04.994219Z"
    }
   },
   "outputs": [],
   "source": [
    "# defining the models\n",
    "\n",
    "range_C = [0.1, 0.5, 1.0]\n",
    "pipelines = []\n",
    "\n",
    "for C in range_C:\n",
    "    SVM = svm.SVC(C=C, kernel='linear')\n",
    "\n",
    "    pipeline = Pipeline([\n",
    "        ('features',feats),\n",
    "        ('classifier', SVM),\n",
    "    ])\n",
    "    \n",
    "    pipelines.append(pipeline)"
   ]
  },
  {
   "cell_type": "code",
   "execution_count": 11,
   "metadata": {
    "ExecuteTime": {
     "start_time": "2019-11-24T10:55:53.299Z"
    }
   },
   "outputs": [],
   "source": [
    "# train the models\n",
    "\n",
    "for pipeline in pipelines:\n",
    "    pipeline.fit(X_train, y_train)"
   ]
  },
  {
   "cell_type": "code",
   "execution_count": 12,
   "metadata": {
    "ExecuteTime": {
     "start_time": "2019-11-24T10:55:54.132Z"
    }
   },
   "outputs": [],
   "source": [
    "summary = pd.DataFrame(columns=['C', 'Avg Accuracy - Train', 'Micro Precision - Train', \n",
    "                                'Micro Recall - Train', 'Micro F1-score - Train',\n",
    "                                'Avg Accuracy - Test', 'Micro Precision - Test', \n",
    "                                'Micro Recall - Test', 'Micro F1-score - Test'])"
   ]
  },
  {
   "cell_type": "code",
   "execution_count": 13,
   "metadata": {
    "ExecuteTime": {
     "start_time": "2019-11-24T10:55:54.827Z"
    },
    "scrolled": true
   },
   "outputs": [
    {
     "name": "stdout",
     "output_type": "stream",
     "text": [
      "Calculating Training Metrics for C =  0.1\n",
      "Calculating Testing Metrics for C =  0.1\n",
      "Calculating Training Metrics for C =  0.5\n",
      "Calculating Testing Metrics for C =  0.5\n",
      "Calculating Training Metrics for C =  1.0\n",
      "Calculating Testing Metrics for C =  1.0\n"
     ]
    },
    {
     "data": {
      "text/html": [
       "<div>\n",
       "<style scoped>\n",
       "    .dataframe tbody tr th:only-of-type {\n",
       "        vertical-align: middle;\n",
       "    }\n",
       "\n",
       "    .dataframe tbody tr th {\n",
       "        vertical-align: top;\n",
       "    }\n",
       "\n",
       "    .dataframe thead th {\n",
       "        text-align: right;\n",
       "    }\n",
       "</style>\n",
       "<table border=\"1\" class=\"dataframe\">\n",
       "  <thead>\n",
       "    <tr style=\"text-align: right;\">\n",
       "      <th></th>\n",
       "      <th>C</th>\n",
       "      <th>Avg Accuracy - Train</th>\n",
       "      <th>Micro Precision - Train</th>\n",
       "      <th>Micro Recall - Train</th>\n",
       "      <th>Micro F1-score - Train</th>\n",
       "      <th>Avg Accuracy - Test</th>\n",
       "      <th>Micro Precision - Test</th>\n",
       "      <th>Micro Recall - Test</th>\n",
       "      <th>Micro F1-score - Test</th>\n",
       "    </tr>\n",
       "  </thead>\n",
       "  <tbody>\n",
       "    <tr>\n",
       "      <th>0</th>\n",
       "      <td>0.1</td>\n",
       "      <td>87.82</td>\n",
       "      <td>88.35</td>\n",
       "      <td>87.82</td>\n",
       "      <td>87.52</td>\n",
       "      <td>86.26</td>\n",
       "      <td>86.59</td>\n",
       "      <td>86.26</td>\n",
       "      <td>85.94</td>\n",
       "    </tr>\n",
       "    <tr>\n",
       "      <th>1</th>\n",
       "      <td>0.5</td>\n",
       "      <td>92.89</td>\n",
       "      <td>92.9</td>\n",
       "      <td>92.89</td>\n",
       "      <td>92.85</td>\n",
       "      <td>88.67</td>\n",
       "      <td>88.64</td>\n",
       "      <td>88.67</td>\n",
       "      <td>88.6</td>\n",
       "    </tr>\n",
       "    <tr>\n",
       "      <th>2</th>\n",
       "      <td>1</td>\n",
       "      <td>94.87</td>\n",
       "      <td>94.86</td>\n",
       "      <td>94.87</td>\n",
       "      <td>94.86</td>\n",
       "      <td>88.74</td>\n",
       "      <td>88.7</td>\n",
       "      <td>88.74</td>\n",
       "      <td>88.7</td>\n",
       "    </tr>\n",
       "  </tbody>\n",
       "</table>\n",
       "</div>"
      ],
      "text/plain": [
       "     C Avg Accuracy - Train Micro Precision - Train Micro Recall - Train  \\\n",
       "0  0.1                87.82                   88.35                87.82   \n",
       "1  0.5                92.89                    92.9                92.89   \n",
       "2    1                94.87                   94.86                94.87   \n",
       "\n",
       "  Micro F1-score - Train Avg Accuracy - Test Micro Precision - Test  \\\n",
       "0                  87.52               86.26                  86.59   \n",
       "1                  92.85               88.67                  88.64   \n",
       "2                  94.86               88.74                   88.7   \n",
       "\n",
       "  Micro Recall - Test Micro F1-score - Test  \n",
       "0               86.26                 85.94  \n",
       "1               88.67                  88.6  \n",
       "2               88.74                  88.7  "
      ]
     },
     "metadata": {},
     "output_type": "display_data"
    }
   ],
   "source": [
    "# predict and evaluate on training data\n",
    "\n",
    "for i in range(len(pipelines)):\n",
    "    \n",
    "    print('Calculating Training Metrics for C = ', range_C[i])\n",
    "    train_pred = pipelines[i].predict(X_train)\n",
    "\n",
    "    accuracy = accuracy_score(y_train, train_pred)\n",
    "    precision, recall, f1_score, support = precision_recall_fscore_support(y_train, train_pred, beta=1, average='weighted')\n",
    "    \n",
    "    summary.at[i, 'Avg Accuracy - Train'] = np.round(100*accuracy, 2)\n",
    "    summary.at[i, 'Micro Precision - Train'] = np.round(100*precision, 2)\n",
    "    summary.at[i, 'Micro Recall - Train'] = np.round(100*recall, 2)\n",
    "    summary.at[i, 'Micro F1-score - Train'] = np.round(100*f1_score, 2)\n",
    "    \n",
    "    print('Calculating Testing Metrics for C = ', range_C[i])\n",
    "    test_pred = pipelines[i].predict(X_test)\n",
    "\n",
    "    accuracy = accuracy_score(y_test, test_pred)\n",
    "    precision, recall, f1_score, support = precision_recall_fscore_support(y_test, test_pred, beta=1, average='weighted')\n",
    "    \n",
    "    summary.at[i, 'C'] = range_C[i]\n",
    "    summary.at[i, 'Avg Accuracy - Test'] = np.round(100*accuracy, 2)\n",
    "    summary.at[i, 'Micro Precision - Test'] = np.round(100*precision, 2)\n",
    "    summary.at[i, 'Micro Recall - Test'] = np.round(100*recall, 2)\n",
    "    summary.at[i, 'Micro F1-score - Test'] = np.round(100*f1_score, 2)\n",
    "    \n",
    "display(summary)"
   ]
  },
  {
   "cell_type": "code",
   "execution_count": 14,
   "metadata": {
    "ExecuteTime": {
     "start_time": "2019-11-24T10:55:56.651Z"
    }
   },
   "outputs": [
    {
     "data": {
      "image/png": "[encoded data removed]",
      "text/plain": [
       "<Figure size 432x288 with 1 Axes>"
      ]
     },
     "metadata": {
      "image/png": {
       "height": 270,
       "width": 382
      },
      "needs_background": "light"
     },
     "output_type": "display_data"
    }
   ],
   "source": [
    "# plot train F1-score and test F1-score\n",
    "\n",
    "fig = plt.figure(1)\n",
    "ax  = fig.add_subplot(111)\n",
    "a = np.arange(len(summary))\n",
    "\n",
    "plt.plot(summary['Micro F1-score - Train'], label='train')\n",
    "plt.plot(summary['Micro F1-score - Test'], label='test')\n",
    "ax.xaxis.set_ticks(a)\n",
    "ax.xaxis.set_ticklabels(range_C, rotation=45)\n",
    "plt.xlabel('C')\n",
    "plt.ylabel('Micro F1-score', rotation=90)\n",
    "plt.legend()\n",
    "plt.grid(True)"
   ]
  },
  {
   "cell_type": "markdown",
   "metadata": {},
   "source": [
    "Test score is highest at C = 1.0, we will select 1.0 for C."
   ]
  },
  {
   "cell_type": "code",
   "execution_count": 15,
   "metadata": {
    "ExecuteTime": {
     "start_time": "2019-11-24T10:53:09.669Z"
    }
   },
   "outputs": [
    {
     "name": "stdout",
     "output_type": "stream",
     "text": [
      "Calculating Testing Metrics for C = 1.0\n",
      "\n",
      "Confusion Matrix:\n",
      "[[6173  556]\n",
      " [ 680 3565]]\n",
      "\n",
      "Avg Accuracy: 88.74%\n",
      "\n",
      "Classification Report:\n",
      "              precision    recall  f1-score   support\n",
      "\n",
      "           0       0.90      0.92      0.91      6729\n",
      "           1       0.87      0.84      0.85      4245\n",
      "\n",
      "    accuracy                           0.89     10974\n",
      "   macro avg       0.88      0.88      0.88     10974\n",
      "weighted avg       0.89      0.89      0.89     10974\n",
      "\n",
      "Precision: 88.7%\n",
      "Recall: 88.74%\n",
      "F1 score: 88.7%\n"
     ]
    },
    {
     "data": {
      "image/png": "[encoded data removed]",
      "text/plain": [
       "<Figure size 1080x360 with 1 Axes>"
      ]
     },
     "metadata": {
      "image/png": {
       "height": 379,
       "width": 873
      },
      "needs_background": "light"
     },
     "output_type": "display_data"
    }
   ],
   "source": [
    "# detailed Test results for C = 1.0\n",
    "\n",
    "print('Calculating Testing Metrics for C = 1.0')\n",
    "test_pred = pipelines[2].predict(X_test)    \n",
    "    \n",
    "report = \"\"\"\n",
    "Confusion Matrix:\n",
    "{}\n",
    "\\nAvg Accuracy: {}%\n",
    "\"\"\".format(confusion_matrix(y_test, test_pred),\n",
    "           round(100*accuracy_score(y_test, test_pred), 2))\n",
    "print(report)\n",
    "\n",
    "print('Classification Report:')\n",
    "print(classification_report(y_test, test_pred))\n",
    "\n",
    "precision, recall, f1_score, support = precision_recall_fscore_support(y_test, test_pred, beta=1, average='weighted')\n",
    "\n",
    "print(\"Precision: {}%\".format(np.round(100*precision, 2)))\n",
    "print(\"Recall: {}%\".format(np.round(100*recall, 2)))\n",
    "print(\"F1 score: {}%\".format(np.round(100*f1_score, 2)))\n",
    "\n",
    "feature_importances = Get_Feature_Importances(pipelines[2])\n",
    "Plot_Feature_Importances(feature_importances) "
   ]
  },
  {
   "cell_type": "code",
   "execution_count": 16,
   "metadata": {
    "ExecuteTime": {
     "start_time": "2019-11-24T10:53:09.675Z"
    }
   },
   "outputs": [
    {
     "data": {
      "text/plain": [
       "['TFIDF_SVM_Level_1.joblib']"
      ]
     },
     "execution_count": 16,
     "metadata": {},
     "output_type": "execute_result"
    }
   ],
   "source": [
    "# saving the model\n",
    "\n",
    "filename = 'TFIDF_SVM_Level_1.joblib'\n",
    "joblib.dump(pipelines[2], filename)"
   ]
  },
  {
   "cell_type": "markdown",
   "metadata": {},
   "source": [
    "##### USING BINARY VECTORIZER"
   ]
  },
  {
   "cell_type": "code",
   "execution_count": 17,
   "metadata": {
    "ExecuteTime": {
     "start_time": "2019-11-24T10:53:09.679Z"
    }
   },
   "outputs": [
    {
     "data": {
      "text/plain": [
       "<43896x71424 sparse matrix of type '<class 'numpy.float64'>'\n",
       "\twith 872005 stored elements in Compressed Sparse Row format>"
      ]
     },
     "execution_count": 17,
     "metadata": {},
     "output_type": "execute_result"
    }
   ],
   "source": [
    "# Binary vectorizer pipeline\n",
    "\n",
    "text = Pipeline([\n",
    "            ('selector', TextSelector(key='cleaned_comment_text')),\n",
    "            ('vectorizer', TfidfVectorizer(stop_words='english', binary=True, use_idf=False, norm=False))\n",
    "        ])\n",
    "\n",
    "text.fit_transform(X_train)"
   ]
  },
  {
   "cell_type": "code",
   "execution_count": 18,
   "metadata": {
    "ExecuteTime": {
     "start_time": "2019-11-24T10:53:09.684Z"
    }
   },
   "outputs": [
    {
     "data": {
      "text/plain": [
       "<43896x71433 sparse matrix of type '<class 'numpy.float64'>'\n",
       "\twith 1267069 stored elements in Compressed Sparse Row format>"
      ]
     },
     "execution_count": 18,
     "metadata": {},
     "output_type": "execute_result"
    }
   ],
   "source": [
    "# creating feature union\n",
    "\n",
    "feats = FeatureUnion([('text', text), \n",
    "                      ('word_count', word_count),\n",
    "                      ('char_count', char_count),\n",
    "                      ('word_density', word_density),\n",
    "                      ('total_length', total_length),\n",
    "                      ('capitals', capitals), \n",
    "                      ('caps_vs_length', caps_vs_length), \n",
    "                      ('num_exclamation_marks', num_exclamation_marks), \n",
    "                      ('num_unique_words', num_unique_words), \n",
    "                      ('words_vs_unique', words_vs_unique)])\n",
    "\n",
    "feature_processing = Pipeline([('feats', feats)])\n",
    "feature_processing.fit_transform(X_train)"
   ]
  },
  {
   "cell_type": "code",
   "execution_count": 19,
   "metadata": {
    "ExecuteTime": {
     "start_time": "2019-11-24T10:53:09.689Z"
    }
   },
   "outputs": [],
   "source": [
    "# defining the models\n",
    "\n",
    "range_C = [0.1, 0.5, 1.0]\n",
    "pipelines = []\n",
    "\n",
    "for C in range_C:\n",
    "    SVM = svm.SVC(C=C, kernel='linear')\n",
    "\n",
    "    pipeline = Pipeline([\n",
    "        ('features',feats),\n",
    "        ('classifier', SVM),\n",
    "    ])\n",
    "    \n",
    "    pipelines.append(pipeline)"
   ]
  },
  {
   "cell_type": "code",
   "execution_count": 20,
   "metadata": {
    "ExecuteTime": {
     "start_time": "2019-11-24T10:53:09.694Z"
    }
   },
   "outputs": [],
   "source": [
    "# train the model\n",
    "\n",
    "for pipeline in pipelines:\n",
    "    pipeline.fit(X_train, y_train)"
   ]
  },
  {
   "cell_type": "code",
   "execution_count": 21,
   "metadata": {
    "ExecuteTime": {
     "start_time": "2019-11-24T10:53:09.697Z"
    }
   },
   "outputs": [],
   "source": [
    "summary = pd.DataFrame(columns=['C', 'Avg Accuracy - Train', 'Micro Precision - Train', \n",
    "                                'Micro Recall - Train', 'Micro F1-score - Train',\n",
    "                                'Avg Accuracy - Test', 'Micro Precision - Test', \n",
    "                                'Micro Recall - Test', 'Micro F1-score - Test'])"
   ]
  },
  {
   "cell_type": "code",
   "execution_count": 22,
   "metadata": {
    "ExecuteTime": {
     "start_time": "2019-11-24T10:53:09.703Z"
    },
    "scrolled": true
   },
   "outputs": [
    {
     "name": "stdout",
     "output_type": "stream",
     "text": [
      "Calculating Training Metrics for C =  0.1\n",
      "Calculating Testing Metrics for C =  0.1\n",
      "Calculating Training Metrics for C =  0.5\n",
      "Calculating Testing Metrics for C =  0.5\n",
      "Calculating Training Metrics for C =  1.0\n",
      "Calculating Testing Metrics for C =  1.0\n"
     ]
    },
    {
     "data": {
      "text/html": [
       "<div>\n",
       "<style scoped>\n",
       "    .dataframe tbody tr th:only-of-type {\n",
       "        vertical-align: middle;\n",
       "    }\n",
       "\n",
       "    .dataframe tbody tr th {\n",
       "        vertical-align: top;\n",
       "    }\n",
       "\n",
       "    .dataframe thead th {\n",
       "        text-align: right;\n",
       "    }\n",
       "</style>\n",
       "<table border=\"1\" class=\"dataframe\">\n",
       "  <thead>\n",
       "    <tr style=\"text-align: right;\">\n",
       "      <th></th>\n",
       "      <th>C</th>\n",
       "      <th>Avg Accuracy - Train</th>\n",
       "      <th>Micro Precision - Train</th>\n",
       "      <th>Micro Recall - Train</th>\n",
       "      <th>Micro F1-score - Train</th>\n",
       "      <th>Avg Accuracy - Test</th>\n",
       "      <th>Micro Precision - Test</th>\n",
       "      <th>Micro Recall - Test</th>\n",
       "      <th>Micro F1-score - Test</th>\n",
       "    </tr>\n",
       "  </thead>\n",
       "  <tbody>\n",
       "    <tr>\n",
       "      <th>0</th>\n",
       "      <td>0.1</td>\n",
       "      <td>93.13</td>\n",
       "      <td>93.13</td>\n",
       "      <td>93.13</td>\n",
       "      <td>93.1</td>\n",
       "      <td>88.5</td>\n",
       "      <td>88.46</td>\n",
       "      <td>88.5</td>\n",
       "      <td>88.43</td>\n",
       "    </tr>\n",
       "    <tr>\n",
       "      <th>1</th>\n",
       "      <td>0.5</td>\n",
       "      <td>97.1</td>\n",
       "      <td>97.1</td>\n",
       "      <td>97.1</td>\n",
       "      <td>97.1</td>\n",
       "      <td>88.41</td>\n",
       "      <td>88.38</td>\n",
       "      <td>88.41</td>\n",
       "      <td>88.39</td>\n",
       "    </tr>\n",
       "    <tr>\n",
       "      <th>2</th>\n",
       "      <td>1</td>\n",
       "      <td>98.16</td>\n",
       "      <td>98.16</td>\n",
       "      <td>98.16</td>\n",
       "      <td>98.16</td>\n",
       "      <td>87.97</td>\n",
       "      <td>87.96</td>\n",
       "      <td>87.97</td>\n",
       "      <td>87.97</td>\n",
       "    </tr>\n",
       "  </tbody>\n",
       "</table>\n",
       "</div>"
      ],
      "text/plain": [
       "     C Avg Accuracy - Train Micro Precision - Train Micro Recall - Train  \\\n",
       "0  0.1                93.13                   93.13                93.13   \n",
       "1  0.5                 97.1                    97.1                 97.1   \n",
       "2    1                98.16                   98.16                98.16   \n",
       "\n",
       "  Micro F1-score - Train Avg Accuracy - Test Micro Precision - Test  \\\n",
       "0                   93.1                88.5                  88.46   \n",
       "1                   97.1               88.41                  88.38   \n",
       "2                  98.16               87.97                  87.96   \n",
       "\n",
       "  Micro Recall - Test Micro F1-score - Test  \n",
       "0                88.5                 88.43  \n",
       "1               88.41                 88.39  \n",
       "2               87.97                 87.97  "
      ]
     },
     "metadata": {},
     "output_type": "display_data"
    }
   ],
   "source": [
    "# predict and evaluate on training data\n",
    "\n",
    "for i in range(len(pipelines)):\n",
    "    \n",
    "    print('Calculating Training Metrics for C = ', range_C[i])\n",
    "    train_pred = pipelines[i].predict(X_train)\n",
    "\n",
    "    accuracy = accuracy_score(y_train, train_pred)\n",
    "    precision, recall, f1_score, support = precision_recall_fscore_support(y_train, train_pred, beta=1, average='weighted')\n",
    "    \n",
    "    summary.at[i, 'Avg Accuracy - Train'] = np.round(100*accuracy, 2)\n",
    "    summary.at[i, 'Micro Precision - Train'] = np.round(100*precision, 2)\n",
    "    summary.at[i, 'Micro Recall - Train'] = np.round(100*recall, 2)\n",
    "    summary.at[i, 'Micro F1-score - Train'] = np.round(100*f1_score, 2)\n",
    "    \n",
    "    print('Calculating Testing Metrics for C = ', range_C[i])\n",
    "    test_pred = pipelines[i].predict(X_test)\n",
    "\n",
    "    accuracy = accuracy_score(y_test, test_pred)\n",
    "    precision, recall, f1_score, support = precision_recall_fscore_support(y_test, test_pred, beta=1, average='weighted')\n",
    "    \n",
    "    summary.at[i, 'C'] = range_C[i]\n",
    "    summary.at[i, 'Avg Accuracy - Test'] = np.round(100*accuracy, 2)\n",
    "    summary.at[i, 'Micro Precision - Test'] = np.round(100*precision, 2)\n",
    "    summary.at[i, 'Micro Recall - Test'] = np.round(100*recall, 2)\n",
    "    summary.at[i, 'Micro F1-score - Test'] = np.round(100*f1_score, 2)\n",
    "    \n",
    "display(summary)"
   ]
  },
  {
   "cell_type": "code",
   "execution_count": 23,
   "metadata": {
    "ExecuteTime": {
     "start_time": "2019-11-24T10:53:09.706Z"
    }
   },
   "outputs": [
    {
     "data": {
      "image/png": "[encoded data removed]",
      "text/plain": [
       "<Figure size 432x288 with 1 Axes>"
      ]
     },
     "metadata": {
      "image/png": {
       "height": 270,
       "width": 382
      },
      "needs_background": "light"
     },
     "output_type": "display_data"
    }
   ],
   "source": [
    "# plot train F1-score and test F1-score\n",
    "\n",
    "fig = plt.figure(1)\n",
    "ax  = fig.add_subplot(111)\n",
    "a = np.arange(len(summary))\n",
    "\n",
    "plt.plot(summary['Micro F1-score - Train'], label='train')\n",
    "plt.plot(summary['Micro F1-score - Test'], label='test')\n",
    "ax.xaxis.set_ticks(a)\n",
    "ax.xaxis.set_ticklabels(range_C, rotation=45)\n",
    "plt.xlabel('C')\n",
    "plt.ylabel('Micro F1-score', rotation=90)\n",
    "plt.legend()\n",
    "plt.grid(True)"
   ]
  },
  {
   "cell_type": "markdown",
   "metadata": {},
   "source": [
    "Test score is highest at C = 0.1, we will select 0.1 for C."
   ]
  },
  {
   "cell_type": "code",
   "execution_count": 24,
   "metadata": {
    "ExecuteTime": {
     "start_time": "2019-11-24T10:53:09.710Z"
    },
    "scrolled": true
   },
   "outputs": [
    {
     "name": "stdout",
     "output_type": "stream",
     "text": [
      "Calculating Testing Metrics for C = 0.1\n",
      "\n",
      "Confusion Matrix:\n",
      "[[6224  505]\n",
      " [ 757 3488]]\n",
      "\n",
      "Avg Accuracy: 88.5%\n",
      "\n",
      "Classification Report:\n",
      "              precision    recall  f1-score   support\n",
      "\n",
      "           0       0.89      0.92      0.91      6729\n",
      "           1       0.87      0.82      0.85      4245\n",
      "\n",
      "    accuracy                           0.89     10974\n",
      "   macro avg       0.88      0.87      0.88     10974\n",
      "weighted avg       0.88      0.89      0.88     10974\n",
      "\n",
      "Precision: 88.46%\n",
      "Recall: 88.5%\n",
      "F1 score: 88.43%\n"
     ]
    },
    {
     "data": {
      "image/png": "[encoded data removed]",
      "text/plain": [
       "<Figure size 1080x360 with 1 Axes>"
      ]
     },
     "metadata": {
      "image/png": {
       "height": 349,
       "width": 882
      },
      "needs_background": "light"
     },
     "output_type": "display_data"
    }
   ],
   "source": [
    "# detailed Test results for C = 0.1\n",
    "\n",
    "print('Calculating Testing Metrics for C = 0.1')\n",
    "test_pred = pipelines[0].predict(X_test)    \n",
    "    \n",
    "report = \"\"\"\n",
    "Confusion Matrix:\n",
    "{}\n",
    "\\nAvg Accuracy: {}%\n",
    "\"\"\".format(confusion_matrix(y_test, test_pred),\n",
    "           round(100*accuracy_score(y_test, test_pred), 2))\n",
    "print(report)\n",
    "\n",
    "print('Classification Report:')\n",
    "print(classification_report(y_test, test_pred))\n",
    "\n",
    "precision, recall, f1_score, support = precision_recall_fscore_support(y_test, test_pred, beta=1, average='weighted')\n",
    "\n",
    "print(\"Precision: {}%\".format(np.round(100*precision, 2)))\n",
    "print(\"Recall: {}%\".format(np.round(100*recall, 2)))\n",
    "print(\"F1 score: {}%\".format(np.round(100*f1_score, 2)))\n",
    "\n",
    "feature_importances = Get_Feature_Importances(pipelines[0])\n",
    "Plot_Feature_Importances(feature_importances) "
   ]
  },
  {
   "cell_type": "code",
   "execution_count": 25,
   "metadata": {
    "ExecuteTime": {
     "start_time": "2019-11-24T10:53:09.714Z"
    }
   },
   "outputs": [
    {
     "data": {
      "text/plain": [
       "['Binary_SVM_Level_1.joblib']"
      ]
     },
     "execution_count": 25,
     "metadata": {},
     "output_type": "execute_result"
    }
   ],
   "source": [
    "# saving the model\n",
    "\n",
    "filename = 'Binary_SVM_Level_1.joblib'\n",
    "joblib.dump(pipelines[0], filename)"
   ]
  },
  {
   "cell_type": "markdown",
   "metadata": {},
   "source": [
    "##### USING COUNT VECTORIZER"
   ]
  },
  {
   "cell_type": "code",
   "execution_count": 8,
   "metadata": {
    "ExecuteTime": {
     "start_time": "2019-11-24T10:53:09.719Z"
    }
   },
   "outputs": [
    {
     "data": {
      "text/plain": [
       "<43896x71424 sparse matrix of type '<class 'numpy.int64'>'\n",
       "\twith 872005 stored elements in Compressed Sparse Row format>"
      ]
     },
     "execution_count": 8,
     "metadata": {},
     "output_type": "execute_result"
    }
   ],
   "source": [
    "# Count vectorizer pipeline\n",
    "\n",
    "text = Pipeline([\n",
    "            ('selector', TextSelector(key='cleaned_comment_text')),\n",
    "            ('vectorizer', CountVectorizer(stop_words='english'))\n",
    "        ])\n",
    "\n",
    "text.fit_transform(X_train)"
   ]
  },
  {
   "cell_type": "code",
   "execution_count": 9,
   "metadata": {
    "ExecuteTime": {
     "start_time": "2019-11-24T10:53:09.723Z"
    }
   },
   "outputs": [
    {
     "data": {
      "text/plain": [
       "<43896x71433 sparse matrix of type '<class 'numpy.float64'>'\n",
       "\twith 1267069 stored elements in Compressed Sparse Row format>"
      ]
     },
     "execution_count": 9,
     "metadata": {},
     "output_type": "execute_result"
    }
   ],
   "source": [
    "# creating feature union\n",
    "\n",
    "feats = FeatureUnion([('text', text), \n",
    "                      ('word_count', word_count),\n",
    "                      ('char_count', char_count),\n",
    "                      ('word_density', word_density),\n",
    "                      ('total_length', total_length),\n",
    "                      ('capitals', capitals), \n",
    "                      ('caps_vs_length', caps_vs_length), \n",
    "                      ('num_exclamation_marks', num_exclamation_marks), \n",
    "                      ('num_unique_words', num_unique_words), \n",
    "                      ('words_vs_unique', words_vs_unique)])\n",
    "\n",
    "feature_processing = Pipeline([('feats', feats)])\n",
    "feature_processing.fit_transform(X_train)"
   ]
  },
  {
   "cell_type": "code",
   "execution_count": 10,
   "metadata": {
    "ExecuteTime": {
     "start_time": "2019-11-24T10:53:09.727Z"
    }
   },
   "outputs": [],
   "source": [
    "# defining the models\n",
    "\n",
    "range_C = [0.1, 0.5, 1.0]\n",
    "pipelines = []\n",
    "\n",
    "for C in range_C:\n",
    "    SVM = svm.SVC(C=C, kernel='linear')\n",
    "\n",
    "    pipeline = Pipeline([\n",
    "        ('features',feats),\n",
    "        ('classifier', SVM),\n",
    "    ])\n",
    "    \n",
    "    pipelines.append(pipeline)"
   ]
  },
  {
   "cell_type": "code",
   "execution_count": 11,
   "metadata": {
    "ExecuteTime": {
     "start_time": "2019-11-24T10:53:09.731Z"
    }
   },
   "outputs": [],
   "source": [
    "# train the model\n",
    "\n",
    "for pipeline in pipelines:\n",
    "    pipeline.fit(X_train, y_train)    "
   ]
  },
  {
   "cell_type": "code",
   "execution_count": 12,
   "metadata": {
    "ExecuteTime": {
     "start_time": "2019-11-24T10:53:09.734Z"
    }
   },
   "outputs": [],
   "source": [
    "summary = pd.DataFrame(columns=['C', 'Avg Accuracy - Train', 'Micro Precision - Train', \n",
    "                                'Micro Recall - Train', 'Micro F1-score - Train',\n",
    "                                'Avg Accuracy - Test', 'Micro Precision - Test', \n",
    "                                'Micro Recall - Test', 'Micro F1-score - Test'])"
   ]
  },
  {
   "cell_type": "code",
   "execution_count": 13,
   "metadata": {
    "ExecuteTime": {
     "start_time": "2019-11-24T10:53:09.744Z"
    },
    "scrolled": true
   },
   "outputs": [
    {
     "name": "stdout",
     "output_type": "stream",
     "text": [
      "Calculating Training Metrics for C =  0.1\n",
      "Calculating Testing Metrics for C =  0.1\n",
      "Calculating Training Metrics for C =  0.5\n",
      "Calculating Testing Metrics for C =  0.5\n",
      "Calculating Training Metrics for C =  1.0\n",
      "Calculating Testing Metrics for C =  1.0\n"
     ]
    },
    {
     "data": {
      "text/html": [
       "<div>\n",
       "<style scoped>\n",
       "    .dataframe tbody tr th:only-of-type {\n",
       "        vertical-align: middle;\n",
       "    }\n",
       "\n",
       "    .dataframe tbody tr th {\n",
       "        vertical-align: top;\n",
       "    }\n",
       "\n",
       "    .dataframe thead th {\n",
       "        text-align: right;\n",
       "    }\n",
       "</style>\n",
       "<table border=\"1\" class=\"dataframe\">\n",
       "  <thead>\n",
       "    <tr style=\"text-align: right;\">\n",
       "      <th></th>\n",
       "      <th>C</th>\n",
       "      <th>Avg Accuracy - Train</th>\n",
       "      <th>Micro Precision - Train</th>\n",
       "      <th>Micro Recall - Train</th>\n",
       "      <th>Micro F1-score - Train</th>\n",
       "      <th>Avg Accuracy - Test</th>\n",
       "      <th>Micro Precision - Test</th>\n",
       "      <th>Micro Recall - Test</th>\n",
       "      <th>Micro F1-score - Test</th>\n",
       "    </tr>\n",
       "  </thead>\n",
       "  <tbody>\n",
       "    <tr>\n",
       "      <th>0</th>\n",
       "      <td>0.1</td>\n",
       "      <td>93.51</td>\n",
       "      <td>93.52</td>\n",
       "      <td>93.51</td>\n",
       "      <td>93.47</td>\n",
       "      <td>88.36</td>\n",
       "      <td>88.32</td>\n",
       "      <td>88.36</td>\n",
       "      <td>88.29</td>\n",
       "    </tr>\n",
       "    <tr>\n",
       "      <th>1</th>\n",
       "      <td>0.5</td>\n",
       "      <td>97.19</td>\n",
       "      <td>97.19</td>\n",
       "      <td>97.19</td>\n",
       "      <td>97.19</td>\n",
       "      <td>87.94</td>\n",
       "      <td>87.92</td>\n",
       "      <td>87.94</td>\n",
       "      <td>87.93</td>\n",
       "    </tr>\n",
       "    <tr>\n",
       "      <th>2</th>\n",
       "      <td>1</td>\n",
       "      <td>98.24</td>\n",
       "      <td>98.24</td>\n",
       "      <td>98.24</td>\n",
       "      <td>98.24</td>\n",
       "      <td>87.42</td>\n",
       "      <td>87.42</td>\n",
       "      <td>87.42</td>\n",
       "      <td>87.42</td>\n",
       "    </tr>\n",
       "  </tbody>\n",
       "</table>\n",
       "</div>"
      ],
      "text/plain": [
       "     C Avg Accuracy - Train Micro Precision - Train Micro Recall - Train  \\\n",
       "0  0.1                93.51                   93.52                93.51   \n",
       "1  0.5                97.19                   97.19                97.19   \n",
       "2    1                98.24                   98.24                98.24   \n",
       "\n",
       "  Micro F1-score - Train Avg Accuracy - Test Micro Precision - Test  \\\n",
       "0                  93.47               88.36                  88.32   \n",
       "1                  97.19               87.94                  87.92   \n",
       "2                  98.24               87.42                  87.42   \n",
       "\n",
       "  Micro Recall - Test Micro F1-score - Test  \n",
       "0               88.36                 88.29  \n",
       "1               87.94                 87.93  \n",
       "2               87.42                 87.42  "
      ]
     },
     "metadata": {},
     "output_type": "display_data"
    }
   ],
   "source": [
    "# predict and evaluate on training data\n",
    "\n",
    "for i in range(len(pipelines)):\n",
    "    \n",
    "    print('Calculating Training Metrics for C = ', range_C[i])\n",
    "    train_pred = pipelines[i].predict(X_train)\n",
    "\n",
    "    accuracy = accuracy_score(y_train, train_pred)\n",
    "    precision, recall, f1_score, support = precision_recall_fscore_support(y_train, train_pred, beta=1, average='weighted')\n",
    "    \n",
    "    summary.at[i, 'Avg Accuracy - Train'] = np.round(100*accuracy, 2)\n",
    "    summary.at[i, 'Micro Precision - Train'] = np.round(100*precision, 2)\n",
    "    summary.at[i, 'Micro Recall - Train'] = np.round(100*recall, 2)\n",
    "    summary.at[i, 'Micro F1-score - Train'] = np.round(100*f1_score, 2)\n",
    "    \n",
    "    print('Calculating Testing Metrics for C = ', range_C[i])\n",
    "    test_pred = pipelines[i].predict(X_test)\n",
    "\n",
    "    accuracy = accuracy_score(y_test, test_pred)\n",
    "    precision, recall, f1_score, support = precision_recall_fscore_support(y_test, test_pred, beta=1, average='weighted')\n",
    "    \n",
    "    summary.at[i, 'C'] = range_C[i]\n",
    "    summary.at[i, 'Avg Accuracy - Test'] = np.round(100*accuracy, 2)\n",
    "    summary.at[i, 'Micro Precision - Test'] = np.round(100*precision, 2)\n",
    "    summary.at[i, 'Micro Recall - Test'] = np.round(100*recall, 2)\n",
    "    summary.at[i, 'Micro F1-score - Test'] = np.round(100*f1_score, 2)\n",
    "    \n",
    "display(summary)"
   ]
  },
  {
   "cell_type": "code",
   "execution_count": 14,
   "metadata": {
    "ExecuteTime": {
     "start_time": "2019-11-24T10:53:09.749Z"
    }
   },
   "outputs": [
    {
     "data": {
      "image/png": "[encoded data removed]",
      "text/plain": [
       "<Figure size 432x288 with 1 Axes>"
      ]
     },
     "metadata": {
      "image/png": {
       "height": 270,
       "width": 382
      },
      "needs_background": "light"
     },
     "output_type": "display_data"
    }
   ],
   "source": [
    "# plot train F1-score and test F1-score\n",
    "\n",
    "fig = plt.figure(1)\n",
    "ax  = fig.add_subplot(111)\n",
    "a = np.arange(len(summary))\n",
    "\n",
    "plt.plot(summary['Micro F1-score - Train'], label='train')\n",
    "plt.plot(summary['Micro F1-score - Test'], label='test')\n",
    "ax.xaxis.set_ticks(a)\n",
    "ax.xaxis.set_ticklabels(range_C, rotation=45)\n",
    "plt.xlabel('C')\n",
    "plt.ylabel('Micro F1-score', rotation=90)\n",
    "plt.legend()\n",
    "plt.grid(True)"
   ]
  },
  {
   "cell_type": "markdown",
   "metadata": {},
   "source": [
    "Test score is highest at C = 1.0, we will select 1.0 for C."
   ]
  },
  {
   "cell_type": "code",
   "execution_count": 15,
   "metadata": {
    "ExecuteTime": {
     "start_time": "2019-11-24T10:53:09.754Z"
    },
    "scrolled": true
   },
   "outputs": [
    {
     "name": "stdout",
     "output_type": "stream",
     "text": [
      "Calculating Testing Metrics for C = 0.1\n",
      "\n",
      "Confusion Matrix:\n",
      "[[6218  511]\n",
      " [ 766 3479]]\n",
      "\n",
      "Avg Accuracy: 88.36%\n",
      "\n",
      "Classification Report:\n",
      "              precision    recall  f1-score   support\n",
      "\n",
      "           0       0.89      0.92      0.91      6729\n",
      "           1       0.87      0.82      0.84      4245\n",
      "\n",
      "    accuracy                           0.88     10974\n",
      "   macro avg       0.88      0.87      0.88     10974\n",
      "weighted avg       0.88      0.88      0.88     10974\n",
      "\n",
      "Precision: 88.32%\n",
      "Recall: 88.36%\n",
      "F1 score: 88.29%\n"
     ]
    },
    {
     "data": {
      "image/png": "[encoded data removed]",
      "text/plain": [
       "<Figure size 1080x360 with 1 Axes>"
      ]
     },
     "metadata": {
      "image/png": {
       "height": 364,
       "width": 882
      },
      "needs_background": "light"
     },
     "output_type": "display_data"
    }
   ],
   "source": [
    "# detailed Test results for C = 0.1\n",
    "\n",
    "print('Calculating Testing Metrics for C = 0.1')\n",
    "test_pred = pipelines[0].predict(X_test)    \n",
    "    \n",
    "report = \"\"\"\n",
    "Confusion Matrix:\n",
    "{}\n",
    "\\nAvg Accuracy: {}%\n",
    "\"\"\".format(confusion_matrix(y_test, test_pred),\n",
    "           round(100*accuracy_score(y_test, test_pred), 2))\n",
    "print(report)\n",
    "\n",
    "print('Classification Report:')\n",
    "print(classification_report(y_test, test_pred))\n",
    "\n",
    "precision, recall, f1_score, support = precision_recall_fscore_support(y_test, test_pred, beta=1, average='weighted')\n",
    "\n",
    "print(\"Precision: {}%\".format(np.round(100*precision, 2)))\n",
    "print(\"Recall: {}%\".format(np.round(100*recall, 2)))\n",
    "print(\"F1 score: {}%\".format(np.round(100*f1_score, 2)))\n",
    "\n",
    "feature_importances = Get_Feature_Importances(pipelines[0])\n",
    "Plot_Feature_Importances(feature_importances) "
   ]
  },
  {
   "cell_type": "code",
   "execution_count": 16,
   "metadata": {
    "ExecuteTime": {
     "start_time": "2019-11-24T10:53:09.759Z"
    }
   },
   "outputs": [
    {
     "data": {
      "text/plain": [
       "['Count_SVM_Level_1.joblib']"
      ]
     },
     "execution_count": 16,
     "metadata": {},
     "output_type": "execute_result"
    }
   ],
   "source": [
    "# saving the model\n",
    "\n",
    "filename = 'Count_SVM_Level_1.joblib'\n",
    "joblib.dump(pipelines[0], filename)"
   ]
  }
 ],
 "metadata": {
  "hide_input": false,
  "kernelspec": {
   "display_name": "Python 3",
   "language": "python",
   "name": "python3"
  },
  "language_info": {
   "codemirror_mode": {
    "name": "ipython",
    "version": 3
   },
   "file_extension": ".py",
   "mimetype": "text/x-python",
   "name": "python",
   "nbconvert_exporter": "python",
   "pygments_lexer": "ipython3",
   "version": "3.7.3"
  },
  "toc": {
   "base_numbering": 1,
   "nav_menu": {},
   "number_sections": true,
   "sideBar": true,
   "skip_h1_title": false,
   "title_cell": "Table of Contents",
   "title_sidebar": "Contents",
   "toc_cell": false,
   "toc_position": {},
   "toc_section_display": true,
   "toc_window_display": false
  },
  "varInspector": {
   "cols": {
    "lenName": 16,
    "lenType": 16,
    "lenVar": 40
   },
   "kernels_config": {
    "python": {
     "delete_cmd_postfix": "",
     "delete_cmd_prefix": "del ",
     "library": "var_list.py",
     "varRefreshCmd": "print(var_dic_list())"
    },
    "r": {
     "delete_cmd_postfix": ") ",
     "delete_cmd_prefix": "rm(",
     "library": "var_list.r",
     "varRefreshCmd": "cat(var_dic_list()) "
    }
   },
   "types_to_exclude": [
    "module",
    "function",
    "builtin_function_or_method",
    "instance",
    "_Feature"
   ],
   "window_display": false
  }
 },
 "nbformat": 4,
 "nbformat_minor": 2
}
