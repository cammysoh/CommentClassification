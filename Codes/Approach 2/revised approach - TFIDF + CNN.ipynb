{
 "cells": [
  {
   "cell_type": "code",
   "execution_count": 48,
   "metadata": {},
   "outputs": [],
   "source": [
    "import pandas as pd\n",
    "import numpy as np\n",
    "\n",
    "import nltk\n",
    "from nltk.tokenize import word_tokenize\n",
    "\n",
    "from sklearn.model_selection import train_test_split\n",
    "\n",
    "from sklearn.pipeline import Pipeline\n",
    "\n",
    "from sklearn.feature_extraction import DictVectorizer\n",
    "from sklearn.feature_extraction.text import TfidfVectorizer\n",
    "\n",
    "from sklearn.naive_bayes import MultinomialNB \n",
    "\n",
    "from sklearn.multiclass import OneVsRestClassifier\n",
    "\n",
    "from sklearn.metrics import accuracy_score, precision_score, recall_score, f1_score\n",
    "from sklearn.metrics import precision_recall_fscore_support\n",
    "from sklearn.metrics import classification_report\n",
    "from sklearn.metrics import confusion_matrix   \n",
    "from sklearn.metrics import multilabel_confusion_matrix\n",
    "\n",
    "from scipy.sparse import csr_matrix\n",
    "from scipy.sparse import hstack\n",
    "\n",
    "from sklearn.preprocessing import StandardScaler\n",
    "from sklearn.preprocessing import MinMaxScaler\n",
    "\n",
    "import tensorflow as tf\n",
    "from tensorflow import keras\n",
    "from tensorflow.keras import layers\n",
    "\n",
    "from keras.preprocessing.text import Tokenizer, text_to_word_sequence\n",
    "\n",
    "from keras.preprocessing import sequence\n",
    "\n",
    "from keras.models import Sequential\n",
    "\n",
    "from keras.layers import InputLayer, Input, Dense, Dropout, Activation\n",
    "from keras.layers import Embedding\n",
    "from keras.layers import Conv1D, GlobalMaxPooling1D\n",
    "\n",
    "from IPython.display import SVG, Image\n",
    "\n",
    "from keras.utils import model_to_dot\n",
    "from keras.utils import plot_model"
   ]
  },
  {
   "cell_type": "code",
   "execution_count": 2,
   "metadata": {},
   "outputs": [],
   "source": [
    "# Display setting to show more characters\n",
    "pd.options.display.max_colwidth = 999\n",
    "pd.options.display.max_rows = 999"
   ]
  },
  {
   "cell_type": "code",
   "execution_count": 3,
   "metadata": {},
   "outputs": [],
   "source": [
    "df = pd.read_csv(\"C:/Users/User/OneDrive - Singapore Management University/YALING SMU MITB/10 APPLIED MACHINE LEARNING/Project/Latest Consolidated/sampdf_feat.csv\") "
   ]
  },
  {
   "cell_type": "code",
   "execution_count": 4,
   "metadata": {},
   "outputs": [
    {
     "data": {
      "text/plain": [
       "(54870, 19)"
      ]
     },
     "execution_count": 4,
     "metadata": {},
     "output_type": "execute_result"
    }
   ],
   "source": [
    "df.shape"
   ]
  },
  {
   "cell_type": "code",
   "execution_count": 5,
   "metadata": {},
   "outputs": [
    {
     "data": {
      "text/html": [
       "<div>\n",
       "<style scoped>\n",
       "    .dataframe tbody tr th:only-of-type {\n",
       "        vertical-align: middle;\n",
       "    }\n",
       "\n",
       "    .dataframe tbody tr th {\n",
       "        vertical-align: top;\n",
       "    }\n",
       "\n",
       "    .dataframe thead th {\n",
       "        text-align: right;\n",
       "    }\n",
       "</style>\n",
       "<table border=\"1\" class=\"dataframe\">\n",
       "  <thead>\n",
       "    <tr style=\"text-align: right;\">\n",
       "      <th></th>\n",
       "      <th>id</th>\n",
       "      <th>comment_text</th>\n",
       "      <th>toxic</th>\n",
       "      <th>severe_toxic</th>\n",
       "      <th>obscene</th>\n",
       "      <th>threat</th>\n",
       "      <th>insult</th>\n",
       "      <th>identity_hate</th>\n",
       "      <th>clean</th>\n",
       "      <th>cleaned_comment_text</th>\n",
       "      <th>word_count</th>\n",
       "      <th>char_count</th>\n",
       "      <th>word_density</th>\n",
       "      <th>total_length</th>\n",
       "      <th>capitals</th>\n",
       "      <th>caps_vs_length</th>\n",
       "      <th>num_exclamation_marks</th>\n",
       "      <th>num_unique_words</th>\n",
       "      <th>words_vs_unique</th>\n",
       "    </tr>\n",
       "  </thead>\n",
       "  <tbody>\n",
       "    <tr>\n",
       "      <th>0</th>\n",
       "      <td>3bf7c95e20e164f1</td>\n",
       "      <td>you do interesting work! \\n\\nReally, whatever the outcome on Aetherometry, all the best with your wheelchair work. That looks like fascinating engineering.</td>\n",
       "      <td>0</td>\n",
       "      <td>0</td>\n",
       "      <td>0</td>\n",
       "      <td>0</td>\n",
       "      <td>0</td>\n",
       "      <td>0</td>\n",
       "      <td>1</td>\n",
       "      <td>interest work ! Really whatever outcome Aetherometry best wheelchair work That look like fascinate engineer</td>\n",
       "      <td>15</td>\n",
       "      <td>93</td>\n",
       "      <td>0.159574</td>\n",
       "      <td>107</td>\n",
       "      <td>3</td>\n",
       "      <td>0.028037</td>\n",
       "      <td>1</td>\n",
       "      <td>14</td>\n",
       "      <td>0.933333</td>\n",
       "    </tr>\n",
       "    <tr>\n",
       "      <th>1</th>\n",
       "      <td>8dfbb26d7edb4e39</td>\n",
       "      <td>Let me see if I understand you. Because the site is run by religious, nationalistic Iranians, it must have stolen all its content? This must be some bizarro-world logic I'm not familiar with.</td>\n",
       "      <td>0</td>\n",
       "      <td>0</td>\n",
       "      <td>0</td>\n",
       "      <td>0</td>\n",
       "      <td>0</td>\n",
       "      <td>0</td>\n",
       "      <td>1</td>\n",
       "      <td>Let see I understand you Because site run religious nationalistic Iranians must steal content This must bizarro world logic I familiar with</td>\n",
       "      <td>22</td>\n",
       "      <td>118</td>\n",
       "      <td>0.184874</td>\n",
       "      <td>139</td>\n",
       "      <td>6</td>\n",
       "      <td>0.043165</td>\n",
       "      <td>0</td>\n",
       "      <td>20</td>\n",
       "      <td>0.909091</td>\n",
       "    </tr>\n",
       "    <tr>\n",
       "      <th>2</th>\n",
       "      <td>ec8eb2974a3b7686</td>\n",
       "      <td>Yes, I will try to cut out the details to make it more compact.</td>\n",
       "      <td>0</td>\n",
       "      <td>0</td>\n",
       "      <td>0</td>\n",
       "      <td>0</td>\n",
       "      <td>0</td>\n",
       "      <td>0</td>\n",
       "      <td>1</td>\n",
       "      <td>Yes I try cut detail make compact</td>\n",
       "      <td>7</td>\n",
       "      <td>27</td>\n",
       "      <td>0.250000</td>\n",
       "      <td>33</td>\n",
       "      <td>2</td>\n",
       "      <td>0.060606</td>\n",
       "      <td>0</td>\n",
       "      <td>7</td>\n",
       "      <td>1.000000</td>\n",
       "    </tr>\n",
       "    <tr>\n",
       "      <th>3</th>\n",
       "      <td>587075cbd150aee1</td>\n",
       "      <td>timestamp to unsigned templates, so you do it for me. Thanks! )   t c 03:08, 25</td>\n",
       "      <td>0</td>\n",
       "      <td>0</td>\n",
       "      <td>0</td>\n",
       "      <td>0</td>\n",
       "      <td>0</td>\n",
       "      <td>0</td>\n",
       "      <td>1</td>\n",
       "      <td>timestamp unsigned templates me Thanks ! c</td>\n",
       "      <td>7</td>\n",
       "      <td>36</td>\n",
       "      <td>0.189189</td>\n",
       "      <td>42</td>\n",
       "      <td>1</td>\n",
       "      <td>0.023810</td>\n",
       "      <td>1</td>\n",
       "      <td>7</td>\n",
       "      <td>1.000000</td>\n",
       "    </tr>\n",
       "    <tr>\n",
       "      <th>4</th>\n",
       "      <td>d8d76d16e8369ff8</td>\n",
       "      <td>I replaced the quote as to my count three contributers seem to have been happy with the quote, i.e. a consensus within the terms of the page. It may be an idea with anything as contentious as articles that address issues surrounding the troubles to fully reference everything according to wiki standards.</td>\n",
       "      <td>0</td>\n",
       "      <td>0</td>\n",
       "      <td>0</td>\n",
       "      <td>0</td>\n",
       "      <td>0</td>\n",
       "      <td>0</td>\n",
       "      <td>1</td>\n",
       "      <td>I replace quote count three contributers seem happy quote i e consensus within term page It may idea anything contentious article address issue surround trouble fully reference everything accord wiki standards</td>\n",
       "      <td>31</td>\n",
       "      <td>179</td>\n",
       "      <td>0.172222</td>\n",
       "      <td>209</td>\n",
       "      <td>2</td>\n",
       "      <td>0.009569</td>\n",
       "      <td>0</td>\n",
       "      <td>30</td>\n",
       "      <td>0.967742</td>\n",
       "    </tr>\n",
       "  </tbody>\n",
       "</table>\n",
       "</div>"
      ],
      "text/plain": [
       "                 id  \\\n",
       "0  3bf7c95e20e164f1   \n",
       "1  8dfbb26d7edb4e39   \n",
       "2  ec8eb2974a3b7686   \n",
       "3  587075cbd150aee1   \n",
       "4  d8d76d16e8369ff8   \n",
       "\n",
       "                                                                                                                                                                                                                                                                                                       comment_text  \\\n",
       "0                                                                                                                                                       you do interesting work! \\n\\nReally, whatever the outcome on Aetherometry, all the best with your wheelchair work. That looks like fascinating engineering.   \n",
       "1                                                                                                                   Let me see if I understand you. Because the site is run by religious, nationalistic Iranians, it must have stolen all its content? This must be some bizarro-world logic I'm not familiar with.   \n",
       "2                                                                                                                                                                                                                                                   Yes, I will try to cut out the details to make it more compact.   \n",
       "3                                                                                                                                                                                                                                   timestamp to unsigned templates, so you do it for me. Thanks! )   t c 03:08, 25   \n",
       "4  I replaced the quote as to my count three contributers seem to have been happy with the quote, i.e. a consensus within the terms of the page. It may be an idea with anything as contentious as articles that address issues surrounding the troubles to fully reference everything according to wiki standards.   \n",
       "\n",
       "   toxic  severe_toxic  obscene  threat  insult  identity_hate  clean  \\\n",
       "0      0             0        0       0       0              0      1   \n",
       "1      0             0        0       0       0              0      1   \n",
       "2      0             0        0       0       0              0      1   \n",
       "3      0             0        0       0       0              0      1   \n",
       "4      0             0        0       0       0              0      1   \n",
       "\n",
       "                                                                                                                                                                                                cleaned_comment_text  \\\n",
       "0                                                                                                        interest work ! Really whatever outcome Aetherometry best wheelchair work That look like fascinate engineer   \n",
       "1                                                                        Let see I understand you Because site run religious nationalistic Iranians must steal content This must bizarro world logic I familiar with   \n",
       "2                                                                                                                                                                                  Yes I try cut detail make compact   \n",
       "3                                                                                                                                                                         timestamp unsigned templates me Thanks ! c   \n",
       "4  I replace quote count three contributers seem happy quote i e consensus within term page It may idea anything contentious article address issue surround trouble fully reference everything accord wiki standards   \n",
       "\n",
       "   word_count  char_count  word_density  total_length  capitals  \\\n",
       "0          15          93      0.159574           107         3   \n",
       "1          22         118      0.184874           139         6   \n",
       "2           7          27      0.250000            33         2   \n",
       "3           7          36      0.189189            42         1   \n",
       "4          31         179      0.172222           209         2   \n",
       "\n",
       "   caps_vs_length  num_exclamation_marks  num_unique_words  words_vs_unique  \n",
       "0        0.028037                      1                14         0.933333  \n",
       "1        0.043165                      0                20         0.909091  \n",
       "2        0.060606                      0                 7         1.000000  \n",
       "3        0.023810                      1                 7         1.000000  \n",
       "4        0.009569                      0                30         0.967742  "
      ]
     },
     "execution_count": 5,
     "metadata": {},
     "output_type": "execute_result"
    }
   ],
   "source": [
    "df.head()"
   ]
  },
  {
   "cell_type": "code",
   "execution_count": 6,
   "metadata": {},
   "outputs": [],
   "source": [
    "# subset the dataframe\n",
    "# df1 = df.iloc[:,[0,9,2,3,4,5,6,7,8,10,11,12,13,14,15,16,17,18]]\n",
    "# df1 = df.iloc[:,[0,9,2,3,4,5,6,7]]\n",
    "df1 = df.iloc[:,[0,9,2]]"
   ]
  },
  {
   "cell_type": "code",
   "execution_count": 7,
   "metadata": {},
   "outputs": [
    {
     "data": {
      "text/html": [
       "<div>\n",
       "<style scoped>\n",
       "    .dataframe tbody tr th:only-of-type {\n",
       "        vertical-align: middle;\n",
       "    }\n",
       "\n",
       "    .dataframe tbody tr th {\n",
       "        vertical-align: top;\n",
       "    }\n",
       "\n",
       "    .dataframe thead th {\n",
       "        text-align: right;\n",
       "    }\n",
       "</style>\n",
       "<table border=\"1\" class=\"dataframe\">\n",
       "  <thead>\n",
       "    <tr style=\"text-align: right;\">\n",
       "      <th></th>\n",
       "      <th>id</th>\n",
       "      <th>cleaned_comment_text</th>\n",
       "      <th>toxic</th>\n",
       "    </tr>\n",
       "  </thead>\n",
       "  <tbody>\n",
       "    <tr>\n",
       "      <th>0</th>\n",
       "      <td>3bf7c95e20e164f1</td>\n",
       "      <td>interest work ! Really whatever outcome Aetherometry best wheelchair work That look like fascinate engineer</td>\n",
       "      <td>0</td>\n",
       "    </tr>\n",
       "    <tr>\n",
       "      <th>1</th>\n",
       "      <td>8dfbb26d7edb4e39</td>\n",
       "      <td>Let see I understand you Because site run religious nationalistic Iranians must steal content This must bizarro world logic I familiar with</td>\n",
       "      <td>0</td>\n",
       "    </tr>\n",
       "    <tr>\n",
       "      <th>2</th>\n",
       "      <td>ec8eb2974a3b7686</td>\n",
       "      <td>Yes I try cut detail make compact</td>\n",
       "      <td>0</td>\n",
       "    </tr>\n",
       "    <tr>\n",
       "      <th>3</th>\n",
       "      <td>587075cbd150aee1</td>\n",
       "      <td>timestamp unsigned templates me Thanks ! c</td>\n",
       "      <td>0</td>\n",
       "    </tr>\n",
       "    <tr>\n",
       "      <th>4</th>\n",
       "      <td>d8d76d16e8369ff8</td>\n",
       "      <td>I replace quote count three contributers seem happy quote i e consensus within term page It may idea anything contentious article address issue surround trouble fully reference everything accord wiki standards</td>\n",
       "      <td>0</td>\n",
       "    </tr>\n",
       "  </tbody>\n",
       "</table>\n",
       "</div>"
      ],
      "text/plain": [
       "                 id  \\\n",
       "0  3bf7c95e20e164f1   \n",
       "1  8dfbb26d7edb4e39   \n",
       "2  ec8eb2974a3b7686   \n",
       "3  587075cbd150aee1   \n",
       "4  d8d76d16e8369ff8   \n",
       "\n",
       "                                                                                                                                                                                                cleaned_comment_text  \\\n",
       "0                                                                                                        interest work ! Really whatever outcome Aetherometry best wheelchair work That look like fascinate engineer   \n",
       "1                                                                        Let see I understand you Because site run religious nationalistic Iranians must steal content This must bizarro world logic I familiar with   \n",
       "2                                                                                                                                                                                  Yes I try cut detail make compact   \n",
       "3                                                                                                                                                                         timestamp unsigned templates me Thanks ! c   \n",
       "4  I replace quote count three contributers seem happy quote i e consensus within term page It may idea anything contentious article address issue surround trouble fully reference everything accord wiki standards   \n",
       "\n",
       "   toxic  \n",
       "0      0  \n",
       "1      0  \n",
       "2      0  \n",
       "3      0  \n",
       "4      0  "
      ]
     },
     "execution_count": 7,
     "metadata": {},
     "output_type": "execute_result"
    }
   ],
   "source": [
    "df1.head()"
   ]
  },
  {
   "cell_type": "code",
   "execution_count": 8,
   "metadata": {},
   "outputs": [],
   "source": [
    "df2 = df.iloc[:,[9,2]]"
   ]
  },
  {
   "cell_type": "code",
   "execution_count": 9,
   "metadata": {},
   "outputs": [
    {
     "data": {
      "text/html": [
       "<div>\n",
       "<style scoped>\n",
       "    .dataframe tbody tr th:only-of-type {\n",
       "        vertical-align: middle;\n",
       "    }\n",
       "\n",
       "    .dataframe tbody tr th {\n",
       "        vertical-align: top;\n",
       "    }\n",
       "\n",
       "    .dataframe thead th {\n",
       "        text-align: right;\n",
       "    }\n",
       "</style>\n",
       "<table border=\"1\" class=\"dataframe\">\n",
       "  <thead>\n",
       "    <tr style=\"text-align: right;\">\n",
       "      <th></th>\n",
       "      <th>cleaned_comment_text</th>\n",
       "      <th>toxic</th>\n",
       "    </tr>\n",
       "  </thead>\n",
       "  <tbody>\n",
       "    <tr>\n",
       "      <th>0</th>\n",
       "      <td>interest work ! Really whatever outcome Aetherometry best wheelchair work That look like fascinate engineer</td>\n",
       "      <td>0</td>\n",
       "    </tr>\n",
       "    <tr>\n",
       "      <th>1</th>\n",
       "      <td>Let see I understand you Because site run religious nationalistic Iranians must steal content This must bizarro world logic I familiar with</td>\n",
       "      <td>0</td>\n",
       "    </tr>\n",
       "    <tr>\n",
       "      <th>2</th>\n",
       "      <td>Yes I try cut detail make compact</td>\n",
       "      <td>0</td>\n",
       "    </tr>\n",
       "    <tr>\n",
       "      <th>3</th>\n",
       "      <td>timestamp unsigned templates me Thanks ! c</td>\n",
       "      <td>0</td>\n",
       "    </tr>\n",
       "    <tr>\n",
       "      <th>4</th>\n",
       "      <td>I replace quote count three contributers seem happy quote i e consensus within term page It may idea anything contentious article address issue surround trouble fully reference everything accord wiki standards</td>\n",
       "      <td>0</td>\n",
       "    </tr>\n",
       "  </tbody>\n",
       "</table>\n",
       "</div>"
      ],
      "text/plain": [
       "                                                                                                                                                                                                cleaned_comment_text  \\\n",
       "0                                                                                                        interest work ! Really whatever outcome Aetherometry best wheelchair work That look like fascinate engineer   \n",
       "1                                                                        Let see I understand you Because site run religious nationalistic Iranians must steal content This must bizarro world logic I familiar with   \n",
       "2                                                                                                                                                                                  Yes I try cut detail make compact   \n",
       "3                                                                                                                                                                         timestamp unsigned templates me Thanks ! c   \n",
       "4  I replace quote count three contributers seem happy quote i e consensus within term page It may idea anything contentious article address issue surround trouble fully reference everything accord wiki standards   \n",
       "\n",
       "   toxic  \n",
       "0      0  \n",
       "1      0  \n",
       "2      0  \n",
       "3      0  \n",
       "4      0  "
      ]
     },
     "execution_count": 9,
     "metadata": {},
     "output_type": "execute_result"
    }
   ],
   "source": [
    "df2.head()"
   ]
  },
  {
   "cell_type": "code",
   "execution_count": 10,
   "metadata": {},
   "outputs": [],
   "source": [
    "df3 = df.iloc[:,[0,9,2,3,4,5,6,7]]"
   ]
  },
  {
   "cell_type": "code",
   "execution_count": 11,
   "metadata": {},
   "outputs": [
    {
     "data": {
      "text/html": [
       "<div>\n",
       "<style scoped>\n",
       "    .dataframe tbody tr th:only-of-type {\n",
       "        vertical-align: middle;\n",
       "    }\n",
       "\n",
       "    .dataframe tbody tr th {\n",
       "        vertical-align: top;\n",
       "    }\n",
       "\n",
       "    .dataframe thead th {\n",
       "        text-align: right;\n",
       "    }\n",
       "</style>\n",
       "<table border=\"1\" class=\"dataframe\">\n",
       "  <thead>\n",
       "    <tr style=\"text-align: right;\">\n",
       "      <th></th>\n",
       "      <th>id</th>\n",
       "      <th>cleaned_comment_text</th>\n",
       "      <th>toxic</th>\n",
       "      <th>severe_toxic</th>\n",
       "      <th>obscene</th>\n",
       "      <th>threat</th>\n",
       "      <th>insult</th>\n",
       "      <th>identity_hate</th>\n",
       "    </tr>\n",
       "  </thead>\n",
       "  <tbody>\n",
       "    <tr>\n",
       "      <th>0</th>\n",
       "      <td>3bf7c95e20e164f1</td>\n",
       "      <td>interest work ! Really whatever outcome Aetherometry best wheelchair work That look like fascinate engineer</td>\n",
       "      <td>0</td>\n",
       "      <td>0</td>\n",
       "      <td>0</td>\n",
       "      <td>0</td>\n",
       "      <td>0</td>\n",
       "      <td>0</td>\n",
       "    </tr>\n",
       "    <tr>\n",
       "      <th>1</th>\n",
       "      <td>8dfbb26d7edb4e39</td>\n",
       "      <td>Let see I understand you Because site run religious nationalistic Iranians must steal content This must bizarro world logic I familiar with</td>\n",
       "      <td>0</td>\n",
       "      <td>0</td>\n",
       "      <td>0</td>\n",
       "      <td>0</td>\n",
       "      <td>0</td>\n",
       "      <td>0</td>\n",
       "    </tr>\n",
       "    <tr>\n",
       "      <th>2</th>\n",
       "      <td>ec8eb2974a3b7686</td>\n",
       "      <td>Yes I try cut detail make compact</td>\n",
       "      <td>0</td>\n",
       "      <td>0</td>\n",
       "      <td>0</td>\n",
       "      <td>0</td>\n",
       "      <td>0</td>\n",
       "      <td>0</td>\n",
       "    </tr>\n",
       "    <tr>\n",
       "      <th>3</th>\n",
       "      <td>587075cbd150aee1</td>\n",
       "      <td>timestamp unsigned templates me Thanks ! c</td>\n",
       "      <td>0</td>\n",
       "      <td>0</td>\n",
       "      <td>0</td>\n",
       "      <td>0</td>\n",
       "      <td>0</td>\n",
       "      <td>0</td>\n",
       "    </tr>\n",
       "    <tr>\n",
       "      <th>4</th>\n",
       "      <td>d8d76d16e8369ff8</td>\n",
       "      <td>I replace quote count three contributers seem happy quote i e consensus within term page It may idea anything contentious article address issue surround trouble fully reference everything accord wiki standards</td>\n",
       "      <td>0</td>\n",
       "      <td>0</td>\n",
       "      <td>0</td>\n",
       "      <td>0</td>\n",
       "      <td>0</td>\n",
       "      <td>0</td>\n",
       "    </tr>\n",
       "  </tbody>\n",
       "</table>\n",
       "</div>"
      ],
      "text/plain": [
       "                 id  \\\n",
       "0  3bf7c95e20e164f1   \n",
       "1  8dfbb26d7edb4e39   \n",
       "2  ec8eb2974a3b7686   \n",
       "3  587075cbd150aee1   \n",
       "4  d8d76d16e8369ff8   \n",
       "\n",
       "                                                                                                                                                                                                cleaned_comment_text  \\\n",
       "0                                                                                                        interest work ! Really whatever outcome Aetherometry best wheelchair work That look like fascinate engineer   \n",
       "1                                                                        Let see I understand you Because site run religious nationalistic Iranians must steal content This must bizarro world logic I familiar with   \n",
       "2                                                                                                                                                                                  Yes I try cut detail make compact   \n",
       "3                                                                                                                                                                         timestamp unsigned templates me Thanks ! c   \n",
       "4  I replace quote count three contributers seem happy quote i e consensus within term page It may idea anything contentious article address issue surround trouble fully reference everything accord wiki standards   \n",
       "\n",
       "   toxic  severe_toxic  obscene  threat  insult  identity_hate  \n",
       "0      0             0        0       0       0              0  \n",
       "1      0             0        0       0       0              0  \n",
       "2      0             0        0       0       0              0  \n",
       "3      0             0        0       0       0              0  \n",
       "4      0             0        0       0       0              0  "
      ]
     },
     "execution_count": 11,
     "metadata": {},
     "output_type": "execute_result"
    }
   ],
   "source": [
    "df3.head()"
   ]
  },
  {
   "cell_type": "code",
   "execution_count": 12,
   "metadata": {},
   "outputs": [],
   "source": [
    "df4 = df3[df3['toxic']==1]"
   ]
  },
  {
   "cell_type": "code",
   "execution_count": 13,
   "metadata": {},
   "outputs": [
    {
     "data": {
      "text/html": [
       "<div>\n",
       "<style scoped>\n",
       "    .dataframe tbody tr th:only-of-type {\n",
       "        vertical-align: middle;\n",
       "    }\n",
       "\n",
       "    .dataframe tbody tr th {\n",
       "        vertical-align: top;\n",
       "    }\n",
       "\n",
       "    .dataframe thead th {\n",
       "        text-align: right;\n",
       "    }\n",
       "</style>\n",
       "<table border=\"1\" class=\"dataframe\">\n",
       "  <thead>\n",
       "    <tr style=\"text-align: right;\">\n",
       "      <th></th>\n",
       "      <th>id</th>\n",
       "      <th>cleaned_comment_text</th>\n",
       "      <th>toxic</th>\n",
       "      <th>severe_toxic</th>\n",
       "      <th>obscene</th>\n",
       "      <th>threat</th>\n",
       "      <th>insult</th>\n",
       "      <th>identity_hate</th>\n",
       "    </tr>\n",
       "  </thead>\n",
       "  <tbody>\n",
       "    <tr>\n",
       "      <th>32403</th>\n",
       "      <td>0002bcb3da6cb337</td>\n",
       "      <td>COCKSUCKER BEFORE YOU PISS AROUND ON MY WORK</td>\n",
       "      <td>1</td>\n",
       "      <td>1</td>\n",
       "      <td>1</td>\n",
       "      <td>0</td>\n",
       "      <td>1</td>\n",
       "      <td>0</td>\n",
       "    </tr>\n",
       "    <tr>\n",
       "      <th>32404</th>\n",
       "      <td>0005c987bdfc9d4b</td>\n",
       "      <td>Hey it talk What it exclusive group WP TALIBANS who good destroy self appoint purist GANG UP one ask question abt ANTI SOCIAL DESTRUCTIVE non contribution WP Ask Sityush clean behavior issue nonsensical warn</td>\n",
       "      <td>1</td>\n",
       "      <td>0</td>\n",
       "      <td>0</td>\n",
       "      <td>0</td>\n",
       "      <td>0</td>\n",
       "      <td>0</td>\n",
       "    </tr>\n",
       "    <tr>\n",
       "      <th>32405</th>\n",
       "      <td>0007e25b2121310b</td>\n",
       "      <td>Bye ! Do look come think comming back ! Tosser</td>\n",
       "      <td>1</td>\n",
       "      <td>0</td>\n",
       "      <td>0</td>\n",
       "      <td>0</td>\n",
       "      <td>0</td>\n",
       "      <td>0</td>\n",
       "    </tr>\n",
       "    <tr>\n",
       "      <th>32406</th>\n",
       "      <td>001810bf8c45bf5f</td>\n",
       "      <td>You gay antisemmitian Archangel WHite Tiger Meow ! Greetingshhh ! Uh two ways erase comment WW holocaust brutally slay Jews gays Gypsys Slavs anyone If anti semitian shave head bald go skinhead meet ! If doubt word Bible homosexuality deadly sin make pentagram tatoo forehead go satanistic mass gay pal ! First last warn fuck gay I wo appreciate nazi shwain would write page ! I wish talk anymore ! Beware Dark Side !</td>\n",
       "      <td>1</td>\n",
       "      <td>0</td>\n",
       "      <td>1</td>\n",
       "      <td>0</td>\n",
       "      <td>1</td>\n",
       "      <td>1</td>\n",
       "    </tr>\n",
       "    <tr>\n",
       "      <th>32407</th>\n",
       "      <td>00190820581d90ce</td>\n",
       "      <td>FUCK YOUR FILTHY MOTHER IN THE ASS DRY !</td>\n",
       "      <td>1</td>\n",
       "      <td>0</td>\n",
       "      <td>1</td>\n",
       "      <td>0</td>\n",
       "      <td>1</td>\n",
       "      <td>0</td>\n",
       "    </tr>\n",
       "  </tbody>\n",
       "</table>\n",
       "</div>"
      ],
      "text/plain": [
       "                     id  \\\n",
       "32403  0002bcb3da6cb337   \n",
       "32404  0005c987bdfc9d4b   \n",
       "32405  0007e25b2121310b   \n",
       "32406  001810bf8c45bf5f   \n",
       "32407  00190820581d90ce   \n",
       "\n",
       "                                                                                                                                                                                                                                                                                                                                                                                                                    cleaned_comment_text  \\\n",
       "32403                                                                                                                                                                                                                                                                                                                                                                                       COCKSUCKER BEFORE YOU PISS AROUND ON MY WORK   \n",
       "32404                                                                                                                                                                                                                    Hey it talk What it exclusive group WP TALIBANS who good destroy self appoint purist GANG UP one ask question abt ANTI SOCIAL DESTRUCTIVE non contribution WP Ask Sityush clean behavior issue nonsensical warn   \n",
       "32405                                                                                                                                                                                                                                                                                                                                                                                     Bye ! Do look come think comming back ! Tosser   \n",
       "32406  You gay antisemmitian Archangel WHite Tiger Meow ! Greetingshhh ! Uh two ways erase comment WW holocaust brutally slay Jews gays Gypsys Slavs anyone If anti semitian shave head bald go skinhead meet ! If doubt word Bible homosexuality deadly sin make pentagram tatoo forehead go satanistic mass gay pal ! First last warn fuck gay I wo appreciate nazi shwain would write page ! I wish talk anymore ! Beware Dark Side !   \n",
       "32407                                                                                                                                                                                                                                                                                                                                                                                           FUCK YOUR FILTHY MOTHER IN THE ASS DRY !   \n",
       "\n",
       "       toxic  severe_toxic  obscene  threat  insult  identity_hate  \n",
       "32403      1             1        1       0       1              0  \n",
       "32404      1             0        0       0       0              0  \n",
       "32405      1             0        0       0       0              0  \n",
       "32406      1             0        1       0       1              1  \n",
       "32407      1             0        1       0       1              0  "
      ]
     },
     "execution_count": 13,
     "metadata": {},
     "output_type": "execute_result"
    }
   ],
   "source": [
    "df4.head()"
   ]
  },
  {
   "cell_type": "markdown",
   "metadata": {},
   "source": [
    "### Train / Test Split: 1st-level"
   ]
  },
  {
   "cell_type": "code",
   "execution_count": 14,
   "metadata": {},
   "outputs": [],
   "source": [
    "# create train and test set\n",
    "train, test = train_test_split(df1, test_size = 0.2, random_state = 2019)"
   ]
  },
  {
   "cell_type": "code",
   "execution_count": 15,
   "metadata": {},
   "outputs": [
    {
     "data": {
      "text/html": [
       "<div>\n",
       "<style scoped>\n",
       "    .dataframe tbody tr th:only-of-type {\n",
       "        vertical-align: middle;\n",
       "    }\n",
       "\n",
       "    .dataframe tbody tr th {\n",
       "        vertical-align: top;\n",
       "    }\n",
       "\n",
       "    .dataframe thead th {\n",
       "        text-align: right;\n",
       "    }\n",
       "</style>\n",
       "<table border=\"1\" class=\"dataframe\">\n",
       "  <thead>\n",
       "    <tr style=\"text-align: right;\">\n",
       "      <th></th>\n",
       "      <th>id</th>\n",
       "      <th>cleaned_comment_text</th>\n",
       "      <th>toxic</th>\n",
       "    </tr>\n",
       "  </thead>\n",
       "  <tbody>\n",
       "    <tr>\n",
       "      <th>6902</th>\n",
       "      <td>737becdcbbdb26e0</td>\n",
       "      <td>It certainly refer distinction find within language</td>\n",
       "      <td>0</td>\n",
       "    </tr>\n",
       "    <tr>\n",
       "      <th>38124</th>\n",
       "      <td>95610e068ba8cef7</td>\n",
       "      <td>Listen fuckers dont come say shit face</td>\n",
       "      <td>1</td>\n",
       "    </tr>\n",
       "  </tbody>\n",
       "</table>\n",
       "</div>"
      ],
      "text/plain": [
       "                     id                                 cleaned_comment_text  \\\n",
       "6902   737becdcbbdb26e0  It certainly refer distinction find within language   \n",
       "38124  95610e068ba8cef7               Listen fuckers dont come say shit face   \n",
       "\n",
       "       toxic  \n",
       "6902       0  \n",
       "38124      1  "
      ]
     },
     "execution_count": 15,
     "metadata": {},
     "output_type": "execute_result"
    }
   ],
   "source": [
    "train.head(2)"
   ]
  },
  {
   "cell_type": "code",
   "execution_count": 16,
   "metadata": {},
   "outputs": [
    {
     "data": {
      "text/html": [
       "<div>\n",
       "<style scoped>\n",
       "    .dataframe tbody tr th:only-of-type {\n",
       "        vertical-align: middle;\n",
       "    }\n",
       "\n",
       "    .dataframe tbody tr th {\n",
       "        vertical-align: top;\n",
       "    }\n",
       "\n",
       "    .dataframe thead th {\n",
       "        text-align: right;\n",
       "    }\n",
       "</style>\n",
       "<table border=\"1\" class=\"dataframe\">\n",
       "  <thead>\n",
       "    <tr style=\"text-align: right;\">\n",
       "      <th></th>\n",
       "      <th>id</th>\n",
       "      <th>cleaned_comment_text</th>\n",
       "      <th>toxic</th>\n",
       "    </tr>\n",
       "  </thead>\n",
       "  <tbody>\n",
       "    <tr>\n",
       "      <th>18383</th>\n",
       "      <td>c18844370ce4a022</td>\n",
       "      <td>sound excat tide fat roll guy must guy jeez fuck wikapeida commies</td>\n",
       "      <td>0</td>\n",
       "    </tr>\n",
       "    <tr>\n",
       "      <th>27385</th>\n",
       "      <td>25b14fc6b4548258</td>\n",
       "      <td>Hi I flatter ask take look though article something I absolutely knowledge ! On first read seem well write article appropriate reference support claim The comment I express date term BP Before Present rather term BC even BCE I confess I never see BP before ! As possible tautology I convince It appear me read well enough be I would certainly encourage crack Hope use ! Cheers</td>\n",
       "      <td>0</td>\n",
       "    </tr>\n",
       "  </tbody>\n",
       "</table>\n",
       "</div>"
      ],
      "text/plain": [
       "                     id  \\\n",
       "18383  c18844370ce4a022   \n",
       "27385  25b14fc6b4548258   \n",
       "\n",
       "                                                                                                                                                                                                                                                                                                                                                                           cleaned_comment_text  \\\n",
       "18383                                                                                                                                                                                                                                                                                                                        sound excat tide fat roll guy must guy jeez fuck wikapeida commies   \n",
       "27385  Hi I flatter ask take look though article something I absolutely knowledge ! On first read seem well write article appropriate reference support claim The comment I express date term BP Before Present rather term BC even BCE I confess I never see BP before ! As possible tautology I convince It appear me read well enough be I would certainly encourage crack Hope use ! Cheers   \n",
       "\n",
       "       toxic  \n",
       "18383      0  \n",
       "27385      0  "
      ]
     },
     "execution_count": 16,
     "metadata": {},
     "output_type": "execute_result"
    }
   ],
   "source": [
    "test.head(2)"
   ]
  },
  {
   "cell_type": "code",
   "execution_count": 17,
   "metadata": {},
   "outputs": [],
   "source": [
    "# create train and test set\n",
    "x_train, x_test, y_train, y_test = train_test_split(df2.iloc[:,0:1], df2.iloc[:,1:2], test_size = 0.2, random_state = 2019)"
   ]
  },
  {
   "cell_type": "code",
   "execution_count": 18,
   "metadata": {},
   "outputs": [
    {
     "data": {
      "text/plain": [
       "(43896, 1)"
      ]
     },
     "execution_count": 18,
     "metadata": {},
     "output_type": "execute_result"
    }
   ],
   "source": [
    "x_train.shape"
   ]
  },
  {
   "cell_type": "code",
   "execution_count": 19,
   "metadata": {},
   "outputs": [
    {
     "data": {
      "text/html": [
       "<div>\n",
       "<style scoped>\n",
       "    .dataframe tbody tr th:only-of-type {\n",
       "        vertical-align: middle;\n",
       "    }\n",
       "\n",
       "    .dataframe tbody tr th {\n",
       "        vertical-align: top;\n",
       "    }\n",
       "\n",
       "    .dataframe thead th {\n",
       "        text-align: right;\n",
       "    }\n",
       "</style>\n",
       "<table border=\"1\" class=\"dataframe\">\n",
       "  <thead>\n",
       "    <tr style=\"text-align: right;\">\n",
       "      <th></th>\n",
       "      <th>cleaned_comment_text</th>\n",
       "    </tr>\n",
       "  </thead>\n",
       "  <tbody>\n",
       "    <tr>\n",
       "      <th>6902</th>\n",
       "      <td>It certainly refer distinction find within language</td>\n",
       "    </tr>\n",
       "    <tr>\n",
       "      <th>38124</th>\n",
       "      <td>Listen fuckers dont come say shit face</td>\n",
       "    </tr>\n",
       "  </tbody>\n",
       "</table>\n",
       "</div>"
      ],
      "text/plain": [
       "                                      cleaned_comment_text\n",
       "6902   It certainly refer distinction find within language\n",
       "38124               Listen fuckers dont come say shit face"
      ]
     },
     "execution_count": 19,
     "metadata": {},
     "output_type": "execute_result"
    }
   ],
   "source": [
    "x_train.head(2)"
   ]
  },
  {
   "cell_type": "code",
   "execution_count": 20,
   "metadata": {},
   "outputs": [
    {
     "data": {
      "text/plain": [
       "(10974, 1)"
      ]
     },
     "execution_count": 20,
     "metadata": {},
     "output_type": "execute_result"
    }
   ],
   "source": [
    "x_test.shape"
   ]
  },
  {
   "cell_type": "code",
   "execution_count": 21,
   "metadata": {},
   "outputs": [
    {
     "data": {
      "text/html": [
       "<div>\n",
       "<style scoped>\n",
       "    .dataframe tbody tr th:only-of-type {\n",
       "        vertical-align: middle;\n",
       "    }\n",
       "\n",
       "    .dataframe tbody tr th {\n",
       "        vertical-align: top;\n",
       "    }\n",
       "\n",
       "    .dataframe thead th {\n",
       "        text-align: right;\n",
       "    }\n",
       "</style>\n",
       "<table border=\"1\" class=\"dataframe\">\n",
       "  <thead>\n",
       "    <tr style=\"text-align: right;\">\n",
       "      <th></th>\n",
       "      <th>cleaned_comment_text</th>\n",
       "    </tr>\n",
       "  </thead>\n",
       "  <tbody>\n",
       "    <tr>\n",
       "      <th>18383</th>\n",
       "      <td>sound excat tide fat roll guy must guy jeez fuck wikapeida commies</td>\n",
       "    </tr>\n",
       "    <tr>\n",
       "      <th>27385</th>\n",
       "      <td>Hi I flatter ask take look though article something I absolutely knowledge ! On first read seem well write article appropriate reference support claim The comment I express date term BP Before Present rather term BC even BCE I confess I never see BP before ! As possible tautology I convince It appear me read well enough be I would certainly encourage crack Hope use ! Cheers</td>\n",
       "    </tr>\n",
       "  </tbody>\n",
       "</table>\n",
       "</div>"
      ],
      "text/plain": [
       "                                                                                                                                                                                                                                                                                                                                                                           cleaned_comment_text\n",
       "18383                                                                                                                                                                                                                                                                                                                        sound excat tide fat roll guy must guy jeez fuck wikapeida commies\n",
       "27385  Hi I flatter ask take look though article something I absolutely knowledge ! On first read seem well write article appropriate reference support claim The comment I express date term BP Before Present rather term BC even BCE I confess I never see BP before ! As possible tautology I convince It appear me read well enough be I would certainly encourage crack Hope use ! Cheers"
      ]
     },
     "execution_count": 21,
     "metadata": {},
     "output_type": "execute_result"
    }
   ],
   "source": [
    "x_test.head(2)"
   ]
  },
  {
   "cell_type": "code",
   "execution_count": 22,
   "metadata": {},
   "outputs": [
    {
     "data": {
      "text/html": [
       "<div>\n",
       "<style scoped>\n",
       "    .dataframe tbody tr th:only-of-type {\n",
       "        vertical-align: middle;\n",
       "    }\n",
       "\n",
       "    .dataframe tbody tr th {\n",
       "        vertical-align: top;\n",
       "    }\n",
       "\n",
       "    .dataframe thead th {\n",
       "        text-align: right;\n",
       "    }\n",
       "</style>\n",
       "<table border=\"1\" class=\"dataframe\">\n",
       "  <thead>\n",
       "    <tr style=\"text-align: right;\">\n",
       "      <th></th>\n",
       "      <th>toxic</th>\n",
       "    </tr>\n",
       "  </thead>\n",
       "  <tbody>\n",
       "    <tr>\n",
       "      <th>6902</th>\n",
       "      <td>0</td>\n",
       "    </tr>\n",
       "    <tr>\n",
       "      <th>38124</th>\n",
       "      <td>1</td>\n",
       "    </tr>\n",
       "  </tbody>\n",
       "</table>\n",
       "</div>"
      ],
      "text/plain": [
       "       toxic\n",
       "6902       0\n",
       "38124      1"
      ]
     },
     "execution_count": 22,
     "metadata": {},
     "output_type": "execute_result"
    }
   ],
   "source": [
    "y_train.head(2)"
   ]
  },
  {
   "cell_type": "code",
   "execution_count": 23,
   "metadata": {},
   "outputs": [
    {
     "data": {
      "text/html": [
       "<div>\n",
       "<style scoped>\n",
       "    .dataframe tbody tr th:only-of-type {\n",
       "        vertical-align: middle;\n",
       "    }\n",
       "\n",
       "    .dataframe tbody tr th {\n",
       "        vertical-align: top;\n",
       "    }\n",
       "\n",
       "    .dataframe thead th {\n",
       "        text-align: right;\n",
       "    }\n",
       "</style>\n",
       "<table border=\"1\" class=\"dataframe\">\n",
       "  <thead>\n",
       "    <tr style=\"text-align: right;\">\n",
       "      <th></th>\n",
       "      <th>toxic</th>\n",
       "    </tr>\n",
       "  </thead>\n",
       "  <tbody>\n",
       "    <tr>\n",
       "      <th>18383</th>\n",
       "      <td>0</td>\n",
       "    </tr>\n",
       "    <tr>\n",
       "      <th>27385</th>\n",
       "      <td>0</td>\n",
       "    </tr>\n",
       "  </tbody>\n",
       "</table>\n",
       "</div>"
      ],
      "text/plain": [
       "       toxic\n",
       "18383      0\n",
       "27385      0"
      ]
     },
     "execution_count": 23,
     "metadata": {},
     "output_type": "execute_result"
    }
   ],
   "source": [
    "y_test.head(2)"
   ]
  },
  {
   "cell_type": "code",
   "execution_count": 24,
   "metadata": {},
   "outputs": [
    {
     "data": {
      "text/plain": [
       "['It certainly refer distinction find within language',\n",
       " 'Listen fuckers dont come say shit face',\n",
       " 'Building encyclopedia Glad back Take care fun',\n",
       " 'Awesome Quote Not idiots boys boys idiots ! !',\n",
       " 'The term Bathroom use basically apply room actually bath or alternatively shower both it For toilet call list things toilet dunny John shithouse commode essentially name except bathroom Curse word generally same although couple soften blow Bugger still rude notably less rude word For full list Australian slang check page lot things help But since Steve Irwin normal Australian use word Crikey Thanks link Fantastic !']"
      ]
     },
     "execution_count": 24,
     "metadata": {},
     "output_type": "execute_result"
    }
   ],
   "source": [
    "x_train1 = [doc for doc in x_train['cleaned_comment_text']]\n",
    "x_train1[0:5]"
   ]
  },
  {
   "cell_type": "code",
   "execution_count": 25,
   "metadata": {},
   "outputs": [
    {
     "data": {
      "text/plain": [
       "['sound excat tide fat roll guy must guy jeez fuck wikapeida commies',\n",
       " 'Hi I flatter ask take look though article something I absolutely knowledge ! On first read seem well write article appropriate reference support claim The comment I express date term BP Before Present rather term BC even BCE I confess I never see BP before ! As possible tautology I convince It appear me read well enough be I would certainly encourage crack Hope use ! Cheers',\n",
       " 'Sure thingthanks make look twice As MagicView say I mean much better much appropriate tone I admire patience',\n",
       " 're Gates What diff go make talk technical reason',\n",
       " 'Oppose per Vegaswikian I never hear book hear plenty people give name There also Ian McKellen film call Emile really legitimate reason make move']"
      ]
     },
     "execution_count": 25,
     "metadata": {},
     "output_type": "execute_result"
    }
   ],
   "source": [
    "x_test1 = [doc for doc in x_test['cleaned_comment_text']]\n",
    "x_test1[0:5]"
   ]
  },
  {
   "cell_type": "markdown",
   "metadata": {},
   "source": [
    "### Train / Test Split: 2nd-level"
   ]
  },
  {
   "cell_type": "code",
   "execution_count": 26,
   "metadata": {},
   "outputs": [],
   "source": [
    "# create train and test set\n",
    "x_train_toxic, x_test_toxic, y_train_toxic, y_test_toxic = train_test_split(df4.iloc[:,1:2], df4.iloc[:,3:8], test_size = 0.2, random_state = 2019)"
   ]
  },
  {
   "cell_type": "code",
   "execution_count": 27,
   "metadata": {},
   "outputs": [
    {
     "data": {
      "text/html": [
       "<div>\n",
       "<style scoped>\n",
       "    .dataframe tbody tr th:only-of-type {\n",
       "        vertical-align: middle;\n",
       "    }\n",
       "\n",
       "    .dataframe tbody tr th {\n",
       "        vertical-align: top;\n",
       "    }\n",
       "\n",
       "    .dataframe thead th {\n",
       "        text-align: right;\n",
       "    }\n",
       "</style>\n",
       "<table border=\"1\" class=\"dataframe\">\n",
       "  <thead>\n",
       "    <tr style=\"text-align: right;\">\n",
       "      <th></th>\n",
       "      <th>cleaned_comment_text</th>\n",
       "    </tr>\n",
       "  </thead>\n",
       "  <tbody>\n",
       "    <tr>\n",
       "      <th>39367</th>\n",
       "      <td>When fagot decide edit wikipedia tough call edit tattoo word loser forehead Tattoo might less embarrass Later asslickers</td>\n",
       "    </tr>\n",
       "    <tr>\n",
       "      <th>40315</th>\n",
       "      <td>SHOOT YOURSELF YOU FREAK ! SHOOT YOURSELF YOU FREAK ! SHOOT YOURSELF YOU FREAK ! SHOOT YOURSELF YOU FREAK ! SHOOT YOURSELF YOU FREAK ! SHOOT YOURSELF YOU FREAK ! SHOOT YOURSELF YOU FREAK ! SHOOT YOURSELF YOU FREAK ! SHOOT YOURSELF YOU FREAK ! SHOOT YOURSELF YOU FREAK ! SHOOT YOURSELF YOU FREAK ! SHOOT YOURSELF YOU FREAK ! SHOOT YOURSELF YOU FREAK ! SHOOT YOURSELF YOU FREAK ! SHOOT YOURSELF YOU FREAK ! SHOOT YOURSELF YOU FREAK ! SHOOT YOURSELF YOU FREAK ! SHOOT YOURSELF YOU FREAK ! SHOOT YOURSELF YOU FREAK ! SHOOT YOURSELF YOU FREAK ! SHOOT YOURSELF YOU FREAK ! SHOOT YOURSELF YOU FREAK ! SHOOT YOURSELF YOU FREAK ! SHOOT YOURSELF YOU FREAK ! SHOOT YOURSELF YOU FREAK ! SHOOT YOURSELF YOU FREAK ! SHOOT YOURSELF YOU FREAK ! SHOOT YOURSELF YOU FREAK !</td>\n",
       "    </tr>\n",
       "  </tbody>\n",
       "</table>\n",
       "</div>"
      ],
      "text/plain": [
       "                                                                                                                                                                                                                                                                                                                                                                                                                                                                                                                                                                                                                                                                                                                                                                      cleaned_comment_text\n",
       "39367                                                                                                                                                                                                                                                                                                                                                                                                                                                                                                                                                                                                                                                             When fagot decide edit wikipedia tough call edit tattoo word loser forehead Tattoo might less embarrass Later asslickers\n",
       "40315  SHOOT YOURSELF YOU FREAK ! SHOOT YOURSELF YOU FREAK ! SHOOT YOURSELF YOU FREAK ! SHOOT YOURSELF YOU FREAK ! SHOOT YOURSELF YOU FREAK ! SHOOT YOURSELF YOU FREAK ! SHOOT YOURSELF YOU FREAK ! SHOOT YOURSELF YOU FREAK ! SHOOT YOURSELF YOU FREAK ! SHOOT YOURSELF YOU FREAK ! SHOOT YOURSELF YOU FREAK ! SHOOT YOURSELF YOU FREAK ! SHOOT YOURSELF YOU FREAK ! SHOOT YOURSELF YOU FREAK ! SHOOT YOURSELF YOU FREAK ! SHOOT YOURSELF YOU FREAK ! SHOOT YOURSELF YOU FREAK ! SHOOT YOURSELF YOU FREAK ! SHOOT YOURSELF YOU FREAK ! SHOOT YOURSELF YOU FREAK ! SHOOT YOURSELF YOU FREAK ! SHOOT YOURSELF YOU FREAK ! SHOOT YOURSELF YOU FREAK ! SHOOT YOURSELF YOU FREAK ! SHOOT YOURSELF YOU FREAK ! SHOOT YOURSELF YOU FREAK ! SHOOT YOURSELF YOU FREAK ! SHOOT YOURSELF YOU FREAK !"
      ]
     },
     "execution_count": 27,
     "metadata": {},
     "output_type": "execute_result"
    }
   ],
   "source": [
    "x_train_toxic.head(2)"
   ]
  },
  {
   "cell_type": "code",
   "execution_count": 28,
   "metadata": {},
   "outputs": [
    {
     "data": {
      "text/plain": [
       "['When fagot decide edit wikipedia tough call edit tattoo word loser forehead Tattoo might less embarrass Later asslickers',\n",
       " 'SHOOT YOURSELF YOU FREAK ! SHOOT YOURSELF YOU FREAK ! SHOOT YOURSELF YOU FREAK ! SHOOT YOURSELF YOU FREAK ! SHOOT YOURSELF YOU FREAK ! SHOOT YOURSELF YOU FREAK ! SHOOT YOURSELF YOU FREAK ! SHOOT YOURSELF YOU FREAK ! SHOOT YOURSELF YOU FREAK ! SHOOT YOURSELF YOU FREAK ! SHOOT YOURSELF YOU FREAK ! SHOOT YOURSELF YOU FREAK ! SHOOT YOURSELF YOU FREAK ! SHOOT YOURSELF YOU FREAK ! SHOOT YOURSELF YOU FREAK ! SHOOT YOURSELF YOU FREAK ! SHOOT YOURSELF YOU FREAK ! SHOOT YOURSELF YOU FREAK ! SHOOT YOURSELF YOU FREAK ! SHOOT YOURSELF YOU FREAK ! SHOOT YOURSELF YOU FREAK ! SHOOT YOURSELF YOU FREAK ! SHOOT YOURSELF YOU FREAK ! SHOOT YOURSELF YOU FREAK ! SHOOT YOURSELF YOU FREAK ! SHOOT YOURSELF YOU FREAK ! SHOOT YOURSELF YOU FREAK ! SHOOT YOURSELF YOU FREAK !',\n",
       " 'I improve encyclopedia insist palestine exist Jerusalem belong it You come quite combative inthis post I appreciate it fuc king little fa ggot',\n",
       " 'Social skills I curious whether lack social skills total jerk Why keep revert friendly message talk page',\n",
       " 'LOLOL SAND NIGGA BEST BE TROLLIN LOLOLOLO L']"
      ]
     },
     "execution_count": 28,
     "metadata": {},
     "output_type": "execute_result"
    }
   ],
   "source": [
    "x_train_toxic1 = [doc for doc in x_train_toxic['cleaned_comment_text']]\n",
    "x_train_toxic1[0:5]"
   ]
  },
  {
   "cell_type": "code",
   "execution_count": 29,
   "metadata": {},
   "outputs": [
    {
     "data": {
      "text/html": [
       "<div>\n",
       "<style scoped>\n",
       "    .dataframe tbody tr th:only-of-type {\n",
       "        vertical-align: middle;\n",
       "    }\n",
       "\n",
       "    .dataframe tbody tr th {\n",
       "        vertical-align: top;\n",
       "    }\n",
       "\n",
       "    .dataframe thead th {\n",
       "        text-align: right;\n",
       "    }\n",
       "</style>\n",
       "<table border=\"1\" class=\"dataframe\">\n",
       "  <thead>\n",
       "    <tr style=\"text-align: right;\">\n",
       "      <th></th>\n",
       "      <th>cleaned_comment_text</th>\n",
       "    </tr>\n",
       "  </thead>\n",
       "  <tbody>\n",
       "    <tr>\n",
       "      <th>47295</th>\n",
       "      <td>I HATE VEGANS AND I HATE YOU</td>\n",
       "    </tr>\n",
       "    <tr>\n",
       "      <th>34487</th>\n",
       "      <td>The Brits generally dumber Yanks basically fish chip goobers Russians smartest all especially cultural things You seem like good guy although picture strange hell With face like that I would want date sister hell I would want date german shepherd LOL</td>\n",
       "    </tr>\n",
       "  </tbody>\n",
       "</table>\n",
       "</div>"
      ],
      "text/plain": [
       "                                                                                                                                                                                                                                             cleaned_comment_text\n",
       "47295                                                                                                                                                                                                                                I HATE VEGANS AND I HATE YOU\n",
       "34487  The Brits generally dumber Yanks basically fish chip goobers Russians smartest all especially cultural things You seem like good guy although picture strange hell With face like that I would want date sister hell I would want date german shepherd LOL"
      ]
     },
     "execution_count": 29,
     "metadata": {},
     "output_type": "execute_result"
    }
   ],
   "source": [
    "x_test_toxic.head(2)"
   ]
  },
  {
   "cell_type": "code",
   "execution_count": 30,
   "metadata": {},
   "outputs": [
    {
     "data": {
      "text/plain": [
       "['I HATE VEGANS AND I HATE YOU',\n",
       " 'The Brits generally dumber Yanks basically fish chip goobers Russians smartest all especially cultural things You seem like good guy although picture strange hell With face like that I would want date sister hell I would want date german shepherd LOL',\n",
       " 'Three tits ! Hah !',\n",
       " 'My stupid ex room mate get block',\n",
       " 'IM IN YOUR AREA I go find I find I teach swim']"
      ]
     },
     "execution_count": 30,
     "metadata": {},
     "output_type": "execute_result"
    }
   ],
   "source": [
    "x_test_toxic1 = [doc for doc in x_test_toxic['cleaned_comment_text']]\n",
    "x_test_toxic1[0:5]"
   ]
  },
  {
   "cell_type": "code",
   "execution_count": 31,
   "metadata": {},
   "outputs": [
    {
     "data": {
      "text/html": [
       "<div>\n",
       "<style scoped>\n",
       "    .dataframe tbody tr th:only-of-type {\n",
       "        vertical-align: middle;\n",
       "    }\n",
       "\n",
       "    .dataframe tbody tr th {\n",
       "        vertical-align: top;\n",
       "    }\n",
       "\n",
       "    .dataframe thead th {\n",
       "        text-align: right;\n",
       "    }\n",
       "</style>\n",
       "<table border=\"1\" class=\"dataframe\">\n",
       "  <thead>\n",
       "    <tr style=\"text-align: right;\">\n",
       "      <th></th>\n",
       "      <th>severe_toxic</th>\n",
       "      <th>obscene</th>\n",
       "      <th>threat</th>\n",
       "      <th>insult</th>\n",
       "      <th>identity_hate</th>\n",
       "    </tr>\n",
       "  </thead>\n",
       "  <tbody>\n",
       "    <tr>\n",
       "      <th>39367</th>\n",
       "      <td>0</td>\n",
       "      <td>1</td>\n",
       "      <td>0</td>\n",
       "      <td>1</td>\n",
       "      <td>0</td>\n",
       "    </tr>\n",
       "    <tr>\n",
       "      <th>40315</th>\n",
       "      <td>0</td>\n",
       "      <td>0</td>\n",
       "      <td>0</td>\n",
       "      <td>1</td>\n",
       "      <td>0</td>\n",
       "    </tr>\n",
       "  </tbody>\n",
       "</table>\n",
       "</div>"
      ],
      "text/plain": [
       "       severe_toxic  obscene  threat  insult  identity_hate\n",
       "39367             0        1       0       1              0\n",
       "40315             0        0       0       1              0"
      ]
     },
     "execution_count": 31,
     "metadata": {},
     "output_type": "execute_result"
    }
   ],
   "source": [
    "y_train_toxic.head(2)"
   ]
  },
  {
   "cell_type": "code",
   "execution_count": 32,
   "metadata": {},
   "outputs": [
    {
     "data": {
      "text/html": [
       "<div>\n",
       "<style scoped>\n",
       "    .dataframe tbody tr th:only-of-type {\n",
       "        vertical-align: middle;\n",
       "    }\n",
       "\n",
       "    .dataframe tbody tr th {\n",
       "        vertical-align: top;\n",
       "    }\n",
       "\n",
       "    .dataframe thead th {\n",
       "        text-align: right;\n",
       "    }\n",
       "</style>\n",
       "<table border=\"1\" class=\"dataframe\">\n",
       "  <thead>\n",
       "    <tr style=\"text-align: right;\">\n",
       "      <th></th>\n",
       "      <th>severe_toxic</th>\n",
       "      <th>obscene</th>\n",
       "      <th>threat</th>\n",
       "      <th>insult</th>\n",
       "      <th>identity_hate</th>\n",
       "    </tr>\n",
       "  </thead>\n",
       "  <tbody>\n",
       "    <tr>\n",
       "      <th>47295</th>\n",
       "      <td>0</td>\n",
       "      <td>0</td>\n",
       "      <td>0</td>\n",
       "      <td>1</td>\n",
       "      <td>1</td>\n",
       "    </tr>\n",
       "    <tr>\n",
       "      <th>34487</th>\n",
       "      <td>0</td>\n",
       "      <td>0</td>\n",
       "      <td>0</td>\n",
       "      <td>1</td>\n",
       "      <td>0</td>\n",
       "    </tr>\n",
       "  </tbody>\n",
       "</table>\n",
       "</div>"
      ],
      "text/plain": [
       "       severe_toxic  obscene  threat  insult  identity_hate\n",
       "47295             0        0       0       1              1\n",
       "34487             0        0       0       1              0"
      ]
     },
     "execution_count": 32,
     "metadata": {},
     "output_type": "execute_result"
    }
   ],
   "source": [
    "y_test_toxic.head(2)"
   ]
  },
  {
   "cell_type": "markdown",
   "metadata": {},
   "source": [
    "### feature engineering: 1st-level"
   ]
  },
  {
   "cell_type": "code",
   "execution_count": 21,
   "metadata": {},
   "outputs": [
    {
     "name": "stdout",
     "output_type": "stream",
     "text": [
      "[[2, 3, 4, 5, 6, 7, 8, 9, 10]]\n",
      "{True: 1, 'FFFFF': 2, 'Listen': 3, 'fuckers': 4, 'dont': 5, 'come': 6, 'say': 7, 'shit': 8, 'face': 9, '!': 10}\n",
      "11\n"
     ]
    }
   ],
   "source": [
    "tokenizer = Tokenizer(num_words=5000, \n",
    "                      filters='\"#$%&()*+,-./:;<=>?@[\\\\]^_`{|}~\\t\\n', # omit !\n",
    "                      lower=False, \n",
    "                      char_level=False,\n",
    "                      oov_token=True) # reserve token for unknown words in test set\n",
    "\n",
    "tokenizer.fit_on_texts(['FFFFF Listen fuckers dont come say shit face !']) \n",
    "print(tokenizer.texts_to_sequences(['FFFFF Listen fuckers dont come say shit face !'])) \n",
    "\n",
    "print(tokenizer.word_index)\n",
    "vocab_size = len(tokenizer.word_index) + 1\n",
    "print(vocab_size)"
   ]
  },
  {
   "cell_type": "code",
   "execution_count": 22,
   "metadata": {},
   "outputs": [
    {
     "name": "stdout",
     "output_type": "stream",
     "text": [
      "[[0.         0.         0.40546511 ... 0.         0.         0.        ]]\n",
      "{True: 1, 'FFFFF': 2, 'Listen': 3, 'fuckers': 4, 'dont': 5, 'come': 6, 'say': 7, 'shit': 8, 'face': 9, '!': 10}\n",
      "11\n"
     ]
    }
   ],
   "source": [
    "tokenizer = Tokenizer(num_words=5000, \n",
    "                      filters='\"#$%&()*+,-./:;<=>?@[\\\\]^_`{|}~\\t\\n', # omit !\n",
    "                      lower=False, \n",
    "                      char_level=False,\n",
    "                      oov_token=True) # reserve token for unknown words in test set\n",
    "\n",
    "tokenizer.fit_on_texts(['FFFFF Listen fuckers dont come say shit face !']) \n",
    "print(tokenizer.texts_to_matrix(['FFFFF Listen fuckers dont come say shit face !'], mode='tfidf')) \n",
    "\n",
    "print(tokenizer.word_index)\n",
    "vocab_size = len(tokenizer.word_index) + 1\n",
    "print(vocab_size)"
   ]
  },
  {
   "cell_type": "code",
   "execution_count": 23,
   "metadata": {},
   "outputs": [
    {
     "name": "stdout",
     "output_type": "stream",
     "text": [
      "91191\n",
      "It certainly refer distinction find within language\n",
      "[27, 622, 336, 2746, 45, 599, 375]\n"
     ]
    }
   ],
   "source": [
    "# texts_to_sequences\n",
    "tokenizer = Tokenizer(num_words=None, \n",
    "                      filters='\"#$%&()*+,-./:;<=>?@[\\\\]^_`{|}~\\t\\n', # omit !\n",
    "                      lower=False, \n",
    "                      char_level=False,\n",
    "                      oov_token=True) # reserve token for unknown words in test set\n",
    "\n",
    "tokenizer.fit_on_texts(x_train1)\n",
    "\n",
    "x_train_s1 = tokenizer.texts_to_sequences(x_train1)\n",
    "x_test_s1 = tokenizer.texts_to_sequences(x_test1)\n",
    "\n",
    "vocab_size = len(tokenizer.word_index) + 1\n",
    "print(vocab_size)\n",
    "\n",
    "print(x_train1[0])\n",
    "print(x_train_s1[0])"
   ]
  },
  {
   "cell_type": "code",
   "execution_count": 33,
   "metadata": {},
   "outputs": [
    {
     "name": "stdout",
     "output_type": "stream",
     "text": [
      "91191\n",
      "It certainly refer distinction find within language\n",
      "[0. 0. 0. ... 0. 0. 0.]\n"
     ]
    }
   ],
   "source": [
    "# texts_to_matrix\n",
    "tokenizer = Tokenizer(num_words=10000, \n",
    "                      filters='\"#$%&()*+,-./:;<=>?@[\\\\]^_`{|}~\\t\\n', # omit !\n",
    "                      lower=False, \n",
    "                      char_level=False,\n",
    "                      oov_token=True) # reserve token for unknown words in test set\n",
    "\n",
    "tokenizer.fit_on_texts(x_train1)\n",
    "\n",
    "x_train_m1 = tokenizer.texts_to_matrix(x_train1, mode='tfidf')\n",
    "x_test_m1 = tokenizer.texts_to_matrix(x_test1, mode='tfidf')\n",
    "\n",
    "vocab_size = len(tokenizer.word_index) + 1\n",
    "print(vocab_size)\n",
    "\n",
    "print(x_train1[0])\n",
    "print(x_train_m1[0])"
   ]
  },
  {
   "cell_type": "code",
   "execution_count": 185,
   "metadata": {},
   "outputs": [
    {
     "name": "stdout",
     "output_type": "stream",
     "text": [
      "91191\n",
      "It certainly refer distinction find within language\n",
      "[0. 0. 0. ... 0. 0. 0.]\n"
     ]
    }
   ],
   "source": [
    "# texts_to_matrix\n",
    "tokenizer = Tokenizer(num_words=10000, \n",
    "                      filters='\"#$%&()*+,-./:;<=>?@[\\\\]^_`{|}~\\t\\n', # omit !\n",
    "                      lower=False, \n",
    "                      char_level=False,\n",
    "                      oov_token=True) # reserve token for unknown words in test set\n",
    "\n",
    "tokenizer.fit_on_texts(x_train1)\n",
    "\n",
    "x_train_m3 = tokenizer.texts_to_matrix(x_train1, mode='count')\n",
    "x_test_m3 = tokenizer.texts_to_matrix(x_test1, mode='count')\n",
    "\n",
    "vocab_size = len(tokenizer.word_index) + 1\n",
    "print(vocab_size)\n",
    "\n",
    "print(x_train1[0])\n",
    "print(x_train_m3[0])"
   ]
  },
  {
   "cell_type": "code",
   "execution_count": 26,
   "metadata": {},
   "outputs": [],
   "source": [
    "# pad_sequences\n",
    "maxlen = 5000 # len of longest comment\n",
    "\n",
    "x_train_s2 = sequence.pad_sequences(x_train_s1, padding='post', maxlen=maxlen)\n",
    "x_test_s2 = sequence.pad_sequences(x_test_s1, padding='post', maxlen=maxlen)"
   ]
  },
  {
   "cell_type": "code",
   "execution_count": 27,
   "metadata": {},
   "outputs": [
    {
     "name": "stdout",
     "output_type": "stream",
     "text": [
      "[ 27 622 336 ...   0   0   0]\n"
     ]
    }
   ],
   "source": [
    "print(x_train_s2[0])"
   ]
  },
  {
   "cell_type": "code",
   "execution_count": 34,
   "metadata": {},
   "outputs": [
    {
     "data": {
      "text/plain": [
       "array([[0],\n",
       "       [1],\n",
       "       [0],\n",
       "       ...,\n",
       "       [0],\n",
       "       [0],\n",
       "       [1]], dtype=int64)"
      ]
     },
     "execution_count": 34,
     "metadata": {},
     "output_type": "execute_result"
    }
   ],
   "source": [
    "y_train = np.array(y_train)\n",
    "y_train"
   ]
  },
  {
   "cell_type": "code",
   "execution_count": 35,
   "metadata": {},
   "outputs": [
    {
     "data": {
      "text/plain": [
       "array([[0],\n",
       "       [0],\n",
       "       [0],\n",
       "       ...,\n",
       "       [1],\n",
       "       [0],\n",
       "       [1]], dtype=int64)"
      ]
     },
     "execution_count": 35,
     "metadata": {},
     "output_type": "execute_result"
    }
   ],
   "source": [
    "y_test = np.array(y_test)\n",
    "y_test"
   ]
  },
  {
   "cell_type": "markdown",
   "metadata": {},
   "source": [
    "### 1st level classification: binary"
   ]
  },
  {
   "cell_type": "markdown",
   "metadata": {},
   "source": [
    "### texts_to_matrix (tfidf) -> Conv1D"
   ]
  },
  {
   "cell_type": "code",
   "execution_count": 36,
   "metadata": {},
   "outputs": [],
   "source": [
    "x_train_m2 = x_train_m1.reshape(x_train_m1.shape[0], x_train_m1.shape[1], 1)"
   ]
  },
  {
   "cell_type": "code",
   "execution_count": 37,
   "metadata": {},
   "outputs": [
    {
     "data": {
      "text/plain": [
       "(43896, 10000, 1)"
      ]
     },
     "execution_count": 37,
     "metadata": {},
     "output_type": "execute_result"
    }
   ],
   "source": [
    "x_train_m2.shape"
   ]
  },
  {
   "cell_type": "code",
   "execution_count": 38,
   "metadata": {},
   "outputs": [
    {
     "data": {
      "text/plain": [
       "array([[0.],\n",
       "       [0.],\n",
       "       [0.],\n",
       "       ...,\n",
       "       [0.],\n",
       "       [0.],\n",
       "       [0.]])"
      ]
     },
     "execution_count": 38,
     "metadata": {},
     "output_type": "execute_result"
    }
   ],
   "source": [
    "x_train_m2[0]"
   ]
  },
  {
   "cell_type": "code",
   "execution_count": 39,
   "metadata": {},
   "outputs": [],
   "source": [
    "x_test_m2 = x_test_m1.reshape(x_test_m1.shape[0], x_test_m1.shape[1], 1)"
   ]
  },
  {
   "cell_type": "code",
   "execution_count": 40,
   "metadata": {},
   "outputs": [
    {
     "data": {
      "text/plain": [
       "(10974, 10000, 1)"
      ]
     },
     "execution_count": 40,
     "metadata": {},
     "output_type": "execute_result"
    }
   ],
   "source": [
    "x_test_m2.shape"
   ]
  },
  {
   "cell_type": "code",
   "execution_count": 41,
   "metadata": {},
   "outputs": [
    {
     "data": {
      "text/plain": [
       "(43896, 1)"
      ]
     },
     "execution_count": 41,
     "metadata": {},
     "output_type": "execute_result"
    }
   ],
   "source": [
    "y_train.shape"
   ]
  },
  {
   "cell_type": "code",
   "execution_count": 42,
   "metadata": {},
   "outputs": [
    {
     "name": "stdout",
     "output_type": "stream",
     "text": [
      "Model: \"matrix_model\"\n",
      "__________________________________________________________________________________________________\n",
      "Layer (type)                    Output Shape         Param #     Connected to                     \n",
      "==================================================================================================\n",
      "matrix_text (InputLayer)        [(None, 10000, 1)]   0                                            \n",
      "__________________________________________________________________________________________________\n",
      "conv1d (Conv1D)                 (None, 9996, 128)    768         matrix_text[0][0]                \n",
      "__________________________________________________________________________________________________\n",
      "global_max_pooling1d (GlobalMax (None, 128)          0           conv1d[0][0]                     \n",
      "__________________________________________________________________________________________________\n",
      "flatten_1 (Flatten)             (None, 10000)        0           matrix_text[0][0]                \n",
      "__________________________________________________________________________________________________\n",
      "flatten (Flatten)               (None, 128)          0           global_max_pooling1d[0][0]       \n",
      "__________________________________________________________________________________________________\n",
      "dense (Dense)                   (None, 32)           320032      flatten_1[0][0]                  \n",
      "__________________________________________________________________________________________________\n",
      "concatenate (Concatenate)       (None, 160)          0           flatten[0][0]                    \n",
      "                                                                 dense[0][0]                      \n",
      "__________________________________________________________________________________________________\n",
      "dense_1 (Dense)                 (None, 32)           5152        concatenate[0][0]                \n",
      "__________________________________________________________________________________________________\n",
      "dense_2 (Dense)                 (None, 1)            33          dense_1[0][0]                    \n",
      "==================================================================================================\n",
      "Total params: 325,985\n",
      "Trainable params: 325,985\n",
      "Non-trainable params: 0\n",
      "__________________________________________________________________________________________________\n"
     ]
    }
   ],
   "source": [
    "filters = 128\n",
    "kernel_size = 5\n",
    "\n",
    "inputs = keras.Input(shape=(10000,1), name='matrix_text')\n",
    "x = layers.Conv1D(filters, kernel_size, activation='relu')(inputs)\n",
    "x = layers.GlobalMaxPooling1D()(x)\n",
    "branch1_output = layers.Flatten()(x)\n",
    "x = layers.Flatten()(inputs)\n",
    "branch2_output = layers.Dense(32, activation='relu')(x)\n",
    "x = layers.concatenate([branch1_output, branch2_output])\n",
    "x = layers.Dense(32, activation='relu')(x)\n",
    "outputs = layers.Dense(1, activation='sigmoid')(x)\n",
    "\n",
    "model = keras.Model(inputs=inputs, outputs=outputs, name='matrix_model')\n",
    "model.summary()"
   ]
  },
  {
   "cell_type": "code",
   "execution_count": 43,
   "metadata": {},
   "outputs": [
    {
     "data": {
      "image/png": "[encoded data removed]",
      "text/plain": [
       "<IPython.core.display.Image object>"
      ]
     },
     "execution_count": 43,
     "metadata": {},
     "output_type": "execute_result"
    }
   ],
   "source": [
    "keras.utils.plot_model(model, 'matrix_model.png', show_shapes=True)"
   ]
  },
  {
   "cell_type": "code",
   "execution_count": 44,
   "metadata": {},
   "outputs": [
    {
     "name": "stdout",
     "output_type": "stream",
     "text": [
      "Train on 35116 samples, validate on 8780 samples\n",
      "Epoch 1/2\n",
      "35116/35116 [==============================] - 669s 19ms/sample - loss: 0.3459 - accuracy: 0.8595 - val_loss: 0.3058 - val_accuracy: 0.8707\n",
      "Epoch 2/2\n",
      "35116/35116 [==============================] - 651s 19ms/sample - loss: 0.1795 - accuracy: 0.9266 - val_loss: 0.3434 - val_accuracy: 0.8793\n",
      "10974/1 - 79s - loss: 0.2662 - accuracy: 0.8806\n",
      "Test loss: 0.3343006690761442\n",
      "Test accuracy: 0.8806269\n"
     ]
    }
   ],
   "source": [
    "model.compile(loss='binary_crossentropy',\n",
    "              optimizer='adam',\n",
    "              metrics=['accuracy'])\n",
    "\n",
    "batch_size = 32\n",
    "epochs = 2\n",
    "\n",
    "history = model.fit(x_train_m2, y_train,\n",
    "                    batch_size=batch_size,\n",
    "                    epochs=epochs,\n",
    "                    validation_split=0.2)\n",
    "\n",
    "test_scores = model.evaluate(x_test_m2, y_test, verbose=2)\n",
    "print('Test loss:', test_scores[0])\n",
    "print('Test accuracy:', test_scores[1])"
   ]
  },
  {
   "cell_type": "code",
   "execution_count": 45,
   "metadata": {},
   "outputs": [],
   "source": [
    "y_pred = model.predict(x_test_m2)"
   ]
  },
  {
   "cell_type": "code",
   "execution_count": 46,
   "metadata": {},
   "outputs": [],
   "source": [
    "y_pred1 = np.round(y_pred).astype(int)"
   ]
  },
  {
   "cell_type": "code",
   "execution_count": 49,
   "metadata": {},
   "outputs": [
    {
     "name": "stdout",
     "output_type": "stream",
     "text": [
      "\n",
      "Confusion matrix:\n",
      " [[6145  584]\n",
      " [ 726 3519]]\n",
      "\n",
      "Accuracy: 88.06%\n",
      "\n",
      "Precision: 85.77%\n",
      "\n",
      "Recall: 82.9%\n",
      "\n",
      "f1-score: 84.31%\n",
      "\n",
      "Clasification report:\n",
      "               precision    recall  f1-score   support\n",
      "\n",
      "           0       0.89      0.91      0.90      6729\n",
      "           1       0.86      0.83      0.84      4245\n",
      "\n",
      "    accuracy                           0.88     10974\n",
      "   macro avg       0.88      0.87      0.87     10974\n",
      "weighted avg       0.88      0.88      0.88     10974\n",
      "\n",
      "0.8801523944811803 0.8806269363951157 0.8802348623827267 None\n"
     ]
    }
   ],
   "source": [
    "# evaluate performance   \n",
    "print('\\nConfusion matrix:\\n', confusion_matrix(y_test, y_pred1))\n",
    "print('\\nAccuracy: {}%'.format(round(100*accuracy_score(y_test, y_pred1),2)))\n",
    "print('\\nPrecision: {}%'.format(round(100*precision_score(y_test, y_pred1),2)))\n",
    "print('\\nRecall: {}%'.format(round(100*recall_score(y_test, y_pred1),2)))\n",
    "print('\\nf1-score: {}%'.format(round(100*f1_score(y_test, y_pred1),2)))\n",
    "print('\\nClasification report:\\n', classification_report(y_test, y_pred1))\n",
    "\n",
    "precision, recall, f1_score, support = precision_recall_fscore_support(y_test, y_pred1, beta=1, average='weighted')\n",
    "print(precision, recall, f1_score, support)"
   ]
  },
  {
   "cell_type": "markdown",
   "metadata": {},
   "source": [
    "### 2nd level classification: multi-label"
   ]
  },
  {
   "cell_type": "markdown",
   "metadata": {},
   "source": [
    "### feature engineering: 2nd-level"
   ]
  },
  {
   "cell_type": "code",
   "execution_count": 476,
   "metadata": {},
   "outputs": [
    {
     "name": "stdout",
     "output_type": "stream",
     "text": [
      "41126\n",
      "When fagot decide edit wikipedia tough call edit tattoo word loser forehead Tattoo might less embarrass Later asslickers\n",
      "[ 0.         30.01606506  0.          0.          0.          0.\n",
      "  0.          0.          0.          0.          0.          0.\n",
      "  0.          0.          0.          0.          0.          0.\n",
      "  0.          0.          0.          4.4444277   0.          0.\n",
      "  0.          0.          0.          0.          0.          0.\n",
      "  0.          0.          0.          0.          0.          0.\n",
      "  0.          0.          0.          0.          0.          0.\n",
      "  0.          0.          0.          0.          0.          0.\n",
      "  0.          0.          0.          0.          0.          0.\n",
      "  0.          0.          0.          0.          0.          0.\n",
      "  0.          0.          0.          0.          0.          0.\n",
      "  0.          0.          0.          0.          0.          0.\n",
      "  0.          0.          0.          0.          0.          0.\n",
      "  3.25562657  0.          0.          0.          0.          0.\n",
      "  0.          0.          0.          0.          0.          0.\n",
      "  0.          0.          0.          0.          0.          0.\n",
      "  0.          0.          0.          0.          0.          0.\n",
      "  0.          3.32244724  0.          0.          0.          0.\n",
      "  0.          0.          0.          0.          0.          0.\n",
      "  0.          0.          0.          0.          0.          0.\n",
      "  0.          0.          0.          0.          0.          0.\n",
      "  0.          0.          0.          0.          0.          0.\n",
      "  0.          0.          0.          0.          0.          0.\n",
      "  0.          0.          0.          0.          0.          0.\n",
      "  0.          0.          0.          0.          0.          0.\n",
      "  0.          0.          0.          0.          0.          0.\n",
      "  0.          0.          0.          0.          0.          0.\n",
      "  0.          0.          0.          0.          0.          0.\n",
      "  0.          0.          0.          0.          0.          0.\n",
      "  0.          0.          0.          0.          0.          0.\n",
      "  0.          0.          0.          0.          0.          0.\n",
      "  0.          0.          0.          0.          0.          0.\n",
      "  0.          0.          0.          0.          0.          0.\n",
      "  0.          3.83673907  0.          0.          0.          0.\n",
      "  0.          0.          0.          0.          0.          0.\n",
      "  0.          0.          0.          0.          0.          0.\n",
      "  0.          0.          0.          0.          0.          0.\n",
      "  0.          0.          0.          0.          0.          0.\n",
      "  0.          0.          0.          0.          0.          0.\n",
      "  0.          0.          0.          0.          0.          0.\n",
      "  0.          0.          0.          0.          0.          0.\n",
      "  0.          0.          0.          0.          0.          0.\n",
      "  0.          0.          0.          0.          0.          0.\n",
      "  0.          0.          0.          0.          0.          0.\n",
      "  0.          0.          0.          0.          0.          0.\n",
      "  0.          0.          0.          0.          0.          0.\n",
      "  0.          0.          0.          0.          0.          0.\n",
      "  0.          0.          0.          0.          0.          0.\n",
      "  0.          0.          0.          0.          0.          0.\n",
      "  0.          0.          0.          0.          0.          0.\n",
      "  0.          0.          0.          0.          0.          0.\n",
      "  0.          0.          0.          0.          0.          0.\n",
      "  0.          0.          0.          0.          0.          0.\n",
      "  0.          0.          0.          0.          0.          0.\n",
      "  0.          0.          0.          0.          0.          0.\n",
      "  0.          0.          0.          0.          0.          0.\n",
      "  0.          0.          0.          0.          0.          0.\n",
      "  0.          0.          0.          0.          0.          0.\n",
      "  0.          0.          0.          0.          0.          0.\n",
      "  0.          0.          0.          0.          0.          0.\n",
      "  0.          0.          0.          0.          0.          0.\n",
      "  0.          0.          0.          0.          0.          0.\n",
      "  0.          0.          0.          0.          0.          0.\n",
      "  0.          0.          0.          0.          0.          0.\n",
      "  0.          0.          0.          0.          0.          0.\n",
      "  0.          0.          0.          0.          0.          0.\n",
      "  0.          0.          0.          0.          0.          0.\n",
      "  0.          0.          0.          0.          0.          0.\n",
      "  0.          0.          0.          0.          0.          0.\n",
      "  0.          4.49060362  0.          0.          0.          0.\n",
      "  0.          0.          0.          0.          0.          0.\n",
      "  0.          0.          0.          0.          0.          0.\n",
      "  0.          0.          0.          0.          0.          0.\n",
      "  0.          0.          0.          0.          0.          0.\n",
      "  0.          0.          0.          0.          0.          0.\n",
      "  0.          0.          0.          0.          0.          0.\n",
      "  0.          0.          0.          0.          0.          0.\n",
      "  0.          0.          0.          0.          0.          0.\n",
      "  0.          0.          0.          0.          0.          0.\n",
      "  0.          0.          0.          0.          0.          0.\n",
      "  0.          0.          0.          0.          0.          0.\n",
      "  0.          0.          0.          0.          0.          0.\n",
      "  0.          0.          0.          0.          0.          0.\n",
      "  0.          0.          0.          0.          0.          0.\n",
      "  0.          0.          0.          0.          0.          0.\n",
      "  0.          0.          0.          0.          0.          0.\n",
      "  0.          0.          0.          0.          0.          0.\n",
      "  0.          0.          0.          0.          0.          0.\n",
      "  0.          0.          0.          0.          0.          0.\n",
      "  0.          0.          0.          0.          0.          0.\n",
      "  0.          0.          0.          0.          0.          0.\n",
      "  4.6212751   0.          0.          0.          0.          0.\n",
      "  0.          0.          0.          0.          0.          0.\n",
      "  0.          0.          0.          0.          0.          0.\n",
      "  0.          0.          0.          0.          0.          0.\n",
      "  0.          0.          0.          0.          0.          0.\n",
      "  0.          0.          0.          0.          0.          0.\n",
      "  4.70640683  0.          0.          0.          0.          0.\n",
      "  0.          0.          0.          0.          0.          0.\n",
      "  0.          0.          0.          0.          0.          0.\n",
      "  0.          0.          0.          0.          0.          0.\n",
      "  0.          0.          0.          0.          0.          0.\n",
      "  0.          0.          0.          0.          0.          0.\n",
      "  0.          0.          0.          0.          0.          0.\n",
      "  0.          0.          0.          0.          0.          0.\n",
      "  0.          0.          0.          0.          0.          0.\n",
      "  0.          0.          0.          0.          0.          0.\n",
      "  0.          0.          0.          0.          0.          0.\n",
      "  0.          0.          0.          0.          0.          0.\n",
      "  0.          0.          0.          0.          0.          0.\n",
      "  0.          0.          0.          0.          0.          0.\n",
      "  0.          0.          0.          0.          0.          0.\n",
      "  0.          0.          0.          0.          0.          0.\n",
      "  0.          0.          0.          0.          0.          0.\n",
      "  0.          0.          0.          0.          0.          0.\n",
      "  0.          0.          0.          0.          0.          0.\n",
      "  0.          0.          0.          0.          0.          0.\n",
      "  0.          0.          0.          0.          0.          0.\n",
      "  0.          0.          0.          0.          0.          0.\n",
      "  0.          0.          0.          0.          0.          0.\n",
      "  0.          0.          0.          0.          0.          0.\n",
      "  0.          0.          0.          0.          0.          4.95844265\n",
      "  0.          0.          0.          0.          0.          0.\n",
      "  0.          0.          0.          0.          4.98337441  0.\n",
      "  0.          0.          0.          0.          0.          0.\n",
      "  0.          0.          0.          0.          0.          0.\n",
      "  0.          0.          0.          0.          0.          0.\n",
      "  0.          0.          0.          0.          0.          0.\n",
      "  0.          0.          0.          0.          0.          0.\n",
      "  0.          0.          0.          0.          0.          0.\n",
      "  0.          0.          0.          0.          0.          0.\n",
      "  0.          0.          0.          0.          0.          0.\n",
      "  0.          0.          0.          0.          0.          0.\n",
      "  0.          0.          0.          0.          0.          0.\n",
      "  0.          0.          0.          0.          0.          0.\n",
      "  0.          0.          0.          0.          0.          0.\n",
      "  0.          0.          0.          0.          0.          0.\n",
      "  0.          0.          0.          0.          0.          0.\n",
      "  0.          0.          0.          0.          0.          0.\n",
      "  0.          0.          0.          0.          0.          0.\n",
      "  0.          0.          0.          0.          0.          0.\n",
      "  0.          0.          0.          0.          0.          0.\n",
      "  0.          0.          0.          0.          0.          0.\n",
      "  0.          0.          0.          0.          0.          0.\n",
      "  0.          0.          0.          0.          0.          0.\n",
      "  0.          0.          0.          0.          0.          0.\n",
      "  0.          0.          0.          0.          0.          0.\n",
      "  0.          0.          0.          0.          0.          0.\n",
      "  0.          0.          0.          0.          0.          0.\n",
      "  0.          0.          0.          0.          0.          0.\n",
      "  0.          0.          0.          0.          0.          0.\n",
      "  0.          0.          0.          0.          0.          0.\n",
      "  0.          0.          0.          0.          0.          0.\n",
      "  0.          0.          0.          0.          0.          0.\n",
      "  0.          0.          0.          0.          0.          0.\n",
      "  0.          0.          0.          0.          0.          0.\n",
      "  0.          0.          0.          0.          0.          0.\n",
      "  0.          0.          0.          0.          0.          0.\n",
      "  0.          0.          0.          0.          0.          0.\n",
      "  0.          0.          0.          0.          0.          0.\n",
      "  0.          0.          0.          0.          0.          0.\n",
      "  0.          0.          0.          0.          0.          0.\n",
      "  0.          0.          0.          0.          0.          0.\n",
      "  0.          0.          0.          0.          0.          0.\n",
      "  0.          0.          0.          0.          0.          0.\n",
      "  0.          0.          0.          0.          0.          0.\n",
      "  0.          0.          0.          0.        ]\n"
     ]
    }
   ],
   "source": [
    "# texts_to_matrix\n",
    "tokenizer = Tokenizer(num_words=1000, \n",
    "                      filters='\"#$%&()*+,-./:;<=>?@[\\\\]^_`{|}~\\t\\n', # omit !\n",
    "                      lower=False, \n",
    "                      char_level=False,\n",
    "                      oov_token=True) # reserve token for unknown words in test set\n",
    "\n",
    "tokenizer.fit_on_texts(x_train_toxic1)\n",
    "\n",
    "x_train_toxic_m1 = tokenizer.texts_to_matrix(x_train_toxic1, mode='tfidf')\n",
    "x_test_toxic_m1 = tokenizer.texts_to_matrix(x_test_toxic1, mode='tfidf')\n",
    "\n",
    "vocab_size = len(tokenizer.word_index) + 1\n",
    "print(vocab_size)\n",
    "\n",
    "print(x_train_toxic1[0])\n",
    "print(x_train_toxic_m1[0])"
   ]
  },
  {
   "cell_type": "code",
   "execution_count": 477,
   "metadata": {},
   "outputs": [
    {
     "data": {
      "text/plain": [
       "(17106, 1000, 1)"
      ]
     },
     "execution_count": 477,
     "metadata": {},
     "output_type": "execute_result"
    }
   ],
   "source": [
    "x_train_toxic_m2 = x_train_toxic_m1.reshape(x_train_toxic_m1.shape[0], x_train_toxic_m1.shape[1], 1)\n",
    "x_train_toxic_m2.shape"
   ]
  },
  {
   "cell_type": "code",
   "execution_count": 478,
   "metadata": {},
   "outputs": [
    {
     "data": {
      "text/plain": [
       "array([[ 0.        ],\n",
       "       [30.01606506],\n",
       "       [ 0.        ],\n",
       "       [ 0.        ],\n",
       "       [ 0.        ],\n",
       "       [ 0.        ],\n",
       "       [ 0.        ],\n",
       "       [ 0.        ],\n",
       "       [ 0.        ],\n",
       "       [ 0.        ],\n",
       "       [ 0.        ],\n",
       "       [ 0.        ],\n",
       "       [ 0.        ],\n",
       "       [ 0.        ],\n",
       "       [ 0.        ],\n",
       "       [ 0.        ],\n",
       "       [ 0.        ],\n",
       "       [ 0.        ],\n",
       "       [ 0.        ],\n",
       "       [ 0.        ],\n",
       "       [ 0.        ],\n",
       "       [ 4.4444277 ],\n",
       "       [ 0.        ],\n",
       "       [ 0.        ],\n",
       "       [ 0.        ],\n",
       "       [ 0.        ],\n",
       "       [ 0.        ],\n",
       "       [ 0.        ],\n",
       "       [ 0.        ],\n",
       "       [ 0.        ],\n",
       "       [ 0.        ],\n",
       "       [ 0.        ],\n",
       "       [ 0.        ],\n",
       "       [ 0.        ],\n",
       "       [ 0.        ],\n",
       "       [ 0.        ],\n",
       "       [ 0.        ],\n",
       "       [ 0.        ],\n",
       "       [ 0.        ],\n",
       "       [ 0.        ],\n",
       "       [ 0.        ],\n",
       "       [ 0.        ],\n",
       "       [ 0.        ],\n",
       "       [ 0.        ],\n",
       "       [ 0.        ],\n",
       "       [ 0.        ],\n",
       "       [ 0.        ],\n",
       "       [ 0.        ],\n",
       "       [ 0.        ],\n",
       "       [ 0.        ],\n",
       "       [ 0.        ],\n",
       "       [ 0.        ],\n",
       "       [ 0.        ],\n",
       "       [ 0.        ],\n",
       "       [ 0.        ],\n",
       "       [ 0.        ],\n",
       "       [ 0.        ],\n",
       "       [ 0.        ],\n",
       "       [ 0.        ],\n",
       "       [ 0.        ],\n",
       "       [ 0.        ],\n",
       "       [ 0.        ],\n",
       "       [ 0.        ],\n",
       "       [ 0.        ],\n",
       "       [ 0.        ],\n",
       "       [ 0.        ],\n",
       "       [ 0.        ],\n",
       "       [ 0.        ],\n",
       "       [ 0.        ],\n",
       "       [ 0.        ],\n",
       "       [ 0.        ],\n",
       "       [ 0.        ],\n",
       "       [ 0.        ],\n",
       "       [ 0.        ],\n",
       "       [ 0.        ],\n",
       "       [ 0.        ],\n",
       "       [ 0.        ],\n",
       "       [ 0.        ],\n",
       "       [ 3.25562657],\n",
       "       [ 0.        ],\n",
       "       [ 0.        ],\n",
       "       [ 0.        ],\n",
       "       [ 0.        ],\n",
       "       [ 0.        ],\n",
       "       [ 0.        ],\n",
       "       [ 0.        ],\n",
       "       [ 0.        ],\n",
       "       [ 0.        ],\n",
       "       [ 0.        ],\n",
       "       [ 0.        ],\n",
       "       [ 0.        ],\n",
       "       [ 0.        ],\n",
       "       [ 0.        ],\n",
       "       [ 0.        ],\n",
       "       [ 0.        ],\n",
       "       [ 0.        ],\n",
       "       [ 0.        ],\n",
       "       [ 0.        ],\n",
       "       [ 0.        ],\n",
       "       [ 0.        ],\n",
       "       [ 0.        ],\n",
       "       [ 0.        ],\n",
       "       [ 0.        ],\n",
       "       [ 3.32244724],\n",
       "       [ 0.        ],\n",
       "       [ 0.        ],\n",
       "       [ 0.        ],\n",
       "       [ 0.        ],\n",
       "       [ 0.        ],\n",
       "       [ 0.        ],\n",
       "       [ 0.        ],\n",
       "       [ 0.        ],\n",
       "       [ 0.        ],\n",
       "       [ 0.        ],\n",
       "       [ 0.        ],\n",
       "       [ 0.        ],\n",
       "       [ 0.        ],\n",
       "       [ 0.        ],\n",
       "       [ 0.        ],\n",
       "       [ 0.        ],\n",
       "       [ 0.        ],\n",
       "       [ 0.        ],\n",
       "       [ 0.        ],\n",
       "       [ 0.        ],\n",
       "       [ 0.        ],\n",
       "       [ 0.        ],\n",
       "       [ 0.        ],\n",
       "       [ 0.        ],\n",
       "       [ 0.        ],\n",
       "       [ 0.        ],\n",
       "       [ 0.        ],\n",
       "       [ 0.        ],\n",
       "       [ 0.        ],\n",
       "       [ 0.        ],\n",
       "       [ 0.        ],\n",
       "       [ 0.        ],\n",
       "       [ 0.        ],\n",
       "       [ 0.        ],\n",
       "       [ 0.        ],\n",
       "       [ 0.        ],\n",
       "       [ 0.        ],\n",
       "       [ 0.        ],\n",
       "       [ 0.        ],\n",
       "       [ 0.        ],\n",
       "       [ 0.        ],\n",
       "       [ 0.        ],\n",
       "       [ 0.        ],\n",
       "       [ 0.        ],\n",
       "       [ 0.        ],\n",
       "       [ 0.        ],\n",
       "       [ 0.        ],\n",
       "       [ 0.        ],\n",
       "       [ 0.        ],\n",
       "       [ 0.        ],\n",
       "       [ 0.        ],\n",
       "       [ 0.        ],\n",
       "       [ 0.        ],\n",
       "       [ 0.        ],\n",
       "       [ 0.        ],\n",
       "       [ 0.        ],\n",
       "       [ 0.        ],\n",
       "       [ 0.        ],\n",
       "       [ 0.        ],\n",
       "       [ 0.        ],\n",
       "       [ 0.        ],\n",
       "       [ 0.        ],\n",
       "       [ 0.        ],\n",
       "       [ 0.        ],\n",
       "       [ 0.        ],\n",
       "       [ 0.        ],\n",
       "       [ 0.        ],\n",
       "       [ 0.        ],\n",
       "       [ 0.        ],\n",
       "       [ 0.        ],\n",
       "       [ 0.        ],\n",
       "       [ 0.        ],\n",
       "       [ 0.        ],\n",
       "       [ 0.        ],\n",
       "       [ 0.        ],\n",
       "       [ 0.        ],\n",
       "       [ 0.        ],\n",
       "       [ 0.        ],\n",
       "       [ 0.        ],\n",
       "       [ 0.        ],\n",
       "       [ 0.        ],\n",
       "       [ 0.        ],\n",
       "       [ 0.        ],\n",
       "       [ 0.        ],\n",
       "       [ 0.        ],\n",
       "       [ 0.        ],\n",
       "       [ 0.        ],\n",
       "       [ 0.        ],\n",
       "       [ 0.        ],\n",
       "       [ 0.        ],\n",
       "       [ 0.        ],\n",
       "       [ 0.        ],\n",
       "       [ 0.        ],\n",
       "       [ 0.        ],\n",
       "       [ 0.        ],\n",
       "       [ 3.83673907],\n",
       "       [ 0.        ],\n",
       "       [ 0.        ],\n",
       "       [ 0.        ],\n",
       "       [ 0.        ],\n",
       "       [ 0.        ],\n",
       "       [ 0.        ],\n",
       "       [ 0.        ],\n",
       "       [ 0.        ],\n",
       "       [ 0.        ],\n",
       "       [ 0.        ],\n",
       "       [ 0.        ],\n",
       "       [ 0.        ],\n",
       "       [ 0.        ],\n",
       "       [ 0.        ],\n",
       "       [ 0.        ],\n",
       "       [ 0.        ],\n",
       "       [ 0.        ],\n",
       "       [ 0.        ],\n",
       "       [ 0.        ],\n",
       "       [ 0.        ],\n",
       "       [ 0.        ],\n",
       "       [ 0.        ],\n",
       "       [ 0.        ],\n",
       "       [ 0.        ],\n",
       "       [ 0.        ],\n",
       "       [ 0.        ],\n",
       "       [ 0.        ],\n",
       "       [ 0.        ],\n",
       "       [ 0.        ],\n",
       "       [ 0.        ],\n",
       "       [ 0.        ],\n",
       "       [ 0.        ],\n",
       "       [ 0.        ],\n",
       "       [ 0.        ],\n",
       "       [ 0.        ],\n",
       "       [ 0.        ],\n",
       "       [ 0.        ],\n",
       "       [ 0.        ],\n",
       "       [ 0.        ],\n",
       "       [ 0.        ],\n",
       "       [ 0.        ],\n",
       "       [ 0.        ],\n",
       "       [ 0.        ],\n",
       "       [ 0.        ],\n",
       "       [ 0.        ],\n",
       "       [ 0.        ],\n",
       "       [ 0.        ],\n",
       "       [ 0.        ],\n",
       "       [ 0.        ],\n",
       "       [ 0.        ],\n",
       "       [ 0.        ],\n",
       "       [ 0.        ],\n",
       "       [ 0.        ],\n",
       "       [ 0.        ],\n",
       "       [ 0.        ],\n",
       "       [ 0.        ],\n",
       "       [ 0.        ],\n",
       "       [ 0.        ],\n",
       "       [ 0.        ],\n",
       "       [ 0.        ],\n",
       "       [ 0.        ],\n",
       "       [ 0.        ],\n",
       "       [ 0.        ],\n",
       "       [ 0.        ],\n",
       "       [ 0.        ],\n",
       "       [ 0.        ],\n",
       "       [ 0.        ],\n",
       "       [ 0.        ],\n",
       "       [ 0.        ],\n",
       "       [ 0.        ],\n",
       "       [ 0.        ],\n",
       "       [ 0.        ],\n",
       "       [ 0.        ],\n",
       "       [ 0.        ],\n",
       "       [ 0.        ],\n",
       "       [ 0.        ],\n",
       "       [ 0.        ],\n",
       "       [ 0.        ],\n",
       "       [ 0.        ],\n",
       "       [ 0.        ],\n",
       "       [ 0.        ],\n",
       "       [ 0.        ],\n",
       "       [ 0.        ],\n",
       "       [ 0.        ],\n",
       "       [ 0.        ],\n",
       "       [ 0.        ],\n",
       "       [ 0.        ],\n",
       "       [ 0.        ],\n",
       "       [ 0.        ],\n",
       "       [ 0.        ],\n",
       "       [ 0.        ],\n",
       "       [ 0.        ],\n",
       "       [ 0.        ],\n",
       "       [ 0.        ],\n",
       "       [ 0.        ],\n",
       "       [ 0.        ],\n",
       "       [ 0.        ],\n",
       "       [ 0.        ],\n",
       "       [ 0.        ],\n",
       "       [ 0.        ],\n",
       "       [ 0.        ],\n",
       "       [ 0.        ],\n",
       "       [ 0.        ],\n",
       "       [ 0.        ],\n",
       "       [ 0.        ],\n",
       "       [ 0.        ],\n",
       "       [ 0.        ],\n",
       "       [ 0.        ],\n",
       "       [ 0.        ],\n",
       "       [ 0.        ],\n",
       "       [ 0.        ],\n",
       "       [ 0.        ],\n",
       "       [ 0.        ],\n",
       "       [ 0.        ],\n",
       "       [ 0.        ],\n",
       "       [ 0.        ],\n",
       "       [ 0.        ],\n",
       "       [ 0.        ],\n",
       "       [ 0.        ],\n",
       "       [ 0.        ],\n",
       "       [ 0.        ],\n",
       "       [ 0.        ],\n",
       "       [ 0.        ],\n",
       "       [ 0.        ],\n",
       "       [ 0.        ],\n",
       "       [ 0.        ],\n",
       "       [ 0.        ],\n",
       "       [ 0.        ],\n",
       "       [ 0.        ],\n",
       "       [ 0.        ],\n",
       "       [ 0.        ],\n",
       "       [ 0.        ],\n",
       "       [ 0.        ],\n",
       "       [ 0.        ],\n",
       "       [ 0.        ],\n",
       "       [ 0.        ],\n",
       "       [ 0.        ],\n",
       "       [ 0.        ],\n",
       "       [ 0.        ],\n",
       "       [ 0.        ],\n",
       "       [ 0.        ],\n",
       "       [ 0.        ],\n",
       "       [ 0.        ],\n",
       "       [ 0.        ],\n",
       "       [ 0.        ],\n",
       "       [ 0.        ],\n",
       "       [ 0.        ],\n",
       "       [ 0.        ],\n",
       "       [ 0.        ],\n",
       "       [ 0.        ],\n",
       "       [ 0.        ],\n",
       "       [ 0.        ],\n",
       "       [ 0.        ],\n",
       "       [ 0.        ],\n",
       "       [ 0.        ],\n",
       "       [ 0.        ],\n",
       "       [ 0.        ],\n",
       "       [ 0.        ],\n",
       "       [ 0.        ],\n",
       "       [ 0.        ],\n",
       "       [ 0.        ],\n",
       "       [ 0.        ],\n",
       "       [ 0.        ],\n",
       "       [ 0.        ],\n",
       "       [ 0.        ],\n",
       "       [ 0.        ],\n",
       "       [ 0.        ],\n",
       "       [ 0.        ],\n",
       "       [ 0.        ],\n",
       "       [ 0.        ],\n",
       "       [ 0.        ],\n",
       "       [ 0.        ],\n",
       "       [ 0.        ],\n",
       "       [ 0.        ],\n",
       "       [ 0.        ],\n",
       "       [ 0.        ],\n",
       "       [ 0.        ],\n",
       "       [ 0.        ],\n",
       "       [ 0.        ],\n",
       "       [ 0.        ],\n",
       "       [ 0.        ],\n",
       "       [ 0.        ],\n",
       "       [ 0.        ],\n",
       "       [ 0.        ],\n",
       "       [ 0.        ],\n",
       "       [ 0.        ],\n",
       "       [ 0.        ],\n",
       "       [ 0.        ],\n",
       "       [ 0.        ],\n",
       "       [ 0.        ],\n",
       "       [ 0.        ],\n",
       "       [ 0.        ],\n",
       "       [ 0.        ],\n",
       "       [ 0.        ],\n",
       "       [ 0.        ],\n",
       "       [ 0.        ],\n",
       "       [ 0.        ],\n",
       "       [ 0.        ],\n",
       "       [ 0.        ],\n",
       "       [ 0.        ],\n",
       "       [ 0.        ],\n",
       "       [ 0.        ],\n",
       "       [ 0.        ],\n",
       "       [ 0.        ],\n",
       "       [ 0.        ],\n",
       "       [ 0.        ],\n",
       "       [ 0.        ],\n",
       "       [ 0.        ],\n",
       "       [ 0.        ],\n",
       "       [ 0.        ],\n",
       "       [ 0.        ],\n",
       "       [ 0.        ],\n",
       "       [ 0.        ],\n",
       "       [ 0.        ],\n",
       "       [ 0.        ],\n",
       "       [ 4.49060362],\n",
       "       [ 0.        ],\n",
       "       [ 0.        ],\n",
       "       [ 0.        ],\n",
       "       [ 0.        ],\n",
       "       [ 0.        ],\n",
       "       [ 0.        ],\n",
       "       [ 0.        ],\n",
       "       [ 0.        ],\n",
       "       [ 0.        ],\n",
       "       [ 0.        ],\n",
       "       [ 0.        ],\n",
       "       [ 0.        ],\n",
       "       [ 0.        ],\n",
       "       [ 0.        ],\n",
       "       [ 0.        ],\n",
       "       [ 0.        ],\n",
       "       [ 0.        ],\n",
       "       [ 0.        ],\n",
       "       [ 0.        ],\n",
       "       [ 0.        ],\n",
       "       [ 0.        ],\n",
       "       [ 0.        ],\n",
       "       [ 0.        ],\n",
       "       [ 0.        ],\n",
       "       [ 0.        ],\n",
       "       [ 0.        ],\n",
       "       [ 0.        ],\n",
       "       [ 0.        ],\n",
       "       [ 0.        ],\n",
       "       [ 0.        ],\n",
       "       [ 0.        ],\n",
       "       [ 0.        ],\n",
       "       [ 0.        ],\n",
       "       [ 0.        ],\n",
       "       [ 0.        ],\n",
       "       [ 0.        ],\n",
       "       [ 0.        ],\n",
       "       [ 0.        ],\n",
       "       [ 0.        ],\n",
       "       [ 0.        ],\n",
       "       [ 0.        ],\n",
       "       [ 0.        ],\n",
       "       [ 0.        ],\n",
       "       [ 0.        ],\n",
       "       [ 0.        ],\n",
       "       [ 0.        ],\n",
       "       [ 0.        ],\n",
       "       [ 0.        ],\n",
       "       [ 0.        ],\n",
       "       [ 0.        ],\n",
       "       [ 0.        ],\n",
       "       [ 0.        ],\n",
       "       [ 0.        ],\n",
       "       [ 0.        ],\n",
       "       [ 0.        ],\n",
       "       [ 0.        ],\n",
       "       [ 0.        ],\n",
       "       [ 0.        ],\n",
       "       [ 0.        ],\n",
       "       [ 0.        ],\n",
       "       [ 0.        ],\n",
       "       [ 0.        ],\n",
       "       [ 0.        ],\n",
       "       [ 0.        ],\n",
       "       [ 0.        ],\n",
       "       [ 0.        ],\n",
       "       [ 0.        ],\n",
       "       [ 0.        ],\n",
       "       [ 0.        ],\n",
       "       [ 0.        ],\n",
       "       [ 0.        ],\n",
       "       [ 0.        ],\n",
       "       [ 0.        ],\n",
       "       [ 0.        ],\n",
       "       [ 0.        ],\n",
       "       [ 0.        ],\n",
       "       [ 0.        ],\n",
       "       [ 0.        ],\n",
       "       [ 0.        ],\n",
       "       [ 0.        ],\n",
       "       [ 0.        ],\n",
       "       [ 0.        ],\n",
       "       [ 0.        ],\n",
       "       [ 0.        ],\n",
       "       [ 0.        ],\n",
       "       [ 0.        ],\n",
       "       [ 0.        ],\n",
       "       [ 0.        ],\n",
       "       [ 0.        ],\n",
       "       [ 0.        ],\n",
       "       [ 0.        ],\n",
       "       [ 0.        ],\n",
       "       [ 0.        ],\n",
       "       [ 0.        ],\n",
       "       [ 0.        ],\n",
       "       [ 0.        ],\n",
       "       [ 0.        ],\n",
       "       [ 0.        ],\n",
       "       [ 0.        ],\n",
       "       [ 0.        ],\n",
       "       [ 0.        ],\n",
       "       [ 0.        ],\n",
       "       [ 0.        ],\n",
       "       [ 0.        ],\n",
       "       [ 0.        ],\n",
       "       [ 0.        ],\n",
       "       [ 0.        ],\n",
       "       [ 0.        ],\n",
       "       [ 0.        ],\n",
       "       [ 0.        ],\n",
       "       [ 0.        ],\n",
       "       [ 0.        ],\n",
       "       [ 0.        ],\n",
       "       [ 0.        ],\n",
       "       [ 0.        ],\n",
       "       [ 0.        ],\n",
       "       [ 0.        ],\n",
       "       [ 0.        ],\n",
       "       [ 0.        ],\n",
       "       [ 0.        ],\n",
       "       [ 0.        ],\n",
       "       [ 0.        ],\n",
       "       [ 0.        ],\n",
       "       [ 0.        ],\n",
       "       [ 0.        ],\n",
       "       [ 0.        ],\n",
       "       [ 0.        ],\n",
       "       [ 0.        ],\n",
       "       [ 0.        ],\n",
       "       [ 0.        ],\n",
       "       [ 4.6212751 ],\n",
       "       [ 0.        ],\n",
       "       [ 0.        ],\n",
       "       [ 0.        ],\n",
       "       [ 0.        ],\n",
       "       [ 0.        ],\n",
       "       [ 0.        ],\n",
       "       [ 0.        ],\n",
       "       [ 0.        ],\n",
       "       [ 0.        ],\n",
       "       [ 0.        ],\n",
       "       [ 0.        ],\n",
       "       [ 0.        ],\n",
       "       [ 0.        ],\n",
       "       [ 0.        ],\n",
       "       [ 0.        ],\n",
       "       [ 0.        ],\n",
       "       [ 0.        ],\n",
       "       [ 0.        ],\n",
       "       [ 0.        ],\n",
       "       [ 0.        ],\n",
       "       [ 0.        ],\n",
       "       [ 0.        ],\n",
       "       [ 0.        ],\n",
       "       [ 0.        ],\n",
       "       [ 0.        ],\n",
       "       [ 0.        ],\n",
       "       [ 0.        ],\n",
       "       [ 0.        ],\n",
       "       [ 0.        ],\n",
       "       [ 0.        ],\n",
       "       [ 0.        ],\n",
       "       [ 0.        ],\n",
       "       [ 0.        ],\n",
       "       [ 0.        ],\n",
       "       [ 0.        ],\n",
       "       [ 4.70640683],\n",
       "       [ 0.        ],\n",
       "       [ 0.        ],\n",
       "       [ 0.        ],\n",
       "       [ 0.        ],\n",
       "       [ 0.        ],\n",
       "       [ 0.        ],\n",
       "       [ 0.        ],\n",
       "       [ 0.        ],\n",
       "       [ 0.        ],\n",
       "       [ 0.        ],\n",
       "       [ 0.        ],\n",
       "       [ 0.        ],\n",
       "       [ 0.        ],\n",
       "       [ 0.        ],\n",
       "       [ 0.        ],\n",
       "       [ 0.        ],\n",
       "       [ 0.        ],\n",
       "       [ 0.        ],\n",
       "       [ 0.        ],\n",
       "       [ 0.        ],\n",
       "       [ 0.        ],\n",
       "       [ 0.        ],\n",
       "       [ 0.        ],\n",
       "       [ 0.        ],\n",
       "       [ 0.        ],\n",
       "       [ 0.        ],\n",
       "       [ 0.        ],\n",
       "       [ 0.        ],\n",
       "       [ 0.        ],\n",
       "       [ 0.        ],\n",
       "       [ 0.        ],\n",
       "       [ 0.        ],\n",
       "       [ 0.        ],\n",
       "       [ 0.        ],\n",
       "       [ 0.        ],\n",
       "       [ 0.        ],\n",
       "       [ 0.        ],\n",
       "       [ 0.        ],\n",
       "       [ 0.        ],\n",
       "       [ 0.        ],\n",
       "       [ 0.        ],\n",
       "       [ 0.        ],\n",
       "       [ 0.        ],\n",
       "       [ 0.        ],\n",
       "       [ 0.        ],\n",
       "       [ 0.        ],\n",
       "       [ 0.        ],\n",
       "       [ 0.        ],\n",
       "       [ 0.        ],\n",
       "       [ 0.        ],\n",
       "       [ 0.        ],\n",
       "       [ 0.        ],\n",
       "       [ 0.        ],\n",
       "       [ 0.        ],\n",
       "       [ 0.        ],\n",
       "       [ 0.        ],\n",
       "       [ 0.        ],\n",
       "       [ 0.        ],\n",
       "       [ 0.        ],\n",
       "       [ 0.        ],\n",
       "       [ 0.        ],\n",
       "       [ 0.        ],\n",
       "       [ 0.        ],\n",
       "       [ 0.        ],\n",
       "       [ 0.        ],\n",
       "       [ 0.        ],\n",
       "       [ 0.        ],\n",
       "       [ 0.        ],\n",
       "       [ 0.        ],\n",
       "       [ 0.        ],\n",
       "       [ 0.        ],\n",
       "       [ 0.        ],\n",
       "       [ 0.        ],\n",
       "       [ 0.        ],\n",
       "       [ 0.        ],\n",
       "       [ 0.        ],\n",
       "       [ 0.        ],\n",
       "       [ 0.        ],\n",
       "       [ 0.        ],\n",
       "       [ 0.        ],\n",
       "       [ 0.        ],\n",
       "       [ 0.        ],\n",
       "       [ 0.        ],\n",
       "       [ 0.        ],\n",
       "       [ 0.        ],\n",
       "       [ 0.        ],\n",
       "       [ 0.        ],\n",
       "       [ 0.        ],\n",
       "       [ 0.        ],\n",
       "       [ 0.        ],\n",
       "       [ 0.        ],\n",
       "       [ 0.        ],\n",
       "       [ 0.        ],\n",
       "       [ 0.        ],\n",
       "       [ 0.        ],\n",
       "       [ 0.        ],\n",
       "       [ 0.        ],\n",
       "       [ 0.        ],\n",
       "       [ 0.        ],\n",
       "       [ 0.        ],\n",
       "       [ 0.        ],\n",
       "       [ 0.        ],\n",
       "       [ 0.        ],\n",
       "       [ 0.        ],\n",
       "       [ 0.        ],\n",
       "       [ 0.        ],\n",
       "       [ 0.        ],\n",
       "       [ 0.        ],\n",
       "       [ 0.        ],\n",
       "       [ 0.        ],\n",
       "       [ 0.        ],\n",
       "       [ 0.        ],\n",
       "       [ 0.        ],\n",
       "       [ 0.        ],\n",
       "       [ 0.        ],\n",
       "       [ 0.        ],\n",
       "       [ 0.        ],\n",
       "       [ 0.        ],\n",
       "       [ 0.        ],\n",
       "       [ 0.        ],\n",
       "       [ 0.        ],\n",
       "       [ 0.        ],\n",
       "       [ 0.        ],\n",
       "       [ 0.        ],\n",
       "       [ 0.        ],\n",
       "       [ 0.        ],\n",
       "       [ 0.        ],\n",
       "       [ 0.        ],\n",
       "       [ 0.        ],\n",
       "       [ 0.        ],\n",
       "       [ 0.        ],\n",
       "       [ 0.        ],\n",
       "       [ 0.        ],\n",
       "       [ 0.        ],\n",
       "       [ 0.        ],\n",
       "       [ 0.        ],\n",
       "       [ 0.        ],\n",
       "       [ 0.        ],\n",
       "       [ 0.        ],\n",
       "       [ 0.        ],\n",
       "       [ 0.        ],\n",
       "       [ 0.        ],\n",
       "       [ 0.        ],\n",
       "       [ 0.        ],\n",
       "       [ 0.        ],\n",
       "       [ 0.        ],\n",
       "       [ 0.        ],\n",
       "       [ 0.        ],\n",
       "       [ 4.95844265],\n",
       "       [ 0.        ],\n",
       "       [ 0.        ],\n",
       "       [ 0.        ],\n",
       "       [ 0.        ],\n",
       "       [ 0.        ],\n",
       "       [ 0.        ],\n",
       "       [ 0.        ],\n",
       "       [ 0.        ],\n",
       "       [ 0.        ],\n",
       "       [ 0.        ],\n",
       "       [ 4.98337441],\n",
       "       [ 0.        ],\n",
       "       [ 0.        ],\n",
       "       [ 0.        ],\n",
       "       [ 0.        ],\n",
       "       [ 0.        ],\n",
       "       [ 0.        ],\n",
       "       [ 0.        ],\n",
       "       [ 0.        ],\n",
       "       [ 0.        ],\n",
       "       [ 0.        ],\n",
       "       [ 0.        ],\n",
       "       [ 0.        ],\n",
       "       [ 0.        ],\n",
       "       [ 0.        ],\n",
       "       [ 0.        ],\n",
       "       [ 0.        ],\n",
       "       [ 0.        ],\n",
       "       [ 0.        ],\n",
       "       [ 0.        ],\n",
       "       [ 0.        ],\n",
       "       [ 0.        ],\n",
       "       [ 0.        ],\n",
       "       [ 0.        ],\n",
       "       [ 0.        ],\n",
       "       [ 0.        ],\n",
       "       [ 0.        ],\n",
       "       [ 0.        ],\n",
       "       [ 0.        ],\n",
       "       [ 0.        ],\n",
       "       [ 0.        ],\n",
       "       [ 0.        ],\n",
       "       [ 0.        ],\n",
       "       [ 0.        ],\n",
       "       [ 0.        ],\n",
       "       [ 0.        ],\n",
       "       [ 0.        ],\n",
       "       [ 0.        ],\n",
       "       [ 0.        ],\n",
       "       [ 0.        ],\n",
       "       [ 0.        ],\n",
       "       [ 0.        ],\n",
       "       [ 0.        ],\n",
       "       [ 0.        ],\n",
       "       [ 0.        ],\n",
       "       [ 0.        ],\n",
       "       [ 0.        ],\n",
       "       [ 0.        ],\n",
       "       [ 0.        ],\n",
       "       [ 0.        ],\n",
       "       [ 0.        ],\n",
       "       [ 0.        ],\n",
       "       [ 0.        ],\n",
       "       [ 0.        ],\n",
       "       [ 0.        ],\n",
       "       [ 0.        ],\n",
       "       [ 0.        ],\n",
       "       [ 0.        ],\n",
       "       [ 0.        ],\n",
       "       [ 0.        ],\n",
       "       [ 0.        ],\n",
       "       [ 0.        ],\n",
       "       [ 0.        ],\n",
       "       [ 0.        ],\n",
       "       [ 0.        ],\n",
       "       [ 0.        ],\n",
       "       [ 0.        ],\n",
       "       [ 0.        ],\n",
       "       [ 0.        ],\n",
       "       [ 0.        ],\n",
       "       [ 0.        ],\n",
       "       [ 0.        ],\n",
       "       [ 0.        ],\n",
       "       [ 0.        ],\n",
       "       [ 0.        ],\n",
       "       [ 0.        ],\n",
       "       [ 0.        ],\n",
       "       [ 0.        ],\n",
       "       [ 0.        ],\n",
       "       [ 0.        ],\n",
       "       [ 0.        ],\n",
       "       [ 0.        ],\n",
       "       [ 0.        ],\n",
       "       [ 0.        ],\n",
       "       [ 0.        ],\n",
       "       [ 0.        ],\n",
       "       [ 0.        ],\n",
       "       [ 0.        ],\n",
       "       [ 0.        ],\n",
       "       [ 0.        ],\n",
       "       [ 0.        ],\n",
       "       [ 0.        ],\n",
       "       [ 0.        ],\n",
       "       [ 0.        ],\n",
       "       [ 0.        ],\n",
       "       [ 0.        ],\n",
       "       [ 0.        ],\n",
       "       [ 0.        ],\n",
       "       [ 0.        ],\n",
       "       [ 0.        ],\n",
       "       [ 0.        ],\n",
       "       [ 0.        ],\n",
       "       [ 0.        ],\n",
       "       [ 0.        ],\n",
       "       [ 0.        ],\n",
       "       [ 0.        ],\n",
       "       [ 0.        ],\n",
       "       [ 0.        ],\n",
       "       [ 0.        ],\n",
       "       [ 0.        ],\n",
       "       [ 0.        ],\n",
       "       [ 0.        ],\n",
       "       [ 0.        ],\n",
       "       [ 0.        ],\n",
       "       [ 0.        ],\n",
       "       [ 0.        ],\n",
       "       [ 0.        ],\n",
       "       [ 0.        ],\n",
       "       [ 0.        ],\n",
       "       [ 0.        ],\n",
       "       [ 0.        ],\n",
       "       [ 0.        ],\n",
       "       [ 0.        ],\n",
       "       [ 0.        ],\n",
       "       [ 0.        ],\n",
       "       [ 0.        ],\n",
       "       [ 0.        ],\n",
       "       [ 0.        ],\n",
       "       [ 0.        ],\n",
       "       [ 0.        ],\n",
       "       [ 0.        ],\n",
       "       [ 0.        ],\n",
       "       [ 0.        ],\n",
       "       [ 0.        ],\n",
       "       [ 0.        ],\n",
       "       [ 0.        ],\n",
       "       [ 0.        ],\n",
       "       [ 0.        ],\n",
       "       [ 0.        ],\n",
       "       [ 0.        ],\n",
       "       [ 0.        ],\n",
       "       [ 0.        ],\n",
       "       [ 0.        ],\n",
       "       [ 0.        ],\n",
       "       [ 0.        ],\n",
       "       [ 0.        ],\n",
       "       [ 0.        ],\n",
       "       [ 0.        ],\n",
       "       [ 0.        ],\n",
       "       [ 0.        ],\n",
       "       [ 0.        ],\n",
       "       [ 0.        ],\n",
       "       [ 0.        ],\n",
       "       [ 0.        ],\n",
       "       [ 0.        ],\n",
       "       [ 0.        ],\n",
       "       [ 0.        ],\n",
       "       [ 0.        ],\n",
       "       [ 0.        ],\n",
       "       [ 0.        ],\n",
       "       [ 0.        ],\n",
       "       [ 0.        ],\n",
       "       [ 0.        ],\n",
       "       [ 0.        ],\n",
       "       [ 0.        ],\n",
       "       [ 0.        ],\n",
       "       [ 0.        ],\n",
       "       [ 0.        ],\n",
       "       [ 0.        ],\n",
       "       [ 0.        ],\n",
       "       [ 0.        ],\n",
       "       [ 0.        ],\n",
       "       [ 0.        ],\n",
       "       [ 0.        ],\n",
       "       [ 0.        ],\n",
       "       [ 0.        ],\n",
       "       [ 0.        ],\n",
       "       [ 0.        ],\n",
       "       [ 0.        ],\n",
       "       [ 0.        ],\n",
       "       [ 0.        ],\n",
       "       [ 0.        ],\n",
       "       [ 0.        ],\n",
       "       [ 0.        ],\n",
       "       [ 0.        ],\n",
       "       [ 0.        ],\n",
       "       [ 0.        ],\n",
       "       [ 0.        ],\n",
       "       [ 0.        ],\n",
       "       [ 0.        ],\n",
       "       [ 0.        ],\n",
       "       [ 0.        ],\n",
       "       [ 0.        ],\n",
       "       [ 0.        ],\n",
       "       [ 0.        ],\n",
       "       [ 0.        ],\n",
       "       [ 0.        ],\n",
       "       [ 0.        ],\n",
       "       [ 0.        ],\n",
       "       [ 0.        ],\n",
       "       [ 0.        ],\n",
       "       [ 0.        ],\n",
       "       [ 0.        ],\n",
       "       [ 0.        ],\n",
       "       [ 0.        ],\n",
       "       [ 0.        ],\n",
       "       [ 0.        ],\n",
       "       [ 0.        ],\n",
       "       [ 0.        ],\n",
       "       [ 0.        ],\n",
       "       [ 0.        ],\n",
       "       [ 0.        ],\n",
       "       [ 0.        ],\n",
       "       [ 0.        ],\n",
       "       [ 0.        ],\n",
       "       [ 0.        ],\n",
       "       [ 0.        ],\n",
       "       [ 0.        ],\n",
       "       [ 0.        ],\n",
       "       [ 0.        ],\n",
       "       [ 0.        ],\n",
       "       [ 0.        ],\n",
       "       [ 0.        ],\n",
       "       [ 0.        ],\n",
       "       [ 0.        ],\n",
       "       [ 0.        ],\n",
       "       [ 0.        ],\n",
       "       [ 0.        ],\n",
       "       [ 0.        ],\n",
       "       [ 0.        ],\n",
       "       [ 0.        ],\n",
       "       [ 0.        ],\n",
       "       [ 0.        ],\n",
       "       [ 0.        ],\n",
       "       [ 0.        ],\n",
       "       [ 0.        ],\n",
       "       [ 0.        ],\n",
       "       [ 0.        ],\n",
       "       [ 0.        ],\n",
       "       [ 0.        ],\n",
       "       [ 0.        ],\n",
       "       [ 0.        ],\n",
       "       [ 0.        ],\n",
       "       [ 0.        ],\n",
       "       [ 0.        ],\n",
       "       [ 0.        ],\n",
       "       [ 0.        ],\n",
       "       [ 0.        ],\n",
       "       [ 0.        ],\n",
       "       [ 0.        ],\n",
       "       [ 0.        ],\n",
       "       [ 0.        ],\n",
       "       [ 0.        ],\n",
       "       [ 0.        ],\n",
       "       [ 0.        ],\n",
       "       [ 0.        ],\n",
       "       [ 0.        ],\n",
       "       [ 0.        ]])"
      ]
     },
     "execution_count": 478,
     "metadata": {},
     "output_type": "execute_result"
    }
   ],
   "source": [
    "x_train_toxic_m2[0]"
   ]
  },
  {
   "cell_type": "code",
   "execution_count": 479,
   "metadata": {},
   "outputs": [
    {
     "data": {
      "text/plain": [
       "(4277, 1000, 1)"
      ]
     },
     "execution_count": 479,
     "metadata": {},
     "output_type": "execute_result"
    }
   ],
   "source": [
    "x_test_toxic_m2 = x_test_toxic_m1.reshape(x_test_toxic_m1.shape[0], x_test_toxic_m1.shape[1], 1)\n",
    "x_test_toxic_m2.shape"
   ]
  },
  {
   "cell_type": "code",
   "execution_count": 480,
   "metadata": {},
   "outputs": [
    {
     "name": "stdout",
     "output_type": "stream",
     "text": [
      "Model: \"multilabel_model\"\n",
      "__________________________________________________________________________________________________\n",
      "Layer (type)                    Output Shape         Param #     Connected to                     \n",
      "==================================================================================================\n",
      "multilabel (InputLayer)         [(None, 1000, 1)]    0                                            \n",
      "__________________________________________________________________________________________________\n",
      "conv1d_35 (Conv1D)              (None, 996, 128)     768         multilabel[0][0]                 \n",
      "__________________________________________________________________________________________________\n",
      "global_max_pooling1d_30 (Global (None, 128)          0           conv1d_35[0][0]                  \n",
      "__________________________________________________________________________________________________\n",
      "flatten_56 (Flatten)            (None, 1000)         0           multilabel[0][0]                 \n",
      "__________________________________________________________________________________________________\n",
      "flatten_55 (Flatten)            (None, 128)          0           global_max_pooling1d_30[0][0]    \n",
      "__________________________________________________________________________________________________\n",
      "dense_142 (Dense)               (None, 32)           32032       flatten_56[0][0]                 \n",
      "__________________________________________________________________________________________________\n",
      "concatenate_26 (Concatenate)    (None, 160)          0           flatten_55[0][0]                 \n",
      "                                                                 dense_142[0][0]                  \n",
      "__________________________________________________________________________________________________\n",
      "dense_143 (Dense)               (None, 32)           5152        concatenate_26[0][0]             \n",
      "__________________________________________________________________________________________________\n",
      "dense_144 (Dense)               (None, 5)            165         dense_143[0][0]                  \n",
      "==================================================================================================\n",
      "Total params: 38,117\n",
      "Trainable params: 38,117\n",
      "Non-trainable params: 0\n",
      "__________________________________________________________________________________________________\n"
     ]
    }
   ],
   "source": [
    "filters = 128\n",
    "kernel_size = 5\n",
    "\n",
    "inputs = keras.Input(shape=(1000,1), name='multilabel')\n",
    "x = layers.Conv1D(filters, kernel_size, activation='relu')(inputs)\n",
    "x = layers.GlobalMaxPooling1D()(x)\n",
    "branch1_output = layers.Flatten()(x)\n",
    "x = layers.Flatten()(inputs)\n",
    "branch2_output = layers.Dense(32, activation='relu')(x)\n",
    "x = layers.concatenate([branch1_output, branch2_output])\n",
    "x = layers.Dense(32, activation='relu')(x)\n",
    "outputs = layers.Dense(5, activation='sigmoid')(x)\n",
    "\n",
    "model = keras.Model(inputs=inputs, \n",
    "                    outputs=outputs, \n",
    "                    name='multilabel_model')\n",
    "model.summary()"
   ]
  },
  {
   "cell_type": "code",
   "execution_count": 481,
   "metadata": {},
   "outputs": [
    {
     "data": {
      "image/png": "[encoded data removed]",
      "text/plain": [
       "<IPython.core.display.Image object>"
      ]
     },
     "execution_count": 481,
     "metadata": {},
     "output_type": "execute_result"
    }
   ],
   "source": [
    "keras.utils.plot_model(model, 'multilabel_model.png', show_shapes=True)"
   ]
  },
  {
   "cell_type": "code",
   "execution_count": 482,
   "metadata": {},
   "outputs": [
    {
     "data": {
      "text/plain": [
       "array([[0, 1, 0, 1, 0],\n",
       "       [0, 0, 0, 1, 0],\n",
       "       [0, 1, 0, 1, 0],\n",
       "       ...,\n",
       "       [0, 0, 0, 0, 0],\n",
       "       [0, 1, 0, 0, 0],\n",
       "       [1, 1, 0, 1, 0]], dtype=int64)"
      ]
     },
     "execution_count": 482,
     "metadata": {},
     "output_type": "execute_result"
    }
   ],
   "source": [
    "y_train_toxic.values"
   ]
  },
  {
   "cell_type": "code",
   "execution_count": 483,
   "metadata": {},
   "outputs": [
    {
     "data": {
      "text/plain": [
       "array([[0, 0, 0, 1, 1],\n",
       "       [0, 0, 0, 1, 0],\n",
       "       [0, 1, 0, 0, 0],\n",
       "       ...,\n",
       "       [0, 1, 0, 1, 0],\n",
       "       [0, 1, 0, 1, 0],\n",
       "       [0, 1, 0, 0, 0]], dtype=int64)"
      ]
     },
     "execution_count": 483,
     "metadata": {},
     "output_type": "execute_result"
    }
   ],
   "source": [
    "y_test_toxic.values"
   ]
  },
  {
   "cell_type": "code",
   "execution_count": 484,
   "metadata": {},
   "outputs": [
    {
     "name": "stdout",
     "output_type": "stream",
     "text": [
      "Train on 13684 samples, validate on 3422 samples\n",
      "Epoch 1/2\n",
      "13684/13684 [==============================] - 15s 1ms/sample - loss: 0.3999 - accuracy: 0.8202 - val_loss: 0.3436 - val_accuracy: 0.8527\n",
      "Epoch 2/2\n",
      "13684/13684 [==============================] - 16s 1ms/sample - loss: 0.3181 - accuracy: 0.8630 - val_loss: 0.3224 - val_accuracy: 0.8624\n",
      "4277/1 - 2s - loss: 0.3631 - accuracy: 0.8620\n",
      "Test loss: 0.32349683005368846\n",
      "Test accuracy: 0.86200595\n"
     ]
    }
   ],
   "source": [
    "model.compile(loss='binary_crossentropy',\n",
    "              optimizer='adam',\n",
    "              metrics=['accuracy'])\n",
    "\n",
    "batch_size = 32\n",
    "epochs = 2\n",
    "\n",
    "history = model.fit(x=x_train_toxic_m2, \n",
    "                    y=y_train_toxic.values,\n",
    "                    batch_size=batch_size,\n",
    "                    epochs=epochs,\n",
    "                    validation_split=0.2)\n",
    "\n",
    "test_scores = model.evaluate(x=x_test_toxic_m2, \n",
    "                             y=y_test_toxic.values,\n",
    "                             verbose=2)\n",
    "print('Test loss:', test_scores[0])\n",
    "print('Test accuracy:', test_scores[1])"
   ]
  },
  {
   "cell_type": "code",
   "execution_count": 485,
   "metadata": {},
   "outputs": [],
   "source": [
    "y_pred = model.predict(x_test_toxic_m2)"
   ]
  },
  {
   "cell_type": "code",
   "execution_count": 486,
   "metadata": {},
   "outputs": [],
   "source": [
    "y_pred1 = np.round(y_pred).astype(int)"
   ]
  },
  {
   "cell_type": "code",
   "execution_count": 487,
   "metadata": {},
   "outputs": [
    {
     "data": {
      "text/plain": [
       "(4277, 5)"
      ]
     },
     "execution_count": 487,
     "metadata": {},
     "output_type": "execute_result"
    }
   ],
   "source": [
    "y_pred1.shape"
   ]
  },
  {
   "cell_type": "code",
   "execution_count": 488,
   "metadata": {},
   "outputs": [
    {
     "data": {
      "text/plain": [
       "array([[0, 0, 0, 0, 0],\n",
       "       [0, 0, 0, 0, 0],\n",
       "       [0, 0, 0, 0, 0],\n",
       "       ...,\n",
       "       [0, 1, 0, 0, 0],\n",
       "       [0, 1, 0, 1, 0],\n",
       "       [0, 1, 0, 1, 0]])"
      ]
     },
     "execution_count": 488,
     "metadata": {},
     "output_type": "execute_result"
    }
   ],
   "source": [
    "y_pred1"
   ]
  },
  {
   "cell_type": "code",
   "execution_count": 489,
   "metadata": {},
   "outputs": [
    {
     "data": {
      "text/plain": [
       "array([[0, 0, 0, 1, 1],\n",
       "       [0, 0, 0, 1, 0],\n",
       "       [0, 1, 0, 0, 0],\n",
       "       ...,\n",
       "       [0, 1, 0, 1, 0],\n",
       "       [0, 1, 0, 1, 0],\n",
       "       [0, 1, 0, 0, 0]], dtype=int64)"
      ]
     },
     "execution_count": 489,
     "metadata": {},
     "output_type": "execute_result"
    }
   ],
   "source": [
    "y_true = y_test_toxic.values\n",
    "y_true"
   ]
  },
  {
   "cell_type": "code",
   "execution_count": 490,
   "metadata": {},
   "outputs": [
    {
     "name": "stdout",
     "output_type": "stream",
     "text": [
      "[[[3810   71]\n",
      "  [ 301   95]]\n",
      "\n",
      " [[1562  459]\n",
      "  [ 444 1812]]\n",
      "\n",
      " [[4149   11]\n",
      "  [ 111    6]]\n",
      "\n",
      " [[1673  486]\n",
      "  [ 726 1392]]\n",
      "\n",
      " [[3884   10]\n",
      "  [ 332   51]]]\n"
     ]
    }
   ],
   "source": [
    "# confusion matrix\n",
    "mcm = multilabel_confusion_matrix(y_true, y_pred1)\n",
    "print(mcm)"
   ]
  },
  {
   "cell_type": "code",
   "execution_count": 491,
   "metadata": {},
   "outputs": [
    {
     "name": "stdout",
     "output_type": "stream",
     "text": [
      "[95, 1812, 6, 1392, 51]\n",
      "[71, 459, 11, 486, 10]\n",
      "[301, 444, 111, 726, 332]\n",
      "[3810, 1562, 4149, 1673, 3884]\n"
     ]
    }
   ],
   "source": [
    "# TP, FP, FN, TN\n",
    "\n",
    "TP = list()\n",
    "FP = list()\n",
    "FN = list()\n",
    "TN = list()\n",
    "\n",
    "no_of_labels = 5\n",
    "\n",
    "for i in range(no_of_labels):\n",
    "    TN_i = mcm[i][0][0]\n",
    "    FP_i = mcm[i][0][1]\n",
    "    FN_i = mcm[i][1][0]\n",
    "    TP_i = mcm[i][1][1]\n",
    "    \n",
    "    TP.append(TP_i)\n",
    "    FP.append(FP_i)\n",
    "    FN.append(FN_i)\n",
    "    TN.append(TN_i)\n",
    "    \n",
    "print(TP)\n",
    "print(FP)\n",
    "print(FN)\n",
    "print(TN)\n",
    "\n",
    "# e.g. TP for label 0 ==> TP[0]"
   ]
  },
  {
   "cell_type": "code",
   "execution_count": 492,
   "metadata": {},
   "outputs": [
    {
     "name": "stdout",
     "output_type": "stream",
     "text": [
      "[0.9130231470657002, 0.7888707037643208, 0.9714753331774608, 0.7166238017301847, 0.9200374093991115]\n"
     ]
    }
   ],
   "source": [
    "# accuracy\n",
    "\n",
    "accuracy = list()\n",
    "for i in range(no_of_labels):\n",
    "    accuracy_i = (TP[i] + TN[i]) / (TP[i] + FP[i] + FN[i] + TN[i])\n",
    "    accuracy.append(accuracy_i)\n",
    "\n",
    "print(accuracy)"
   ]
  },
  {
   "cell_type": "code",
   "execution_count": 493,
   "metadata": {},
   "outputs": [
    {
     "name": "stdout",
     "output_type": "stream",
     "text": [
      "0.8620060790273556\n"
     ]
    }
   ],
   "source": [
    "# average accuracy\n",
    "\n",
    "avg_accuracy = sum(accuracy) / no_of_labels\n",
    "print(avg_accuracy)"
   ]
  },
  {
   "cell_type": "code",
   "execution_count": 494,
   "metadata": {},
   "outputs": [
    {
     "name": "stdout",
     "output_type": "stream",
     "text": [
      "[0.572289156626506, 0.797886393659181, 0.35294117647058826, 0.7412140575079872, 0.8360655737704918]\n",
      "[0.2398989898989899, 0.8031914893617021, 0.05128205128205128, 0.6572237960339944, 0.13315926892950392]\n",
      "[0.33807829181494664, 0.8005301524188204, 0.08955223880597016, 0.6966966966966968, 0.22972972972972974]\n"
     ]
    }
   ],
   "source": [
    "# precision, recall, f1 score\n",
    "\n",
    "precision = list()\n",
    "recall = list()\n",
    "f1_score = list()\n",
    "\n",
    "for i in range(no_of_labels):\n",
    "    precision_i = (TP[i]) / ((TP[i] + FP[i]) or not (TP[i] + FP[i]))\n",
    "    precision.append(precision_i)\n",
    "    \n",
    "    recall_i = (TP[i]) / ((TP[i] + FN[i]) or not (TP[i] + FN[i]))\n",
    "    recall.append(recall_i)\n",
    "    \n",
    "    f1_score_i = (2 * precision_i * recall_i) / ((precision_i + recall_i) or not (precision_i + recall_i))\n",
    "    f1_score.append(f1_score_i)\n",
    "    \n",
    "print(precision)\n",
    "print(recall)\n",
    "print(f1_score)"
   ]
  },
  {
   "cell_type": "code",
   "execution_count": 495,
   "metadata": {},
   "outputs": [
    {
     "name": "stdout",
     "output_type": "stream",
     "text": [
      "0.763942636011837\n",
      "0.6368121442125237\n",
      "0.6946082996998861\n"
     ]
    }
   ],
   "source": [
    "# micro averaging\n",
    "\n",
    "micro_precision = sum(TP) / (sum(TP) + sum(FP))\n",
    "micro_recall = sum(TP) / (sum(TP) + sum(FN))\n",
    "micro_f1_score = (2 * micro_precision * micro_recall) / (micro_precision + micro_recall)\n",
    "\n",
    "print(micro_precision)\n",
    "print(micro_recall)\n",
    "print(micro_f1_score)"
   ]
  },
  {
   "cell_type": "code",
   "execution_count": null,
   "metadata": {},
   "outputs": [],
   "source": []
  },
  {
   "cell_type": "code",
   "execution_count": 436,
   "metadata": {},
   "outputs": [
    {
     "name": "stdout",
     "output_type": "stream",
     "text": [
      "41126\n",
      "When fagot decide edit wikipedia tough call edit tattoo word loser forehead Tattoo might less embarrass Later asslickers\n",
      "[ 0.         27.21195799  0.         ...  0.          0.\n",
      "  0.        ]\n"
     ]
    }
   ],
   "source": [
    "# texts_to_matrix\n",
    "tokenizer = Tokenizer(num_words=4000, \n",
    "                      filters='\"#$%&()*+,-./:;<=>?@[\\\\]^_`{|}~\\t\\n', # omit !\n",
    "                      lower=False, \n",
    "                      char_level=False,\n",
    "                      oov_token=True) # reserve token for unknown words in test set\n",
    "\n",
    "tokenizer.fit_on_texts(x_train_toxic1)\n",
    "\n",
    "x_train_toxic_m1 = tokenizer.texts_to_matrix(x_train_toxic1, mode='tfidf')\n",
    "x_test_toxic_m1 = tokenizer.texts_to_matrix(x_test_toxic1, mode='tfidf')\n",
    "\n",
    "vocab_size = len(tokenizer.word_index) + 1\n",
    "print(vocab_size)\n",
    "\n",
    "print(x_train_toxic1[0])\n",
    "print(x_train_toxic_m1[0])"
   ]
  },
  {
   "cell_type": "code",
   "execution_count": 437,
   "metadata": {},
   "outputs": [
    {
     "data": {
      "text/plain": [
       "(17106, 4000, 1)"
      ]
     },
     "execution_count": 437,
     "metadata": {},
     "output_type": "execute_result"
    }
   ],
   "source": [
    "x_train_toxic_m2 = x_train_toxic_m1.reshape(x_train_toxic_m1.shape[0], x_train_toxic_m1.shape[1], 1)\n",
    "x_train_toxic_m2.shape"
   ]
  },
  {
   "cell_type": "code",
   "execution_count": 438,
   "metadata": {},
   "outputs": [
    {
     "data": {
      "text/plain": [
       "array([[ 0.        ],\n",
       "       [27.21195799],\n",
       "       [ 0.        ],\n",
       "       ...,\n",
       "       [ 0.        ],\n",
       "       [ 0.        ],\n",
       "       [ 0.        ]])"
      ]
     },
     "execution_count": 438,
     "metadata": {},
     "output_type": "execute_result"
    }
   ],
   "source": [
    "x_train_toxic_m2[0]"
   ]
  },
  {
   "cell_type": "code",
   "execution_count": 439,
   "metadata": {},
   "outputs": [
    {
     "data": {
      "text/plain": [
       "(4277, 4000, 1)"
      ]
     },
     "execution_count": 439,
     "metadata": {},
     "output_type": "execute_result"
    }
   ],
   "source": [
    "x_test_toxic_m2 = x_test_toxic_m1.reshape(x_test_toxic_m1.shape[0], x_test_toxic_m1.shape[1], 1)\n",
    "x_test_toxic_m2.shape"
   ]
  },
  {
   "cell_type": "code",
   "execution_count": 440,
   "metadata": {},
   "outputs": [
    {
     "name": "stdout",
     "output_type": "stream",
     "text": [
      "Model: \"multilabel_model\"\n",
      "__________________________________________________________________________________________________\n",
      "Layer (type)                    Output Shape         Param #     Connected to                     \n",
      "==================================================================================================\n",
      "multilabel (InputLayer)         [(None, 4000, 1)]    0                                            \n",
      "__________________________________________________________________________________________________\n",
      "conv1d_33 (Conv1D)              (None, 3996, 128)    768         multilabel[0][0]                 \n",
      "__________________________________________________________________________________________________\n",
      "global_max_pooling1d_28 (Global (None, 128)          0           conv1d_33[0][0]                  \n",
      "__________________________________________________________________________________________________\n",
      "flatten_52 (Flatten)            (None, 4000)         0           multilabel[0][0]                 \n",
      "__________________________________________________________________________________________________\n",
      "flatten_51 (Flatten)            (None, 128)          0           global_max_pooling1d_28[0][0]    \n",
      "__________________________________________________________________________________________________\n",
      "dense_136 (Dense)               (None, 32)           128032      flatten_52[0][0]                 \n",
      "__________________________________________________________________________________________________\n",
      "concatenate_24 (Concatenate)    (None, 160)          0           flatten_51[0][0]                 \n",
      "                                                                 dense_136[0][0]                  \n",
      "__________________________________________________________________________________________________\n",
      "dense_137 (Dense)               (None, 32)           5152        concatenate_24[0][0]             \n",
      "__________________________________________________________________________________________________\n",
      "dense_138 (Dense)               (None, 5)            165         dense_137[0][0]                  \n",
      "==================================================================================================\n",
      "Total params: 134,117\n",
      "Trainable params: 134,117\n",
      "Non-trainable params: 0\n",
      "__________________________________________________________________________________________________\n"
     ]
    }
   ],
   "source": [
    "filters = 128\n",
    "kernel_size = 5\n",
    "\n",
    "inputs = keras.Input(shape=(4000,1), name='multilabel')\n",
    "x = layers.Conv1D(filters, kernel_size, activation='relu')(inputs)\n",
    "x = layers.GlobalMaxPooling1D()(x)\n",
    "branch1_output = layers.Flatten()(x)\n",
    "x = layers.Flatten()(inputs)\n",
    "branch2_output = layers.Dense(32, activation='relu')(x)\n",
    "x = layers.concatenate([branch1_output, branch2_output])\n",
    "x = layers.Dense(32, activation='relu')(x)\n",
    "outputs = layers.Dense(5, activation='sigmoid')(x)\n",
    "\n",
    "model = keras.Model(inputs=inputs, \n",
    "                    outputs=outputs, \n",
    "                    name='multilabel_model')\n",
    "model.summary()"
   ]
  },
  {
   "cell_type": "code",
   "execution_count": 441,
   "metadata": {},
   "outputs": [
    {
     "data": {
      "image/png": "[encoded data removed]",
      "text/plain": [
       "<IPython.core.display.Image object>"
      ]
     },
     "execution_count": 441,
     "metadata": {},
     "output_type": "execute_result"
    }
   ],
   "source": [
    "keras.utils.plot_model(model, 'multilabel_model.png', show_shapes=True)"
   ]
  },
  {
   "cell_type": "code",
   "execution_count": 442,
   "metadata": {},
   "outputs": [
    {
     "data": {
      "text/plain": [
       "array([[0, 1, 0, 1, 0],\n",
       "       [0, 0, 0, 1, 0],\n",
       "       [0, 1, 0, 1, 0],\n",
       "       ...,\n",
       "       [0, 0, 0, 0, 0],\n",
       "       [0, 1, 0, 0, 0],\n",
       "       [1, 1, 0, 1, 0]], dtype=int64)"
      ]
     },
     "execution_count": 442,
     "metadata": {},
     "output_type": "execute_result"
    }
   ],
   "source": [
    "y_train_toxic.values"
   ]
  },
  {
   "cell_type": "code",
   "execution_count": 443,
   "metadata": {},
   "outputs": [
    {
     "data": {
      "text/plain": [
       "array([[0, 0, 0, 1, 1],\n",
       "       [0, 0, 0, 1, 0],\n",
       "       [0, 1, 0, 0, 0],\n",
       "       ...,\n",
       "       [0, 1, 0, 1, 0],\n",
       "       [0, 1, 0, 1, 0],\n",
       "       [0, 1, 0, 0, 0]], dtype=int64)"
      ]
     },
     "execution_count": 443,
     "metadata": {},
     "output_type": "execute_result"
    }
   ],
   "source": [
    "y_test_toxic.values"
   ]
  },
  {
   "cell_type": "code",
   "execution_count": 444,
   "metadata": {},
   "outputs": [
    {
     "name": "stdout",
     "output_type": "stream",
     "text": [
      "Train on 15395 samples, validate on 1711 samples\n",
      "Epoch 1/2\n",
      "15395/15395 [==============================] - 67s 4ms/sample - loss: 0.4049 - accuracy: 0.8204 - val_loss: 0.3399 - val_accuracy: 0.8547\n",
      "Epoch 2/2\n",
      "15395/15395 [==============================] - 74s 5ms/sample - loss: 0.2877 - accuracy: 0.8775 - val_loss: 0.3185 - val_accuracy: 0.8627\n",
      "4277/1 - 6s - loss: 0.3367 - accuracy: 0.8621\n",
      "Test loss: 0.3218163372911748\n",
      "Test accuracy: 0.8621463\n"
     ]
    }
   ],
   "source": [
    "model.compile(loss='binary_crossentropy',\n",
    "              optimizer='adam',\n",
    "              metrics=['accuracy'])\n",
    "\n",
    "batch_size = 32\n",
    "epochs = 2\n",
    "\n",
    "history = model.fit(x=x_train_toxic_m2, \n",
    "                    y=y_train_toxic.values,\n",
    "                    batch_size=batch_size,\n",
    "                    epochs=epochs,\n",
    "                    validation_split=0.1)\n",
    "\n",
    "test_scores = model.evaluate(x=x_test_toxic_m2, \n",
    "                             y=y_test_toxic.values,\n",
    "                             verbose=2)\n",
    "print('Test loss:', test_scores[0])\n",
    "print('Test accuracy:', test_scores[1])"
   ]
  },
  {
   "cell_type": "code",
   "execution_count": 445,
   "metadata": {},
   "outputs": [],
   "source": [
    "y_pred = model.predict(x_test_toxic_m2)"
   ]
  },
  {
   "cell_type": "code",
   "execution_count": 446,
   "metadata": {},
   "outputs": [],
   "source": [
    "y_pred1 = np.round(y_pred).astype(int)"
   ]
  },
  {
   "cell_type": "code",
   "execution_count": 447,
   "metadata": {},
   "outputs": [
    {
     "data": {
      "text/plain": [
       "(4277, 5)"
      ]
     },
     "execution_count": 447,
     "metadata": {},
     "output_type": "execute_result"
    }
   ],
   "source": [
    "y_pred1.shape"
   ]
  },
  {
   "cell_type": "code",
   "execution_count": 448,
   "metadata": {},
   "outputs": [
    {
     "data": {
      "text/plain": [
       "array([[0, 0, 0, 0, 0],\n",
       "       [0, 0, 0, 0, 0],\n",
       "       [0, 1, 0, 0, 0],\n",
       "       ...,\n",
       "       [0, 1, 0, 0, 0],\n",
       "       [0, 1, 0, 1, 0],\n",
       "       [0, 1, 0, 1, 0]])"
      ]
     },
     "execution_count": 448,
     "metadata": {},
     "output_type": "execute_result"
    }
   ],
   "source": [
    "y_pred1"
   ]
  },
  {
   "cell_type": "code",
   "execution_count": 449,
   "metadata": {},
   "outputs": [
    {
     "data": {
      "text/plain": [
       "array([[0, 0, 0, 1, 1],\n",
       "       [0, 0, 0, 1, 0],\n",
       "       [0, 1, 0, 0, 0],\n",
       "       ...,\n",
       "       [0, 1, 0, 1, 0],\n",
       "       [0, 1, 0, 1, 0],\n",
       "       [0, 1, 0, 0, 0]], dtype=int64)"
      ]
     },
     "execution_count": 449,
     "metadata": {},
     "output_type": "execute_result"
    }
   ],
   "source": [
    "y_true = y_test_toxic.values\n",
    "y_true"
   ]
  },
  {
   "cell_type": "code",
   "execution_count": 450,
   "metadata": {},
   "outputs": [
    {
     "name": "stdout",
     "output_type": "stream",
     "text": [
      "[[[3746  135]\n",
      "  [ 267  129]]\n",
      "\n",
      " [[1546  475]\n",
      "  [ 463 1793]]\n",
      "\n",
      " [[4137   23]\n",
      "  [  98   19]]\n",
      "\n",
      " [[1601  558]\n",
      "  [ 615 1503]]\n",
      "\n",
      " [[3826   68]\n",
      "  [ 246  137]]]\n"
     ]
    }
   ],
   "source": [
    "# confusion matrix\n",
    "mcm = multilabel_confusion_matrix(y_true, y_pred1)\n",
    "print(mcm)"
   ]
  },
  {
   "cell_type": "code",
   "execution_count": 451,
   "metadata": {},
   "outputs": [
    {
     "name": "stdout",
     "output_type": "stream",
     "text": [
      "[129, 1793, 19, 1503, 137]\n",
      "[135, 475, 23, 558, 68]\n",
      "[267, 463, 98, 615, 246]\n",
      "[3746, 1546, 4137, 1601, 3826]\n"
     ]
    }
   ],
   "source": [
    "# TP, FP, FN, TN\n",
    "\n",
    "TP = list()\n",
    "FP = list()\n",
    "FN = list()\n",
    "TN = list()\n",
    "\n",
    "no_of_labels = 5\n",
    "\n",
    "for i in range(no_of_labels):\n",
    "    TN_i = mcm[i][0][0]\n",
    "    FP_i = mcm[i][0][1]\n",
    "    FN_i = mcm[i][1][0]\n",
    "    TP_i = mcm[i][1][1]\n",
    "    \n",
    "    TP.append(TP_i)\n",
    "    FP.append(FP_i)\n",
    "    FN.append(FN_i)\n",
    "    TN.append(TN_i)\n",
    "    \n",
    "print(TP)\n",
    "print(FP)\n",
    "print(FN)\n",
    "print(TN)\n",
    "\n",
    "# e.g. TP for label 0 ==> TP[0]"
   ]
  },
  {
   "cell_type": "code",
   "execution_count": 452,
   "metadata": {},
   "outputs": [
    {
     "name": "stdout",
     "output_type": "stream",
     "text": [
      "[0.906008884732289, 0.7806873977086743, 0.9717091419219078, 0.7257423427636194, 0.9265840542436287]\n"
     ]
    }
   ],
   "source": [
    "# accuracy\n",
    "\n",
    "accuracy = list()\n",
    "for i in range(no_of_labels):\n",
    "    accuracy_i = (TP[i] + TN[i]) / (TP[i] + FP[i] + FN[i] + TN[i])\n",
    "    accuracy.append(accuracy_i)\n",
    "\n",
    "print(accuracy)"
   ]
  },
  {
   "cell_type": "code",
   "execution_count": 453,
   "metadata": {},
   "outputs": [
    {
     "name": "stdout",
     "output_type": "stream",
     "text": [
      "0.8621463642740238\n"
     ]
    }
   ],
   "source": [
    "# average accuracy\n",
    "\n",
    "avg_accuracy = sum(accuracy) / no_of_labels\n",
    "print(avg_accuracy)"
   ]
  },
  {
   "cell_type": "code",
   "execution_count": 454,
   "metadata": {},
   "outputs": [
    {
     "name": "stdout",
     "output_type": "stream",
     "text": [
      "[0.48863636363636365, 0.7905643738977073, 0.4523809523809524, 0.7292576419213974, 0.6682926829268293]\n",
      "[0.32575757575757575, 0.7947695035460993, 0.1623931623931624, 0.7096317280453258, 0.3577023498694517]\n",
      "[0.3909090909090909, 0.7926613616268788, 0.23899371069182387, 0.7193108399138551, 0.46598639455782315]\n"
     ]
    }
   ],
   "source": [
    "# precision, recall, f1 score\n",
    "\n",
    "precision = list()\n",
    "recall = list()\n",
    "f1_score = list()\n",
    "\n",
    "for i in range(no_of_labels):\n",
    "    precision_i = (TP[i]) / ((TP[i] + FP[i]) or not (TP[i] + FP[i]))\n",
    "    precision.append(precision_i)\n",
    "    \n",
    "    recall_i = (TP[i]) / ((TP[i] + FN[i]) or not (TP[i] + FN[i]))\n",
    "    recall.append(recall_i)\n",
    "    \n",
    "    f1_score_i = (2 * precision_i * recall_i) / ((precision_i + recall_i) or not (precision_i + recall_i))\n",
    "    f1_score.append(f1_score_i)\n",
    "    \n",
    "print(precision)\n",
    "print(recall)\n",
    "print(f1_score)"
   ]
  },
  {
   "cell_type": "code",
   "execution_count": 455,
   "metadata": {},
   "outputs": [
    {
     "name": "stdout",
     "output_type": "stream",
     "text": [
      "0.7398760330578512\n",
      "0.679506641366224\n",
      "0.7084075173095945\n"
     ]
    }
   ],
   "source": [
    "# micro averaging\n",
    "\n",
    "micro_precision = sum(TP) / (sum(TP) + sum(FP))\n",
    "micro_recall = sum(TP) / (sum(TP) + sum(FN))\n",
    "micro_f1_score = (2 * micro_precision * micro_recall) / (micro_precision + micro_recall)\n",
    "\n",
    "print(micro_precision)\n",
    "print(micro_recall)\n",
    "print(micro_f1_score)"
   ]
  },
  {
   "cell_type": "code",
   "execution_count": null,
   "metadata": {},
   "outputs": [],
   "source": []
  }
 ],
 "metadata": {
  "kernelspec": {
   "display_name": "Python 3",
   "language": "python",
   "name": "python3"
  },
  "language_info": {
   "codemirror_mode": {
    "name": "ipython",
    "version": 3
   },
   "file_extension": ".py",
   "mimetype": "text/x-python",
   "name": "python",
   "nbconvert_exporter": "python",
   "pygments_lexer": "ipython3",
   "version": "3.6.5"
  }
 },
 "nbformat": 4,
 "nbformat_minor": 2
}
